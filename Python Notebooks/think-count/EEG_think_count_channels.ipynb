{
 "cells": [
  {
   "cell_type": "markdown",
   "metadata": {},
   "source": [
    "## Determining channel importance\n",
    "PSD features, theta and alpha bands only"
   ]
  },
  {
   "cell_type": "code",
   "execution_count": 1,
   "metadata": {},
   "outputs": [],
   "source": [
    "#Import necessary libraries\n",
    "\n",
    "import pandas as pd\n",
    "import numpy as np\n",
    "from scipy import signal\n",
    "import os\n",
    "import matplotlib.pyplot as plt\n",
    "import matplotlib.patches as mpatches\n",
    "import pickle as pkl\n",
    "import itertools \n",
    "import glob\n",
    "from sklearn import svm \n",
    "from sklearn.preprocessing import StandardScaler\n",
    "from sklearn.model_selection import StratifiedShuffleSplit, GridSearchCV\n",
    "from sklearn.metrics import classification_report, confusion_matrix, plot_confusion_matrix, f1_score\n",
    "from sklearn.decomposition import PCA\n",
    "\n",
    "# %matplotlib inline \n",
    "%matplotlib qt\n"
   ]
  },
  {
   "cell_type": "code",
   "execution_count": 2,
   "metadata": {},
   "outputs": [],
   "source": [
    "#Import dataset\n",
    "t_auc_df = pd.read_pickle(\"F:\\EEG-data\\\\think-count\\\\featureExtraction\\AUC_only/AUC_df_1.pkl\")\n",
    "t_psd_df = pd.read_pickle(\"F:\\EEG-data\\\\think-count\\\\featureExtraction\\PSD_only/PSD_df_1.pkl\")\n",
    "a_auc_df = pd.read_pickle(\"F:\\EEG-data\\\\think-count\\\\featureExtraction\\AUC_only/AUC_df_2.pkl\")\n",
    "a_psd_df = pd.read_pickle(\"F:\\EEG-data\\\\think-count\\\\featureExtraction\\PSD_only/PSD_df_2.pkl\")"
   ]
  },
  {
   "cell_type": "code",
   "execution_count": 3,
   "metadata": {
    "tags": [
     "outputPrepend",
     "outputPrepend"
    ]
   },
   "outputs": [],
   "source": [
    "def apply_SVM_channel(auc_df,psd_df):\n",
    "    channels_list = []\n",
    "    f1_scores = []\n",
    "\n",
    "    sss = StratifiedShuffleSplit(n_splits=5,test_size=0.2,random_state=0)\n",
    "    # bestF1 = {'F1 Score':0,'dataset':'','params':''}\n",
    "    # test_results = {'F1 Score':[],'dataset':[],'params':[]}\n",
    "    #Create PCA instances\n",
    "    pca99 = PCA(n_components=0.99, svd_solver='full')\n",
    "    #Instantiate SVM gridsearch\n",
    "    C_range = [1,3,10,30,100,300,1000]\n",
    "    param_grid= [\n",
    "                # {'C': C_range, 'kernel': ['linear']},\n",
    "                {'C': C_range, 'gamma': [0.001, 0.0001, 'auto', 'scale'], 'kernel': ['rbf']},\n",
    "                ]\n",
    "    scoring = {'f1_macro'}\n",
    "    clf = svm.SVC()\n",
    "    grid = GridSearchCV(clf,param_grid=param_grid,scoring=scoring,cv=5,refit='f1_macro')\n",
    "\n",
    "    for i in range(32):\n",
    "        #Select columns \n",
    "        y = psd_df.iloc[:,-1].values\n",
    "        y1 = auc_df.iloc[:,-1].values\n",
    "        psd_col_select = lambda y: [x for x in list(psd_df.columns) if \"\".join((\"Ch\",str(y),\"_\")) in str(x)]\n",
    "        X = psd_df[psd_col_select(i+1)].values\n",
    "        X1 = auc_df.iloc[:,i].values.reshape(-1,1)\n",
    "        #Split into training and test sets\n",
    "        for train_index, test_index in sss.split(X,y):\n",
    "            X_train, X_test = X[train_index],X[test_index]\n",
    "            y_train, y_test = y[train_index],y[test_index]\n",
    "            X1_train, X1_test = X1[train_index],X1[test_index]\n",
    "            y1_train, y1_test = y1[train_index],y1[test_index]\n",
    "        #Fit transform on training data\n",
    "        x_99_train = pca99.fit_transform(X_train)\n",
    "        #Fit transform on test data\n",
    "        x_99_test = pca99.transform(X_test)\n",
    "        #Gridsearch\n",
    "        grid99 = grid.fit(x_99_train,y_train)\n",
    "        grid991 = grid.fit(X1_train,y1_train)\n",
    "        #Classifiers \n",
    "        clf99 = svm.SVC(**grid99.best_params_)\n",
    "        clf991 = svm.SVC(**grid991.best_params_)\n",
    "        clf99.fit(x_99_train,y_train)\n",
    "        clf991.fit(X1_train,y1_train)\n",
    "        #y_pred\n",
    "        y_99_pred = clf99.predict(x_99_test)\n",
    "        y_991_pred = clf991.predict(X1_test)\n",
    "        #F1 Score \n",
    "        f1Score = f1_score(y_test,y_99_pred,pos_label='T')\n",
    "        f1Score1 = f1_score(y1_test,y_991_pred,pos_label='T')\n",
    "        f1_scores.append(f1Score)\n",
    "        f1_scores.append(f1Score1)\n",
    "        #Channel list\n",
    "        channels_list.append(\"\".join((\"Ch\",str(i+1))))\n",
    "        channels_list.append(\"\".join((\"aCh\",str(i+1))))\n",
    "    #Order lists \n",
    "    \n",
    "    return channels_list,f1_scores "
   ]
  },
  {
   "cell_type": "code",
   "execution_count": 4,
   "metadata": {},
   "outputs": [],
   "source": [
    "t_channels,t_f1_scores = apply_SVM_channel(t_auc_df,t_psd_df)\n",
    "a_channels,a_f1_scores = apply_SVM_channel(a_auc_df,a_psd_df)"
   ]
  },
  {
   "cell_type": "code",
   "execution_count": 5,
   "metadata": {},
   "outputs": [],
   "source": [
    "#Sort the channels in descending order of F1 scores \n",
    "add_band = lambda channels_list,y: [\"\".join((x,\"_\",y)) for x in channels_list]\n",
    "t_channels1 = add_band(t_channels,\"t\")\n",
    "a_channels1 = add_band(a_channels,\"a\")\n",
    "\n",
    "channels_list = np.array(t_channels1 + a_channels1)\n",
    "f1_scores = np.array(t_f1_scores + a_f1_scores)\n",
    "\n",
    "sorted_channels = channels_list[f1_scores.argsort()[::-1]] #in descending order, best scores first "
   ]
  },
  {
   "cell_type": "code",
   "execution_count": 6,
   "metadata": {},
   "outputs": [
    {
     "output_type": "stream",
     "name": "stdout",
     "text": "128\n"
    }
   ],
   "source": [
    "print(len(sorted_channels))"
   ]
  },
  {
   "cell_type": "code",
   "execution_count": 232,
   "metadata": {},
   "outputs": [
    {
     "output_type": "stream",
     "name": "stdout",
     "text": "['aCh19_t' 'Ch19_t' 'Ch22_t' 'aCh11_t' 'Ch24_a' 'Ch11_t' 'aCh15_t'\n 'aCh24_a' 'aCh18_a' 'Ch27_a']\n"
    }
   ],
   "source": [
    "print(sorted_channels[:10])"
   ]
  },
  {
   "cell_type": "code",
   "execution_count": 233,
   "metadata": {},
   "outputs": [
    {
     "output_type": "execute_result",
     "data": {
      "text/plain": "array(['aCh19_t', 'Ch19_t', 'Ch22_t', 'aCh11_t', 'Ch24_a', 'Ch11_t',\n       'aCh15_t', 'aCh24_a', 'aCh18_a', 'Ch27_a'], dtype='<U7')"
     },
     "metadata": {},
     "execution_count": 233
    }
   ],
   "source": [
    "sorted_channels[:10]"
   ]
  },
  {
   "cell_type": "code",
   "execution_count": 7,
   "metadata": {},
   "outputs": [],
   "source": [
    "def create_bestCh_df(t_auc_df,a_auc_df,t_psd_df,a_psd_df,sorted_channels,no_channels):\n",
    "    channels = sorted_channels[:no_channels]\n",
    "    df_list = [0]*no_channels\n",
    "    for (i,channel) in enumerate(channels):\n",
    "        if channel[-1] == \"t\":\n",
    "            if channel[0] == \"a\": #auc \n",
    "                channel_no = channel[channel.find(\"Ch\")+len(\"Ch\"):channel.find(\"_\")]\n",
    "                df_list[i] = t_auc_df.iloc[:,int(channel_no)-1]\n",
    "            else: #psd\n",
    "                channel_no = channel[channel.find(\"Ch\")+len(\"Ch\"):channel.find(\"_\")]\n",
    "                psd_col_select = lambda y: [x for x in list(t_psd_df.columns) if \"\".join((\"Ch\",str(y),\"_\")) in str(x)]\n",
    "                df_list[i] = t_psd_df[psd_col_select(channel_no)]\n",
    "        elif channel[-1] == \"a\":\n",
    "            if channel[0] == \"a\": #auc \n",
    "                channel_no = channel[channel.find(\"Ch\")+len(\"Ch\"):channel.find(\"_\")]\n",
    "                df_list[i] = a_auc_df.iloc[:,int(channel_no)-1]\n",
    "            else: #psd\n",
    "                channel_no = channel[channel.find(\"Ch\")+len(\"Ch\"):channel.find(\"_\")]\n",
    "                psd_col_select = lambda y: [x for x in list(a_psd_df.columns) if \"\".join((\"Ch\",str(y),\"_\")) in str(x)]\n",
    "                df_list[i] = a_psd_df[psd_col_select(channel_no)]\n",
    "    df_list.append(t_auc_df.iloc[:,-1])\n",
    "    return pd.concat(df_list,axis=1)\n",
    "            \n",
    "\n",
    "        \n"
   ]
  },
  {
   "cell_type": "code",
   "execution_count": 234,
   "metadata": {},
   "outputs": [],
   "source": [
    "bestCh_df = create_bestCh_df(t_auc_df,a_auc_df,t_psd_df,a_psd_df,sorted_channels,10)\n",
    "# bestCh_df.to_csv(\"F:\\EEG-data\\\\think-count/check.csv\")"
   ]
  },
  {
   "cell_type": "code",
   "execution_count": 235,
   "metadata": {},
   "outputs": [
    {
     "output_type": "execute_result",
     "data": {
      "text/plain": "(640, 26)"
     },
     "metadata": {},
     "execution_count": 235
    }
   ],
   "source": [
    "bestCh_df.shape"
   ]
  },
  {
   "cell_type": "code",
   "execution_count": 8,
   "metadata": {},
   "outputs": [],
   "source": [
    "def PCA_CV_SVM(bestChdf):\n",
    "    sss = StratifiedShuffleSplit(n_splits=5,test_size=0.2,random_state=0)\n",
    "    # bestF1 = {'F1 Score':0,'dataset':'','params':''}\n",
    "    # test_results = {'F1 Score':[],'dataset':[],'params':[]}\n",
    "    #Create PCA instances\n",
    "    pca99 = PCA(n_components=0.999, svd_solver='full')\n",
    "    #Instantiate SVM gridsearch\n",
    "    C_range = [1,3,10,30,100,300,1000]\n",
    "    param_grid= [\n",
    "                # {'C': C_range, 'kernel': ['linear']},\n",
    "                {'C': C_range, 'gamma': [0.001, 0.0001, 'auto', 'scale'], 'kernel': ['rbf']},\n",
    "                ]\n",
    "    scoring = {'f1_macro'}\n",
    "    clf = svm.SVC()\n",
    "    grid = GridSearchCV(clf,param_grid=param_grid,scoring=scoring,cv=5,refit='f1_macro')\n",
    "    y = bestChdf.iloc[:,-1].values\n",
    "    X = bestChdf.iloc[:,:-1].values\n",
    "    #Split into training and test sets\n",
    "    for train_index, test_index in sss.split(X,y):\n",
    "        X_train, X_test = X[train_index],X[test_index]\n",
    "        y_train, y_test = y[train_index],y[test_index]\n",
    "    #Fit transform on training data\n",
    "    x_99_train = pca99.fit_transform(X_train)\n",
    "    #Fit transform on test data\n",
    "    x_99_test = pca99.transform(X_test)\n",
    "    #Gridsearch\n",
    "    grid99 = grid.fit(x_99_train,y_train)\n",
    "    #Classifiers \n",
    "    clf99 = svm.SVC(**grid99.best_params_)\n",
    "    clf99.fit(x_99_train,y_train)\n",
    "    #y_pred\n",
    "    y_99_pred = clf99.predict(x_99_test)\n",
    "    #F1 Score \n",
    "    f1Score = f1_score(y_test,y_99_pred,pos_label='T')\n",
    "    return f1Score\n",
    "\n"
   ]
  },
  {
   "cell_type": "code",
   "execution_count": 9,
   "metadata": {},
   "outputs": [],
   "source": [
    "channels_f1Scores = [0]*len(sorted_channels)\n",
    "for i in range(1,len(sorted_channels)+1):\n",
    "    bestCh_df = create_bestCh_df(t_auc_df,a_auc_df,t_psd_df,a_psd_df,sorted_channels,i)\n",
    "    channels_f1Scores[i-1] = PCA_CV_SVM(bestCh_df)"
   ]
  },
  {
   "cell_type": "code",
   "execution_count": 10,
   "metadata": {},
   "outputs": [
    {
     "output_type": "display_data",
     "data": {
      "text/plain": "<Figure size 432x288 with 1 Axes>",
      "image/svg+xml": "<?xml version=\"1.0\" encoding=\"utf-8\" standalone=\"no\"?>\r\n<!DOCTYPE svg PUBLIC \"-//W3C//DTD SVG 1.1//EN\"\r\n  \"http://www.w3.org/Graphics/SVG/1.1/DTD/svg11.dtd\">\r\n<!-- Created with matplotlib (https://matplotlib.org/) -->\r\n<svg height=\"277.314375pt\" version=\"1.1\" viewBox=\"0 0 392.14375 277.314375\" width=\"392.14375pt\" xmlns=\"http://www.w3.org/2000/svg\" xmlns:xlink=\"http://www.w3.org/1999/xlink\">\r\n <defs>\r\n  <style type=\"text/css\">\r\n*{stroke-linecap:butt;stroke-linejoin:round;white-space:pre;}\r\n  </style>\r\n </defs>\r\n <g id=\"figure_1\">\r\n  <g id=\"patch_1\">\r\n   <path d=\"M 0 277.314375 \r\nL 392.14375 277.314375 \r\nL 392.14375 0 \r\nL 0 0 \r\nz\r\n\" style=\"fill:none;\"/>\r\n  </g>\r\n  <g id=\"axes_1\">\r\n   <g id=\"patch_2\">\r\n    <path d=\"M 50.14375 239.758125 \r\nL 384.94375 239.758125 \r\nL 384.94375 22.318125 \r\nL 50.14375 22.318125 \r\nz\r\n\" style=\"fill:#ffffff;\"/>\r\n   </g>\r\n   <g id=\"matplotlib.axis_1\">\r\n    <g id=\"xtick_1\">\r\n     <g id=\"line2d_1\">\r\n      <defs>\r\n       <path d=\"M 0 0 \r\nL 0 3.5 \r\n\" id=\"mdfe6f0f12c\" style=\"stroke:#000000;stroke-width:0.8;\"/>\r\n      </defs>\r\n      <g>\r\n       <use style=\"stroke:#000000;stroke-width:0.8;\" x=\"62.965368\" xlink:href=\"#mdfe6f0f12c\" y=\"239.758125\"/>\r\n      </g>\r\n     </g>\r\n     <g id=\"text_1\">\r\n      <!-- 0 -->\r\n      <defs>\r\n       <path d=\"M 31.78125 66.40625 \r\nQ 24.171875 66.40625 20.328125 58.90625 \r\nQ 16.5 51.421875 16.5 36.375 \r\nQ 16.5 21.390625 20.328125 13.890625 \r\nQ 24.171875 6.390625 31.78125 6.390625 \r\nQ 39.453125 6.390625 43.28125 13.890625 \r\nQ 47.125 21.390625 47.125 36.375 \r\nQ 47.125 51.421875 43.28125 58.90625 \r\nQ 39.453125 66.40625 31.78125 66.40625 \r\nz\r\nM 31.78125 74.21875 \r\nQ 44.046875 74.21875 50.515625 64.515625 \r\nQ 56.984375 54.828125 56.984375 36.375 \r\nQ 56.984375 17.96875 50.515625 8.265625 \r\nQ 44.046875 -1.421875 31.78125 -1.421875 \r\nQ 19.53125 -1.421875 13.0625 8.265625 \r\nQ 6.59375 17.96875 6.59375 36.375 \r\nQ 6.59375 54.828125 13.0625 64.515625 \r\nQ 19.53125 74.21875 31.78125 74.21875 \r\nz\r\n\" id=\"DejaVuSans-48\"/>\r\n      </defs>\r\n      <g transform=\"translate(59.784118 254.356562)scale(0.1 -0.1)\">\r\n       <use xlink:href=\"#DejaVuSans-48\"/>\r\n      </g>\r\n     </g>\r\n    </g>\r\n    <g id=\"xtick_2\">\r\n     <g id=\"line2d_2\">\r\n      <g>\r\n       <use style=\"stroke:#000000;stroke-width:0.8;\" x=\"110.896649\" xlink:href=\"#mdfe6f0f12c\" y=\"239.758125\"/>\r\n      </g>\r\n     </g>\r\n     <g id=\"text_2\">\r\n      <!-- 20 -->\r\n      <defs>\r\n       <path d=\"M 19.1875 8.296875 \r\nL 53.609375 8.296875 \r\nL 53.609375 0 \r\nL 7.328125 0 \r\nL 7.328125 8.296875 \r\nQ 12.9375 14.109375 22.625 23.890625 \r\nQ 32.328125 33.6875 34.8125 36.53125 \r\nQ 39.546875 41.84375 41.421875 45.53125 \r\nQ 43.3125 49.21875 43.3125 52.78125 \r\nQ 43.3125 58.59375 39.234375 62.25 \r\nQ 35.15625 65.921875 28.609375 65.921875 \r\nQ 23.96875 65.921875 18.8125 64.3125 \r\nQ 13.671875 62.703125 7.8125 59.421875 \r\nL 7.8125 69.390625 \r\nQ 13.765625 71.78125 18.9375 73 \r\nQ 24.125 74.21875 28.421875 74.21875 \r\nQ 39.75 74.21875 46.484375 68.546875 \r\nQ 53.21875 62.890625 53.21875 53.421875 \r\nQ 53.21875 48.921875 51.53125 44.890625 \r\nQ 49.859375 40.875 45.40625 35.40625 \r\nQ 44.1875 33.984375 37.640625 27.21875 \r\nQ 31.109375 20.453125 19.1875 8.296875 \r\nz\r\n\" id=\"DejaVuSans-50\"/>\r\n      </defs>\r\n      <g transform=\"translate(104.534149 254.356562)scale(0.1 -0.1)\">\r\n       <use xlink:href=\"#DejaVuSans-50\"/>\r\n       <use x=\"63.623047\" xlink:href=\"#DejaVuSans-48\"/>\r\n      </g>\r\n     </g>\r\n    </g>\r\n    <g id=\"xtick_3\">\r\n     <g id=\"line2d_3\">\r\n      <g>\r\n       <use style=\"stroke:#000000;stroke-width:0.8;\" x=\"158.82793\" xlink:href=\"#mdfe6f0f12c\" y=\"239.758125\"/>\r\n      </g>\r\n     </g>\r\n     <g id=\"text_3\">\r\n      <!-- 40 -->\r\n      <defs>\r\n       <path d=\"M 37.796875 64.3125 \r\nL 12.890625 25.390625 \r\nL 37.796875 25.390625 \r\nz\r\nM 35.203125 72.90625 \r\nL 47.609375 72.90625 \r\nL 47.609375 25.390625 \r\nL 58.015625 25.390625 \r\nL 58.015625 17.1875 \r\nL 47.609375 17.1875 \r\nL 47.609375 0 \r\nL 37.796875 0 \r\nL 37.796875 17.1875 \r\nL 4.890625 17.1875 \r\nL 4.890625 26.703125 \r\nz\r\n\" id=\"DejaVuSans-52\"/>\r\n      </defs>\r\n      <g transform=\"translate(152.46543 254.356562)scale(0.1 -0.1)\">\r\n       <use xlink:href=\"#DejaVuSans-52\"/>\r\n       <use x=\"63.623047\" xlink:href=\"#DejaVuSans-48\"/>\r\n      </g>\r\n     </g>\r\n    </g>\r\n    <g id=\"xtick_4\">\r\n     <g id=\"line2d_4\">\r\n      <g>\r\n       <use style=\"stroke:#000000;stroke-width:0.8;\" x=\"206.759212\" xlink:href=\"#mdfe6f0f12c\" y=\"239.758125\"/>\r\n      </g>\r\n     </g>\r\n     <g id=\"text_4\">\r\n      <!-- 60 -->\r\n      <defs>\r\n       <path d=\"M 33.015625 40.375 \r\nQ 26.375 40.375 22.484375 35.828125 \r\nQ 18.609375 31.296875 18.609375 23.390625 \r\nQ 18.609375 15.53125 22.484375 10.953125 \r\nQ 26.375 6.390625 33.015625 6.390625 \r\nQ 39.65625 6.390625 43.53125 10.953125 \r\nQ 47.40625 15.53125 47.40625 23.390625 \r\nQ 47.40625 31.296875 43.53125 35.828125 \r\nQ 39.65625 40.375 33.015625 40.375 \r\nz\r\nM 52.59375 71.296875 \r\nL 52.59375 62.3125 \r\nQ 48.875 64.0625 45.09375 64.984375 \r\nQ 41.3125 65.921875 37.59375 65.921875 \r\nQ 27.828125 65.921875 22.671875 59.328125 \r\nQ 17.53125 52.734375 16.796875 39.40625 \r\nQ 19.671875 43.65625 24.015625 45.921875 \r\nQ 28.375 48.1875 33.59375 48.1875 \r\nQ 44.578125 48.1875 50.953125 41.515625 \r\nQ 57.328125 34.859375 57.328125 23.390625 \r\nQ 57.328125 12.15625 50.6875 5.359375 \r\nQ 44.046875 -1.421875 33.015625 -1.421875 \r\nQ 20.359375 -1.421875 13.671875 8.265625 \r\nQ 6.984375 17.96875 6.984375 36.375 \r\nQ 6.984375 53.65625 15.1875 63.9375 \r\nQ 23.390625 74.21875 37.203125 74.21875 \r\nQ 40.921875 74.21875 44.703125 73.484375 \r\nQ 48.484375 72.75 52.59375 71.296875 \r\nz\r\n\" id=\"DejaVuSans-54\"/>\r\n      </defs>\r\n      <g transform=\"translate(200.396712 254.356562)scale(0.1 -0.1)\">\r\n       <use xlink:href=\"#DejaVuSans-54\"/>\r\n       <use x=\"63.623047\" xlink:href=\"#DejaVuSans-48\"/>\r\n      </g>\r\n     </g>\r\n    </g>\r\n    <g id=\"xtick_5\">\r\n     <g id=\"line2d_5\">\r\n      <g>\r\n       <use style=\"stroke:#000000;stroke-width:0.8;\" x=\"254.690493\" xlink:href=\"#mdfe6f0f12c\" y=\"239.758125\"/>\r\n      </g>\r\n     </g>\r\n     <g id=\"text_5\">\r\n      <!-- 80 -->\r\n      <defs>\r\n       <path d=\"M 31.78125 34.625 \r\nQ 24.75 34.625 20.71875 30.859375 \r\nQ 16.703125 27.09375 16.703125 20.515625 \r\nQ 16.703125 13.921875 20.71875 10.15625 \r\nQ 24.75 6.390625 31.78125 6.390625 \r\nQ 38.8125 6.390625 42.859375 10.171875 \r\nQ 46.921875 13.96875 46.921875 20.515625 \r\nQ 46.921875 27.09375 42.890625 30.859375 \r\nQ 38.875 34.625 31.78125 34.625 \r\nz\r\nM 21.921875 38.8125 \r\nQ 15.578125 40.375 12.03125 44.71875 \r\nQ 8.5 49.078125 8.5 55.328125 \r\nQ 8.5 64.0625 14.71875 69.140625 \r\nQ 20.953125 74.21875 31.78125 74.21875 \r\nQ 42.671875 74.21875 48.875 69.140625 \r\nQ 55.078125 64.0625 55.078125 55.328125 \r\nQ 55.078125 49.078125 51.53125 44.71875 \r\nQ 48 40.375 41.703125 38.8125 \r\nQ 48.828125 37.15625 52.796875 32.3125 \r\nQ 56.78125 27.484375 56.78125 20.515625 \r\nQ 56.78125 9.90625 50.3125 4.234375 \r\nQ 43.84375 -1.421875 31.78125 -1.421875 \r\nQ 19.734375 -1.421875 13.25 4.234375 \r\nQ 6.78125 9.90625 6.78125 20.515625 \r\nQ 6.78125 27.484375 10.78125 32.3125 \r\nQ 14.796875 37.15625 21.921875 38.8125 \r\nz\r\nM 18.3125 54.390625 \r\nQ 18.3125 48.734375 21.84375 45.5625 \r\nQ 25.390625 42.390625 31.78125 42.390625 \r\nQ 38.140625 42.390625 41.71875 45.5625 \r\nQ 45.3125 48.734375 45.3125 54.390625 \r\nQ 45.3125 60.0625 41.71875 63.234375 \r\nQ 38.140625 66.40625 31.78125 66.40625 \r\nQ 25.390625 66.40625 21.84375 63.234375 \r\nQ 18.3125 60.0625 18.3125 54.390625 \r\nz\r\n\" id=\"DejaVuSans-56\"/>\r\n      </defs>\r\n      <g transform=\"translate(248.327993 254.356562)scale(0.1 -0.1)\">\r\n       <use xlink:href=\"#DejaVuSans-56\"/>\r\n       <use x=\"63.623047\" xlink:href=\"#DejaVuSans-48\"/>\r\n      </g>\r\n     </g>\r\n    </g>\r\n    <g id=\"xtick_6\">\r\n     <g id=\"line2d_6\">\r\n      <g>\r\n       <use style=\"stroke:#000000;stroke-width:0.8;\" x=\"302.621774\" xlink:href=\"#mdfe6f0f12c\" y=\"239.758125\"/>\r\n      </g>\r\n     </g>\r\n     <g id=\"text_6\">\r\n      <!-- 100 -->\r\n      <defs>\r\n       <path d=\"M 12.40625 8.296875 \r\nL 28.515625 8.296875 \r\nL 28.515625 63.921875 \r\nL 10.984375 60.40625 \r\nL 10.984375 69.390625 \r\nL 28.421875 72.90625 \r\nL 38.28125 72.90625 \r\nL 38.28125 8.296875 \r\nL 54.390625 8.296875 \r\nL 54.390625 0 \r\nL 12.40625 0 \r\nz\r\n\" id=\"DejaVuSans-49\"/>\r\n      </defs>\r\n      <g transform=\"translate(293.078024 254.356562)scale(0.1 -0.1)\">\r\n       <use xlink:href=\"#DejaVuSans-49\"/>\r\n       <use x=\"63.623047\" xlink:href=\"#DejaVuSans-48\"/>\r\n       <use x=\"127.246094\" xlink:href=\"#DejaVuSans-48\"/>\r\n      </g>\r\n     </g>\r\n    </g>\r\n    <g id=\"xtick_7\">\r\n     <g id=\"line2d_7\">\r\n      <g>\r\n       <use style=\"stroke:#000000;stroke-width:0.8;\" x=\"350.553056\" xlink:href=\"#mdfe6f0f12c\" y=\"239.758125\"/>\r\n      </g>\r\n     </g>\r\n     <g id=\"text_7\">\r\n      <!-- 120 -->\r\n      <g transform=\"translate(341.009306 254.356562)scale(0.1 -0.1)\">\r\n       <use xlink:href=\"#DejaVuSans-49\"/>\r\n       <use x=\"63.623047\" xlink:href=\"#DejaVuSans-50\"/>\r\n       <use x=\"127.246094\" xlink:href=\"#DejaVuSans-48\"/>\r\n      </g>\r\n     </g>\r\n    </g>\r\n    <g id=\"text_8\">\r\n     <!-- No. of features, starting from most important -->\r\n     <defs>\r\n      <path d=\"M 9.8125 72.90625 \r\nL 23.09375 72.90625 \r\nL 55.421875 11.921875 \r\nL 55.421875 72.90625 \r\nL 64.984375 72.90625 \r\nL 64.984375 0 \r\nL 51.703125 0 \r\nL 19.390625 60.984375 \r\nL 19.390625 0 \r\nL 9.8125 0 \r\nz\r\n\" id=\"DejaVuSans-78\"/>\r\n      <path d=\"M 30.609375 48.390625 \r\nQ 23.390625 48.390625 19.1875 42.75 \r\nQ 14.984375 37.109375 14.984375 27.296875 \r\nQ 14.984375 17.484375 19.15625 11.84375 \r\nQ 23.34375 6.203125 30.609375 6.203125 \r\nQ 37.796875 6.203125 41.984375 11.859375 \r\nQ 46.1875 17.53125 46.1875 27.296875 \r\nQ 46.1875 37.015625 41.984375 42.703125 \r\nQ 37.796875 48.390625 30.609375 48.390625 \r\nz\r\nM 30.609375 56 \r\nQ 42.328125 56 49.015625 48.375 \r\nQ 55.71875 40.765625 55.71875 27.296875 \r\nQ 55.71875 13.875 49.015625 6.21875 \r\nQ 42.328125 -1.421875 30.609375 -1.421875 \r\nQ 18.84375 -1.421875 12.171875 6.21875 \r\nQ 5.515625 13.875 5.515625 27.296875 \r\nQ 5.515625 40.765625 12.171875 48.375 \r\nQ 18.84375 56 30.609375 56 \r\nz\r\n\" id=\"DejaVuSans-111\"/>\r\n      <path d=\"M 10.6875 12.40625 \r\nL 21 12.40625 \r\nL 21 0 \r\nL 10.6875 0 \r\nz\r\n\" id=\"DejaVuSans-46\"/>\r\n      <path id=\"DejaVuSans-32\"/>\r\n      <path d=\"M 37.109375 75.984375 \r\nL 37.109375 68.5 \r\nL 28.515625 68.5 \r\nQ 23.6875 68.5 21.796875 66.546875 \r\nQ 19.921875 64.59375 19.921875 59.515625 \r\nL 19.921875 54.6875 \r\nL 34.71875 54.6875 \r\nL 34.71875 47.703125 \r\nL 19.921875 47.703125 \r\nL 19.921875 0 \r\nL 10.890625 0 \r\nL 10.890625 47.703125 \r\nL 2.296875 47.703125 \r\nL 2.296875 54.6875 \r\nL 10.890625 54.6875 \r\nL 10.890625 58.5 \r\nQ 10.890625 67.625 15.140625 71.796875 \r\nQ 19.390625 75.984375 28.609375 75.984375 \r\nz\r\n\" id=\"DejaVuSans-102\"/>\r\n      <path d=\"M 56.203125 29.59375 \r\nL 56.203125 25.203125 \r\nL 14.890625 25.203125 \r\nQ 15.484375 15.921875 20.484375 11.0625 \r\nQ 25.484375 6.203125 34.421875 6.203125 \r\nQ 39.59375 6.203125 44.453125 7.46875 \r\nQ 49.3125 8.734375 54.109375 11.28125 \r\nL 54.109375 2.78125 \r\nQ 49.265625 0.734375 44.1875 -0.34375 \r\nQ 39.109375 -1.421875 33.890625 -1.421875 \r\nQ 20.796875 -1.421875 13.15625 6.1875 \r\nQ 5.515625 13.8125 5.515625 26.8125 \r\nQ 5.515625 40.234375 12.765625 48.109375 \r\nQ 20.015625 56 32.328125 56 \r\nQ 43.359375 56 49.78125 48.890625 \r\nQ 56.203125 41.796875 56.203125 29.59375 \r\nz\r\nM 47.21875 32.234375 \r\nQ 47.125 39.59375 43.09375 43.984375 \r\nQ 39.0625 48.390625 32.421875 48.390625 \r\nQ 24.90625 48.390625 20.390625 44.140625 \r\nQ 15.875 39.890625 15.1875 32.171875 \r\nz\r\n\" id=\"DejaVuSans-101\"/>\r\n      <path d=\"M 34.28125 27.484375 \r\nQ 23.390625 27.484375 19.1875 25 \r\nQ 14.984375 22.515625 14.984375 16.5 \r\nQ 14.984375 11.71875 18.140625 8.90625 \r\nQ 21.296875 6.109375 26.703125 6.109375 \r\nQ 34.1875 6.109375 38.703125 11.40625 \r\nQ 43.21875 16.703125 43.21875 25.484375 \r\nL 43.21875 27.484375 \r\nz\r\nM 52.203125 31.203125 \r\nL 52.203125 0 \r\nL 43.21875 0 \r\nL 43.21875 8.296875 \r\nQ 40.140625 3.328125 35.546875 0.953125 \r\nQ 30.953125 -1.421875 24.3125 -1.421875 \r\nQ 15.921875 -1.421875 10.953125 3.296875 \r\nQ 6 8.015625 6 15.921875 \r\nQ 6 25.140625 12.171875 29.828125 \r\nQ 18.359375 34.515625 30.609375 34.515625 \r\nL 43.21875 34.515625 \r\nL 43.21875 35.40625 \r\nQ 43.21875 41.609375 39.140625 45 \r\nQ 35.0625 48.390625 27.6875 48.390625 \r\nQ 23 48.390625 18.546875 47.265625 \r\nQ 14.109375 46.140625 10.015625 43.890625 \r\nL 10.015625 52.203125 \r\nQ 14.9375 54.109375 19.578125 55.046875 \r\nQ 24.21875 56 28.609375 56 \r\nQ 40.484375 56 46.34375 49.84375 \r\nQ 52.203125 43.703125 52.203125 31.203125 \r\nz\r\n\" id=\"DejaVuSans-97\"/>\r\n      <path d=\"M 18.3125 70.21875 \r\nL 18.3125 54.6875 \r\nL 36.8125 54.6875 \r\nL 36.8125 47.703125 \r\nL 18.3125 47.703125 \r\nL 18.3125 18.015625 \r\nQ 18.3125 11.328125 20.140625 9.421875 \r\nQ 21.96875 7.515625 27.59375 7.515625 \r\nL 36.8125 7.515625 \r\nL 36.8125 0 \r\nL 27.59375 0 \r\nQ 17.1875 0 13.234375 3.875 \r\nQ 9.28125 7.765625 9.28125 18.015625 \r\nL 9.28125 47.703125 \r\nL 2.6875 47.703125 \r\nL 2.6875 54.6875 \r\nL 9.28125 54.6875 \r\nL 9.28125 70.21875 \r\nz\r\n\" id=\"DejaVuSans-116\"/>\r\n      <path d=\"M 8.5 21.578125 \r\nL 8.5 54.6875 \r\nL 17.484375 54.6875 \r\nL 17.484375 21.921875 \r\nQ 17.484375 14.15625 20.5 10.265625 \r\nQ 23.53125 6.390625 29.59375 6.390625 \r\nQ 36.859375 6.390625 41.078125 11.03125 \r\nQ 45.3125 15.671875 45.3125 23.6875 \r\nL 45.3125 54.6875 \r\nL 54.296875 54.6875 \r\nL 54.296875 0 \r\nL 45.3125 0 \r\nL 45.3125 8.40625 \r\nQ 42.046875 3.421875 37.71875 1 \r\nQ 33.40625 -1.421875 27.6875 -1.421875 \r\nQ 18.265625 -1.421875 13.375 4.4375 \r\nQ 8.5 10.296875 8.5 21.578125 \r\nz\r\nM 31.109375 56 \r\nz\r\n\" id=\"DejaVuSans-117\"/>\r\n      <path d=\"M 41.109375 46.296875 \r\nQ 39.59375 47.171875 37.8125 47.578125 \r\nQ 36.03125 48 33.890625 48 \r\nQ 26.265625 48 22.1875 43.046875 \r\nQ 18.109375 38.09375 18.109375 28.8125 \r\nL 18.109375 0 \r\nL 9.078125 0 \r\nL 9.078125 54.6875 \r\nL 18.109375 54.6875 \r\nL 18.109375 46.1875 \r\nQ 20.953125 51.171875 25.484375 53.578125 \r\nQ 30.03125 56 36.53125 56 \r\nQ 37.453125 56 38.578125 55.875 \r\nQ 39.703125 55.765625 41.0625 55.515625 \r\nz\r\n\" id=\"DejaVuSans-114\"/>\r\n      <path d=\"M 44.28125 53.078125 \r\nL 44.28125 44.578125 \r\nQ 40.484375 46.53125 36.375 47.5 \r\nQ 32.28125 48.484375 27.875 48.484375 \r\nQ 21.1875 48.484375 17.84375 46.4375 \r\nQ 14.5 44.390625 14.5 40.28125 \r\nQ 14.5 37.15625 16.890625 35.375 \r\nQ 19.28125 33.59375 26.515625 31.984375 \r\nL 29.59375 31.296875 \r\nQ 39.15625 29.25 43.1875 25.515625 \r\nQ 47.21875 21.78125 47.21875 15.09375 \r\nQ 47.21875 7.46875 41.1875 3.015625 \r\nQ 35.15625 -1.421875 24.609375 -1.421875 \r\nQ 20.21875 -1.421875 15.453125 -0.5625 \r\nQ 10.6875 0.296875 5.421875 2 \r\nL 5.421875 11.28125 \r\nQ 10.40625 8.6875 15.234375 7.390625 \r\nQ 20.0625 6.109375 24.8125 6.109375 \r\nQ 31.15625 6.109375 34.5625 8.28125 \r\nQ 37.984375 10.453125 37.984375 14.40625 \r\nQ 37.984375 18.0625 35.515625 20.015625 \r\nQ 33.0625 21.96875 24.703125 23.78125 \r\nL 21.578125 24.515625 \r\nQ 13.234375 26.265625 9.515625 29.90625 \r\nQ 5.8125 33.546875 5.8125 39.890625 \r\nQ 5.8125 47.609375 11.28125 51.796875 \r\nQ 16.75 56 26.8125 56 \r\nQ 31.78125 56 36.171875 55.265625 \r\nQ 40.578125 54.546875 44.28125 53.078125 \r\nz\r\n\" id=\"DejaVuSans-115\"/>\r\n      <path d=\"M 11.71875 12.40625 \r\nL 22.015625 12.40625 \r\nL 22.015625 4 \r\nL 14.015625 -11.625 \r\nL 7.71875 -11.625 \r\nL 11.71875 4 \r\nz\r\n\" id=\"DejaVuSans-44\"/>\r\n      <path d=\"M 9.421875 54.6875 \r\nL 18.40625 54.6875 \r\nL 18.40625 0 \r\nL 9.421875 0 \r\nz\r\nM 9.421875 75.984375 \r\nL 18.40625 75.984375 \r\nL 18.40625 64.59375 \r\nL 9.421875 64.59375 \r\nz\r\n\" id=\"DejaVuSans-105\"/>\r\n      <path d=\"M 54.890625 33.015625 \r\nL 54.890625 0 \r\nL 45.90625 0 \r\nL 45.90625 32.71875 \r\nQ 45.90625 40.484375 42.875 44.328125 \r\nQ 39.84375 48.1875 33.796875 48.1875 \r\nQ 26.515625 48.1875 22.3125 43.546875 \r\nQ 18.109375 38.921875 18.109375 30.90625 \r\nL 18.109375 0 \r\nL 9.078125 0 \r\nL 9.078125 54.6875 \r\nL 18.109375 54.6875 \r\nL 18.109375 46.1875 \r\nQ 21.34375 51.125 25.703125 53.5625 \r\nQ 30.078125 56 35.796875 56 \r\nQ 45.21875 56 50.046875 50.171875 \r\nQ 54.890625 44.34375 54.890625 33.015625 \r\nz\r\n\" id=\"DejaVuSans-110\"/>\r\n      <path d=\"M 45.40625 27.984375 \r\nQ 45.40625 37.75 41.375 43.109375 \r\nQ 37.359375 48.484375 30.078125 48.484375 \r\nQ 22.859375 48.484375 18.828125 43.109375 \r\nQ 14.796875 37.75 14.796875 27.984375 \r\nQ 14.796875 18.265625 18.828125 12.890625 \r\nQ 22.859375 7.515625 30.078125 7.515625 \r\nQ 37.359375 7.515625 41.375 12.890625 \r\nQ 45.40625 18.265625 45.40625 27.984375 \r\nz\r\nM 54.390625 6.78125 \r\nQ 54.390625 -7.171875 48.1875 -13.984375 \r\nQ 42 -20.796875 29.203125 -20.796875 \r\nQ 24.46875 -20.796875 20.265625 -20.09375 \r\nQ 16.0625 -19.390625 12.109375 -17.921875 \r\nL 12.109375 -9.1875 \r\nQ 16.0625 -11.328125 19.921875 -12.34375 \r\nQ 23.78125 -13.375 27.78125 -13.375 \r\nQ 36.625 -13.375 41.015625 -8.765625 \r\nQ 45.40625 -4.15625 45.40625 5.171875 \r\nL 45.40625 9.625 \r\nQ 42.625 4.78125 38.28125 2.390625 \r\nQ 33.9375 0 27.875 0 \r\nQ 17.828125 0 11.671875 7.65625 \r\nQ 5.515625 15.328125 5.515625 27.984375 \r\nQ 5.515625 40.671875 11.671875 48.328125 \r\nQ 17.828125 56 27.875 56 \r\nQ 33.9375 56 38.28125 53.609375 \r\nQ 42.625 51.21875 45.40625 46.390625 \r\nL 45.40625 54.6875 \r\nL 54.390625 54.6875 \r\nz\r\n\" id=\"DejaVuSans-103\"/>\r\n      <path d=\"M 52 44.1875 \r\nQ 55.375 50.25 60.0625 53.125 \r\nQ 64.75 56 71.09375 56 \r\nQ 79.640625 56 84.28125 50.015625 \r\nQ 88.921875 44.046875 88.921875 33.015625 \r\nL 88.921875 0 \r\nL 79.890625 0 \r\nL 79.890625 32.71875 \r\nQ 79.890625 40.578125 77.09375 44.375 \r\nQ 74.3125 48.1875 68.609375 48.1875 \r\nQ 61.625 48.1875 57.5625 43.546875 \r\nQ 53.515625 38.921875 53.515625 30.90625 \r\nL 53.515625 0 \r\nL 44.484375 0 \r\nL 44.484375 32.71875 \r\nQ 44.484375 40.625 41.703125 44.40625 \r\nQ 38.921875 48.1875 33.109375 48.1875 \r\nQ 26.21875 48.1875 22.15625 43.53125 \r\nQ 18.109375 38.875 18.109375 30.90625 \r\nL 18.109375 0 \r\nL 9.078125 0 \r\nL 9.078125 54.6875 \r\nL 18.109375 54.6875 \r\nL 18.109375 46.1875 \r\nQ 21.1875 51.21875 25.484375 53.609375 \r\nQ 29.78125 56 35.6875 56 \r\nQ 41.65625 56 45.828125 52.96875 \r\nQ 50 49.953125 52 44.1875 \r\nz\r\n\" id=\"DejaVuSans-109\"/>\r\n      <path d=\"M 18.109375 8.203125 \r\nL 18.109375 -20.796875 \r\nL 9.078125 -20.796875 \r\nL 9.078125 54.6875 \r\nL 18.109375 54.6875 \r\nL 18.109375 46.390625 \r\nQ 20.953125 51.265625 25.265625 53.625 \r\nQ 29.59375 56 35.59375 56 \r\nQ 45.5625 56 51.78125 48.09375 \r\nQ 58.015625 40.1875 58.015625 27.296875 \r\nQ 58.015625 14.40625 51.78125 6.484375 \r\nQ 45.5625 -1.421875 35.59375 -1.421875 \r\nQ 29.59375 -1.421875 25.265625 0.953125 \r\nQ 20.953125 3.328125 18.109375 8.203125 \r\nz\r\nM 48.6875 27.296875 \r\nQ 48.6875 37.203125 44.609375 42.84375 \r\nQ 40.53125 48.484375 33.40625 48.484375 \r\nQ 26.265625 48.484375 22.1875 42.84375 \r\nQ 18.109375 37.203125 18.109375 27.296875 \r\nQ 18.109375 17.390625 22.1875 11.75 \r\nQ 26.265625 6.109375 33.40625 6.109375 \r\nQ 40.53125 6.109375 44.609375 11.75 \r\nQ 48.6875 17.390625 48.6875 27.296875 \r\nz\r\n\" id=\"DejaVuSans-112\"/>\r\n     </defs>\r\n     <g transform=\"translate(104.13125 268.034687)scale(0.1 -0.1)\">\r\n      <use xlink:href=\"#DejaVuSans-78\"/>\r\n      <use x=\"74.804688\" xlink:href=\"#DejaVuSans-111\"/>\r\n      <use x=\"135.970703\" xlink:href=\"#DejaVuSans-46\"/>\r\n      <use x=\"167.757812\" xlink:href=\"#DejaVuSans-32\"/>\r\n      <use x=\"199.544922\" xlink:href=\"#DejaVuSans-111\"/>\r\n      <use x=\"260.726562\" xlink:href=\"#DejaVuSans-102\"/>\r\n      <use x=\"295.931641\" xlink:href=\"#DejaVuSans-32\"/>\r\n      <use x=\"327.71875\" xlink:href=\"#DejaVuSans-102\"/>\r\n      <use x=\"362.923828\" xlink:href=\"#DejaVuSans-101\"/>\r\n      <use x=\"424.447266\" xlink:href=\"#DejaVuSans-97\"/>\r\n      <use x=\"485.726562\" xlink:href=\"#DejaVuSans-116\"/>\r\n      <use x=\"524.935547\" xlink:href=\"#DejaVuSans-117\"/>\r\n      <use x=\"588.314453\" xlink:href=\"#DejaVuSans-114\"/>\r\n      <use x=\"629.396484\" xlink:href=\"#DejaVuSans-101\"/>\r\n      <use x=\"690.919922\" xlink:href=\"#DejaVuSans-115\"/>\r\n      <use x=\"743.019531\" xlink:href=\"#DejaVuSans-44\"/>\r\n      <use x=\"774.806641\" xlink:href=\"#DejaVuSans-32\"/>\r\n      <use x=\"806.59375\" xlink:href=\"#DejaVuSans-115\"/>\r\n      <use x=\"858.693359\" xlink:href=\"#DejaVuSans-116\"/>\r\n      <use x=\"897.902344\" xlink:href=\"#DejaVuSans-97\"/>\r\n      <use x=\"959.181641\" xlink:href=\"#DejaVuSans-114\"/>\r\n      <use x=\"1000.294922\" xlink:href=\"#DejaVuSans-116\"/>\r\n      <use x=\"1039.503906\" xlink:href=\"#DejaVuSans-105\"/>\r\n      <use x=\"1067.287109\" xlink:href=\"#DejaVuSans-110\"/>\r\n      <use x=\"1130.666016\" xlink:href=\"#DejaVuSans-103\"/>\r\n      <use x=\"1194.142578\" xlink:href=\"#DejaVuSans-32\"/>\r\n      <use x=\"1225.929688\" xlink:href=\"#DejaVuSans-102\"/>\r\n      <use x=\"1261.134766\" xlink:href=\"#DejaVuSans-114\"/>\r\n      <use x=\"1302.216797\" xlink:href=\"#DejaVuSans-111\"/>\r\n      <use x=\"1363.398438\" xlink:href=\"#DejaVuSans-109\"/>\r\n      <use x=\"1460.810547\" xlink:href=\"#DejaVuSans-32\"/>\r\n      <use x=\"1492.597656\" xlink:href=\"#DejaVuSans-109\"/>\r\n      <use x=\"1590.009766\" xlink:href=\"#DejaVuSans-111\"/>\r\n      <use x=\"1651.191406\" xlink:href=\"#DejaVuSans-115\"/>\r\n      <use x=\"1703.291016\" xlink:href=\"#DejaVuSans-116\"/>\r\n      <use x=\"1742.5\" xlink:href=\"#DejaVuSans-32\"/>\r\n      <use x=\"1774.287109\" xlink:href=\"#DejaVuSans-105\"/>\r\n      <use x=\"1802.070312\" xlink:href=\"#DejaVuSans-109\"/>\r\n      <use x=\"1899.482422\" xlink:href=\"#DejaVuSans-112\"/>\r\n      <use x=\"1962.958984\" xlink:href=\"#DejaVuSans-111\"/>\r\n      <use x=\"2024.140625\" xlink:href=\"#DejaVuSans-114\"/>\r\n      <use x=\"2065.253906\" xlink:href=\"#DejaVuSans-116\"/>\r\n      <use x=\"2104.462891\" xlink:href=\"#DejaVuSans-97\"/>\r\n      <use x=\"2165.742188\" xlink:href=\"#DejaVuSans-110\"/>\r\n      <use x=\"2229.121094\" xlink:href=\"#DejaVuSans-116\"/>\r\n     </g>\r\n    </g>\r\n   </g>\r\n   <g id=\"matplotlib.axis_2\">\r\n    <g id=\"ytick_1\">\r\n     <g id=\"line2d_8\">\r\n      <defs>\r\n       <path d=\"M 0 0 \r\nL -3.5 0 \r\n\" id=\"mdd69e04444\" style=\"stroke:#000000;stroke-width:0.8;\"/>\r\n      </defs>\r\n      <g>\r\n       <use style=\"stroke:#000000;stroke-width:0.8;\" x=\"50.14375\" xlink:href=\"#mdd69e04444\" y=\"217.91564\"/>\r\n      </g>\r\n     </g>\r\n     <g id=\"text_9\">\r\n      <!-- 0.55 -->\r\n      <defs>\r\n       <path d=\"M 10.796875 72.90625 \r\nL 49.515625 72.90625 \r\nL 49.515625 64.59375 \r\nL 19.828125 64.59375 \r\nL 19.828125 46.734375 \r\nQ 21.96875 47.46875 24.109375 47.828125 \r\nQ 26.265625 48.1875 28.421875 48.1875 \r\nQ 40.625 48.1875 47.75 41.5 \r\nQ 54.890625 34.8125 54.890625 23.390625 \r\nQ 54.890625 11.625 47.5625 5.09375 \r\nQ 40.234375 -1.421875 26.90625 -1.421875 \r\nQ 22.3125 -1.421875 17.546875 -0.640625 \r\nQ 12.796875 0.140625 7.71875 1.703125 \r\nL 7.71875 11.625 \r\nQ 12.109375 9.234375 16.796875 8.0625 \r\nQ 21.484375 6.890625 26.703125 6.890625 \r\nQ 35.15625 6.890625 40.078125 11.328125 \r\nQ 45.015625 15.765625 45.015625 23.390625 \r\nQ 45.015625 31 40.078125 35.4375 \r\nQ 35.15625 39.890625 26.703125 39.890625 \r\nQ 22.75 39.890625 18.8125 39.015625 \r\nQ 14.890625 38.140625 10.796875 36.28125 \r\nz\r\n\" id=\"DejaVuSans-53\"/>\r\n      </defs>\r\n      <g transform=\"translate(20.878125 221.714859)scale(0.1 -0.1)\">\r\n       <use xlink:href=\"#DejaVuSans-48\"/>\r\n       <use x=\"63.623047\" xlink:href=\"#DejaVuSans-46\"/>\r\n       <use x=\"95.410156\" xlink:href=\"#DejaVuSans-53\"/>\r\n       <use x=\"159.033203\" xlink:href=\"#DejaVuSans-53\"/>\r\n      </g>\r\n     </g>\r\n    </g>\r\n    <g id=\"ytick_2\">\r\n     <g id=\"line2d_9\">\r\n      <g>\r\n       <use style=\"stroke:#000000;stroke-width:0.8;\" x=\"50.14375\" xlink:href=\"#mdd69e04444\" y=\"182.039096\"/>\r\n      </g>\r\n     </g>\r\n     <g id=\"text_10\">\r\n      <!-- 0.60 -->\r\n      <g transform=\"translate(20.878125 185.838314)scale(0.1 -0.1)\">\r\n       <use xlink:href=\"#DejaVuSans-48\"/>\r\n       <use x=\"63.623047\" xlink:href=\"#DejaVuSans-46\"/>\r\n       <use x=\"95.410156\" xlink:href=\"#DejaVuSans-54\"/>\r\n       <use x=\"159.033203\" xlink:href=\"#DejaVuSans-48\"/>\r\n      </g>\r\n     </g>\r\n    </g>\r\n    <g id=\"ytick_3\">\r\n     <g id=\"line2d_10\">\r\n      <g>\r\n       <use style=\"stroke:#000000;stroke-width:0.8;\" x=\"50.14375\" xlink:href=\"#mdd69e04444\" y=\"146.162551\"/>\r\n      </g>\r\n     </g>\r\n     <g id=\"text_11\">\r\n      <!-- 0.65 -->\r\n      <g transform=\"translate(20.878125 149.96177)scale(0.1 -0.1)\">\r\n       <use xlink:href=\"#DejaVuSans-48\"/>\r\n       <use x=\"63.623047\" xlink:href=\"#DejaVuSans-46\"/>\r\n       <use x=\"95.410156\" xlink:href=\"#DejaVuSans-54\"/>\r\n       <use x=\"159.033203\" xlink:href=\"#DejaVuSans-53\"/>\r\n      </g>\r\n     </g>\r\n    </g>\r\n    <g id=\"ytick_4\">\r\n     <g id=\"line2d_11\">\r\n      <g>\r\n       <use style=\"stroke:#000000;stroke-width:0.8;\" x=\"50.14375\" xlink:href=\"#mdd69e04444\" y=\"110.286006\"/>\r\n      </g>\r\n     </g>\r\n     <g id=\"text_12\">\r\n      <!-- 0.70 -->\r\n      <defs>\r\n       <path d=\"M 8.203125 72.90625 \r\nL 55.078125 72.90625 \r\nL 55.078125 68.703125 \r\nL 28.609375 0 \r\nL 18.3125 0 \r\nL 43.21875 64.59375 \r\nL 8.203125 64.59375 \r\nz\r\n\" id=\"DejaVuSans-55\"/>\r\n      </defs>\r\n      <g transform=\"translate(20.878125 114.085225)scale(0.1 -0.1)\">\r\n       <use xlink:href=\"#DejaVuSans-48\"/>\r\n       <use x=\"63.623047\" xlink:href=\"#DejaVuSans-46\"/>\r\n       <use x=\"95.410156\" xlink:href=\"#DejaVuSans-55\"/>\r\n       <use x=\"159.033203\" xlink:href=\"#DejaVuSans-48\"/>\r\n      </g>\r\n     </g>\r\n    </g>\r\n    <g id=\"ytick_5\">\r\n     <g id=\"line2d_12\">\r\n      <g>\r\n       <use style=\"stroke:#000000;stroke-width:0.8;\" x=\"50.14375\" xlink:href=\"#mdd69e04444\" y=\"74.409461\"/>\r\n      </g>\r\n     </g>\r\n     <g id=\"text_13\">\r\n      <!-- 0.75 -->\r\n      <g transform=\"translate(20.878125 78.20868)scale(0.1 -0.1)\">\r\n       <use xlink:href=\"#DejaVuSans-48\"/>\r\n       <use x=\"63.623047\" xlink:href=\"#DejaVuSans-46\"/>\r\n       <use x=\"95.410156\" xlink:href=\"#DejaVuSans-55\"/>\r\n       <use x=\"159.033203\" xlink:href=\"#DejaVuSans-53\"/>\r\n      </g>\r\n     </g>\r\n    </g>\r\n    <g id=\"ytick_6\">\r\n     <g id=\"line2d_13\">\r\n      <g>\r\n       <use style=\"stroke:#000000;stroke-width:0.8;\" x=\"50.14375\" xlink:href=\"#mdd69e04444\" y=\"38.532916\"/>\r\n      </g>\r\n     </g>\r\n     <g id=\"text_14\">\r\n      <!-- 0.80 -->\r\n      <g transform=\"translate(20.878125 42.332135)scale(0.1 -0.1)\">\r\n       <use xlink:href=\"#DejaVuSans-48\"/>\r\n       <use x=\"63.623047\" xlink:href=\"#DejaVuSans-46\"/>\r\n       <use x=\"95.410156\" xlink:href=\"#DejaVuSans-56\"/>\r\n       <use x=\"159.033203\" xlink:href=\"#DejaVuSans-48\"/>\r\n      </g>\r\n     </g>\r\n    </g>\r\n    <g id=\"text_15\">\r\n     <!-- F1 Score -->\r\n     <defs>\r\n      <path d=\"M 9.8125 72.90625 \r\nL 51.703125 72.90625 \r\nL 51.703125 64.59375 \r\nL 19.671875 64.59375 \r\nL 19.671875 43.109375 \r\nL 48.578125 43.109375 \r\nL 48.578125 34.8125 \r\nL 19.671875 34.8125 \r\nL 19.671875 0 \r\nL 9.8125 0 \r\nz\r\n\" id=\"DejaVuSans-70\"/>\r\n      <path d=\"M 53.515625 70.515625 \r\nL 53.515625 60.890625 \r\nQ 47.90625 63.578125 42.921875 64.890625 \r\nQ 37.9375 66.21875 33.296875 66.21875 \r\nQ 25.25 66.21875 20.875 63.09375 \r\nQ 16.5 59.96875 16.5 54.203125 \r\nQ 16.5 49.359375 19.40625 46.890625 \r\nQ 22.3125 44.4375 30.421875 42.921875 \r\nL 36.375 41.703125 \r\nQ 47.40625 39.59375 52.65625 34.296875 \r\nQ 57.90625 29 57.90625 20.125 \r\nQ 57.90625 9.515625 50.796875 4.046875 \r\nQ 43.703125 -1.421875 29.984375 -1.421875 \r\nQ 24.8125 -1.421875 18.96875 -0.25 \r\nQ 13.140625 0.921875 6.890625 3.21875 \r\nL 6.890625 13.375 \r\nQ 12.890625 10.015625 18.65625 8.296875 \r\nQ 24.421875 6.59375 29.984375 6.59375 \r\nQ 38.421875 6.59375 43.015625 9.90625 \r\nQ 47.609375 13.234375 47.609375 19.390625 \r\nQ 47.609375 24.75 44.3125 27.78125 \r\nQ 41.015625 30.8125 33.5 32.328125 \r\nL 27.484375 33.5 \r\nQ 16.453125 35.6875 11.515625 40.375 \r\nQ 6.59375 45.0625 6.59375 53.421875 \r\nQ 6.59375 63.09375 13.40625 68.65625 \r\nQ 20.21875 74.21875 32.171875 74.21875 \r\nQ 37.3125 74.21875 42.625 73.28125 \r\nQ 47.953125 72.359375 53.515625 70.515625 \r\nz\r\n\" id=\"DejaVuSans-83\"/>\r\n      <path d=\"M 48.78125 52.59375 \r\nL 48.78125 44.1875 \r\nQ 44.96875 46.296875 41.140625 47.34375 \r\nQ 37.3125 48.390625 33.40625 48.390625 \r\nQ 24.65625 48.390625 19.8125 42.84375 \r\nQ 14.984375 37.3125 14.984375 27.296875 \r\nQ 14.984375 17.28125 19.8125 11.734375 \r\nQ 24.65625 6.203125 33.40625 6.203125 \r\nQ 37.3125 6.203125 41.140625 7.25 \r\nQ 44.96875 8.296875 48.78125 10.40625 \r\nL 48.78125 2.09375 \r\nQ 45.015625 0.34375 40.984375 -0.53125 \r\nQ 36.96875 -1.421875 32.421875 -1.421875 \r\nQ 20.0625 -1.421875 12.78125 6.34375 \r\nQ 5.515625 14.109375 5.515625 27.296875 \r\nQ 5.515625 40.671875 12.859375 48.328125 \r\nQ 20.21875 56 33.015625 56 \r\nQ 37.15625 56 41.109375 55.140625 \r\nQ 45.0625 54.296875 48.78125 52.59375 \r\nz\r\n\" id=\"DejaVuSans-99\"/>\r\n     </defs>\r\n     <g transform=\"translate(14.798438 152.7975)rotate(-90)scale(0.1 -0.1)\">\r\n      <use xlink:href=\"#DejaVuSans-70\"/>\r\n      <use x=\"57.519531\" xlink:href=\"#DejaVuSans-49\"/>\r\n      <use x=\"121.142578\" xlink:href=\"#DejaVuSans-32\"/>\r\n      <use x=\"152.929688\" xlink:href=\"#DejaVuSans-83\"/>\r\n      <use x=\"216.40625\" xlink:href=\"#DejaVuSans-99\"/>\r\n      <use x=\"271.386719\" xlink:href=\"#DejaVuSans-111\"/>\r\n      <use x=\"332.568359\" xlink:href=\"#DejaVuSans-114\"/>\r\n      <use x=\"373.650391\" xlink:href=\"#DejaVuSans-101\"/>\r\n     </g>\r\n    </g>\r\n   </g>\r\n   <g id=\"line2d_14\">\r\n    <path clip-path=\"url(#p097164dea3)\" d=\"M 65.361932 167.193629 \r\nL 67.758496 206.78154 \r\nL 70.15506 215.873886 \r\nL 72.551624 229.874489 \r\nL 74.948188 183.265644 \r\nL 77.344752 151.757975 \r\nL 79.741316 222.443748 \r\nL 82.13788 196.792067 \r\nL 84.534444 226.194843 \r\nL 86.931008 134.203702 \r\nL 89.327572 134.203702 \r\nL 91.724137 147.132187 \r\nL 94.120701 151.757975 \r\nL 96.517265 138.592271 \r\nL 98.913829 138.47472 \r\nL 101.310393 208.131128 \r\nL 103.706957 183.380275 \r\nL 106.103521 142.901047 \r\nL 108.500085 151.287771 \r\nL 110.896649 176.913875 \r\nL 113.293213 142.670144 \r\nL 115.689777 129.970482 \r\nL 118.086341 130.079962 \r\nL 120.482905 105.337517 \r\nL 122.879469 106.065236 \r\nL 125.276033 106.065236 \r\nL 127.672598 102.576996 \r\nL 130.069162 109.02718 \r\nL 132.465726 111.954682 \r\nL 134.86229 104.071171 \r\nL 137.258854 85.620881 \r\nL 139.655418 61.493905 \r\nL 142.051982 88.646185 \r\nL 144.448546 87.535026 \r\nL 146.84511 68.622922 \r\nL 149.241674 77.256806 \r\nL 151.638238 38.532916 \r\nL 154.034802 47.572676 \r\nL 158.82793 38.532916 \r\nL 161.224494 42.914784 \r\nL 163.621059 68.622922 \r\nL 166.017623 53.869455 \r\nL 168.414187 47.230261 \r\nL 170.810751 34.083112 \r\nL 173.207315 92.771472 \r\nL 175.603879 58.872375 \r\nL 178.000443 58.872375 \r\nL 180.397007 51.986621 \r\nL 182.793571 49.571853 \r\nL 185.190135 51.986621 \r\nL 187.586699 40.7752 \r\nL 189.983263 50.013411 \r\nL 192.379827 51.986621 \r\nL 194.776391 58.872375 \r\nL 197.172955 54.478047 \r\nL 199.56952 38.532916 \r\nL 201.966084 67.456642 \r\nL 204.362648 67.456642 \r\nL 206.759212 44.727428 \r\nL 209.155776 46.912839 \r\nL 211.55234 42.753686 \r\nL 213.948904 65.375799 \r\nL 216.345468 52.781757 \r\nL 218.742032 52.781757 \r\nL 223.53516 44.727428 \r\nL 225.931724 36.437936 \r\nL 228.328288 32.201761 \r\nL 230.724852 42.753686 \r\nL 233.121416 57.387743 \r\nL 235.51798 53.305611 \r\nL 237.914545 53.305611 \r\nL 240.311109 32.201761 \r\nL 242.707673 49.163004 \r\nL 245.104237 40.690904 \r\nL 247.500801 55.667983 \r\nL 249.897365 60.61079 \r\nL 252.293929 60.61079 \r\nL 254.690493 58.101941 \r\nL 257.087057 47.230261 \r\nL 259.483621 47.230261 \r\nL 261.880185 66.377399 \r\nL 264.276749 62.270781 \r\nL 266.673313 62.270781 \r\nL 269.069877 67.862646 \r\nL 271.466441 67.862646 \r\nL 273.863006 63.857536 \r\nL 276.25957 74.409461 \r\nL 278.656134 63.857536 \r\nL 281.052698 63.857536 \r\nL 283.449262 74.409461 \r\nL 285.845826 95.935388 \r\nL 288.24239 53.869455 \r\nL 290.638954 58.101941 \r\nL 293.035518 70.423178 \r\nL 295.432082 77.086815 \r\nL 297.828646 81.053266 \r\nL 300.22521 74.409461 \r\nL 302.621774 66.377399 \r\nL 307.414902 66.377399 \r\nL 309.811467 62.270781 \r\nL 312.208031 70.423178 \r\nL 314.604595 66.377399 \r\nL 319.397723 74.409461 \r\nL 321.794287 66.377399 \r\nL 324.190851 66.377399 \r\nL 326.587415 70.423178 \r\nL 328.983979 66.377399 \r\nL 331.380543 70.423178 \r\nL 333.777107 59.793091 \r\nL 338.570235 59.793091 \r\nL 340.966799 63.857536 \r\nL 343.363363 59.793091 \r\nL 345.759928 57.387743 \r\nL 348.156492 59.793091 \r\nL 350.553056 57.387743 \r\nL 352.94962 57.387743 \r\nL 355.346184 61.410713 \r\nL 357.742748 67.862646 \r\nL 360.139312 59.793091 \r\nL 364.93244 59.793091 \r\nL 367.329004 63.857536 \r\nL 369.725568 63.857536 \r\nL 369.725568 63.857536 \r\n\" style=\"fill:none;stroke:#1f77b4;stroke-linecap:square;stroke-width:1.5;\"/>\r\n   </g>\r\n   <g id=\"patch_3\">\r\n    <path d=\"M 50.14375 239.758125 \r\nL 50.14375 22.318125 \r\n\" style=\"fill:none;stroke:#000000;stroke-linecap:square;stroke-linejoin:miter;stroke-width:0.8;\"/>\r\n   </g>\r\n   <g id=\"patch_4\">\r\n    <path d=\"M 384.94375 239.758125 \r\nL 384.94375 22.318125 \r\n\" style=\"fill:none;stroke:#000000;stroke-linecap:square;stroke-linejoin:miter;stroke-width:0.8;\"/>\r\n   </g>\r\n   <g id=\"patch_5\">\r\n    <path d=\"M 50.14375 239.758125 \r\nL 384.94375 239.758125 \r\n\" style=\"fill:none;stroke:#000000;stroke-linecap:square;stroke-linejoin:miter;stroke-width:0.8;\"/>\r\n   </g>\r\n   <g id=\"patch_6\">\r\n    <path d=\"M 50.14375 22.318125 \r\nL 384.94375 22.318125 \r\n\" style=\"fill:none;stroke:#000000;stroke-linecap:square;stroke-linejoin:miter;stroke-width:0.8;\"/>\r\n   </g>\r\n   <g id=\"text_16\">\r\n    <!-- Think-count, channel importance using PSD estimates -->\r\n    <defs>\r\n     <path d=\"M -0.296875 72.90625 \r\nL 61.375 72.90625 \r\nL 61.375 64.59375 \r\nL 35.5 64.59375 \r\nL 35.5 0 \r\nL 25.59375 0 \r\nL 25.59375 64.59375 \r\nL -0.296875 64.59375 \r\nz\r\n\" id=\"DejaVuSans-84\"/>\r\n     <path d=\"M 54.890625 33.015625 \r\nL 54.890625 0 \r\nL 45.90625 0 \r\nL 45.90625 32.71875 \r\nQ 45.90625 40.484375 42.875 44.328125 \r\nQ 39.84375 48.1875 33.796875 48.1875 \r\nQ 26.515625 48.1875 22.3125 43.546875 \r\nQ 18.109375 38.921875 18.109375 30.90625 \r\nL 18.109375 0 \r\nL 9.078125 0 \r\nL 9.078125 75.984375 \r\nL 18.109375 75.984375 \r\nL 18.109375 46.1875 \r\nQ 21.34375 51.125 25.703125 53.5625 \r\nQ 30.078125 56 35.796875 56 \r\nQ 45.21875 56 50.046875 50.171875 \r\nQ 54.890625 44.34375 54.890625 33.015625 \r\nz\r\n\" id=\"DejaVuSans-104\"/>\r\n     <path d=\"M 9.078125 75.984375 \r\nL 18.109375 75.984375 \r\nL 18.109375 31.109375 \r\nL 44.921875 54.6875 \r\nL 56.390625 54.6875 \r\nL 27.390625 29.109375 \r\nL 57.625 0 \r\nL 45.90625 0 \r\nL 18.109375 26.703125 \r\nL 18.109375 0 \r\nL 9.078125 0 \r\nz\r\n\" id=\"DejaVuSans-107\"/>\r\n     <path d=\"M 4.890625 31.390625 \r\nL 31.203125 31.390625 \r\nL 31.203125 23.390625 \r\nL 4.890625 23.390625 \r\nz\r\n\" id=\"DejaVuSans-45\"/>\r\n     <path d=\"M 9.421875 75.984375 \r\nL 18.40625 75.984375 \r\nL 18.40625 0 \r\nL 9.421875 0 \r\nz\r\n\" id=\"DejaVuSans-108\"/>\r\n     <path d=\"M 19.671875 64.796875 \r\nL 19.671875 37.40625 \r\nL 32.078125 37.40625 \r\nQ 38.96875 37.40625 42.71875 40.96875 \r\nQ 46.484375 44.53125 46.484375 51.125 \r\nQ 46.484375 57.671875 42.71875 61.234375 \r\nQ 38.96875 64.796875 32.078125 64.796875 \r\nz\r\nM 9.8125 72.90625 \r\nL 32.078125 72.90625 \r\nQ 44.34375 72.90625 50.609375 67.359375 \r\nQ 56.890625 61.8125 56.890625 51.125 \r\nQ 56.890625 40.328125 50.609375 34.8125 \r\nQ 44.34375 29.296875 32.078125 29.296875 \r\nL 19.671875 29.296875 \r\nL 19.671875 0 \r\nL 9.8125 0 \r\nz\r\n\" id=\"DejaVuSans-80\"/>\r\n     <path d=\"M 19.671875 64.796875 \r\nL 19.671875 8.109375 \r\nL 31.59375 8.109375 \r\nQ 46.6875 8.109375 53.6875 14.9375 \r\nQ 60.6875 21.78125 60.6875 36.53125 \r\nQ 60.6875 51.171875 53.6875 57.984375 \r\nQ 46.6875 64.796875 31.59375 64.796875 \r\nz\r\nM 9.8125 72.90625 \r\nL 30.078125 72.90625 \r\nQ 51.265625 72.90625 61.171875 64.09375 \r\nQ 71.09375 55.28125 71.09375 36.53125 \r\nQ 71.09375 17.671875 61.125 8.828125 \r\nQ 51.171875 0 30.078125 0 \r\nL 9.8125 0 \r\nz\r\n\" id=\"DejaVuSans-68\"/>\r\n    </defs>\r\n    <g transform=\"translate(54.795625 16.318125)scale(0.12 -0.12)\">\r\n     <use xlink:href=\"#DejaVuSans-84\"/>\r\n     <use x=\"61.083984\" xlink:href=\"#DejaVuSans-104\"/>\r\n     <use x=\"124.462891\" xlink:href=\"#DejaVuSans-105\"/>\r\n     <use x=\"152.246094\" xlink:href=\"#DejaVuSans-110\"/>\r\n     <use x=\"215.625\" xlink:href=\"#DejaVuSans-107\"/>\r\n     <use x=\"273.535156\" xlink:href=\"#DejaVuSans-45\"/>\r\n     <use x=\"309.619141\" xlink:href=\"#DejaVuSans-99\"/>\r\n     <use x=\"364.599609\" xlink:href=\"#DejaVuSans-111\"/>\r\n     <use x=\"425.78125\" xlink:href=\"#DejaVuSans-117\"/>\r\n     <use x=\"489.160156\" xlink:href=\"#DejaVuSans-110\"/>\r\n     <use x=\"552.539062\" xlink:href=\"#DejaVuSans-116\"/>\r\n     <use x=\"591.748047\" xlink:href=\"#DejaVuSans-44\"/>\r\n     <use x=\"623.535156\" xlink:href=\"#DejaVuSans-32\"/>\r\n     <use x=\"655.322266\" xlink:href=\"#DejaVuSans-99\"/>\r\n     <use x=\"710.302734\" xlink:href=\"#DejaVuSans-104\"/>\r\n     <use x=\"773.681641\" xlink:href=\"#DejaVuSans-97\"/>\r\n     <use x=\"834.960938\" xlink:href=\"#DejaVuSans-110\"/>\r\n     <use x=\"898.339844\" xlink:href=\"#DejaVuSans-110\"/>\r\n     <use x=\"961.71875\" xlink:href=\"#DejaVuSans-101\"/>\r\n     <use x=\"1023.242188\" xlink:href=\"#DejaVuSans-108\"/>\r\n     <use x=\"1051.025391\" xlink:href=\"#DejaVuSans-32\"/>\r\n     <use x=\"1082.8125\" xlink:href=\"#DejaVuSans-105\"/>\r\n     <use x=\"1110.595703\" xlink:href=\"#DejaVuSans-109\"/>\r\n     <use x=\"1208.007812\" xlink:href=\"#DejaVuSans-112\"/>\r\n     <use x=\"1271.484375\" xlink:href=\"#DejaVuSans-111\"/>\r\n     <use x=\"1332.666016\" xlink:href=\"#DejaVuSans-114\"/>\r\n     <use x=\"1373.779297\" xlink:href=\"#DejaVuSans-116\"/>\r\n     <use x=\"1412.988281\" xlink:href=\"#DejaVuSans-97\"/>\r\n     <use x=\"1474.267578\" xlink:href=\"#DejaVuSans-110\"/>\r\n     <use x=\"1537.646484\" xlink:href=\"#DejaVuSans-99\"/>\r\n     <use x=\"1592.626953\" xlink:href=\"#DejaVuSans-101\"/>\r\n     <use x=\"1654.150391\" xlink:href=\"#DejaVuSans-32\"/>\r\n     <use x=\"1685.9375\" xlink:href=\"#DejaVuSans-117\"/>\r\n     <use x=\"1749.316406\" xlink:href=\"#DejaVuSans-115\"/>\r\n     <use x=\"1801.416016\" xlink:href=\"#DejaVuSans-105\"/>\r\n     <use x=\"1829.199219\" xlink:href=\"#DejaVuSans-110\"/>\r\n     <use x=\"1892.578125\" xlink:href=\"#DejaVuSans-103\"/>\r\n     <use x=\"1956.054688\" xlink:href=\"#DejaVuSans-32\"/>\r\n     <use x=\"1987.841797\" xlink:href=\"#DejaVuSans-80\"/>\r\n     <use x=\"2048.144531\" xlink:href=\"#DejaVuSans-83\"/>\r\n     <use x=\"2111.621094\" xlink:href=\"#DejaVuSans-68\"/>\r\n     <use x=\"2188.623047\" xlink:href=\"#DejaVuSans-32\"/>\r\n     <use x=\"2220.410156\" xlink:href=\"#DejaVuSans-101\"/>\r\n     <use x=\"2281.933594\" xlink:href=\"#DejaVuSans-115\"/>\r\n     <use x=\"2334.033203\" xlink:href=\"#DejaVuSans-116\"/>\r\n     <use x=\"2373.242188\" xlink:href=\"#DejaVuSans-105\"/>\r\n     <use x=\"2401.025391\" xlink:href=\"#DejaVuSans-109\"/>\r\n     <use x=\"2498.4375\" xlink:href=\"#DejaVuSans-97\"/>\r\n     <use x=\"2559.716797\" xlink:href=\"#DejaVuSans-116\"/>\r\n     <use x=\"2598.925781\" xlink:href=\"#DejaVuSans-101\"/>\r\n     <use x=\"2660.449219\" xlink:href=\"#DejaVuSans-115\"/>\r\n    </g>\r\n   </g>\r\n  </g>\r\n </g>\r\n <defs>\r\n  <clipPath id=\"p097164dea3\">\r\n   <rect height=\"217.44\" width=\"334.8\" x=\"50.14375\" y=\"22.318125\"/>\r\n  </clipPath>\r\n </defs>\r\n</svg>\r\n",
      "image/png": "[encoded data removed]"
     },
     "metadata": {
      "needs_background": "light"
     }
    }
   ],
   "source": [
    "fig,ax = plt.subplots()\n",
    "ax.plot(np.linspace(1,128,128),channels_f1Scores)\n",
    "ax.set_xlabel(\"No. of features, starting from most important\")\n",
    "ax.set_ylabel(\"F1 Score\")\n",
    "ax.set_title(\"Think-count, channel importance using PSD estimates\")\n",
    "# ax.set_xticks(np.linspace(1,128,15))\n",
    "plt.show()"
   ]
  },
  {
   "cell_type": "code",
   "execution_count": 258,
   "metadata": {},
   "outputs": [
    {
     "output_type": "stream",
     "name": "stdout",
     "text": "Highest F1 score: 0.8088235294117647\n"
    }
   ],
   "source": [
    "maxF1 = max(channels_f1Scores)\n",
    "print(\"Highest F1 score:\",maxF1)"
   ]
  },
  {
   "cell_type": "code",
   "execution_count": 267,
   "metadata": {},
   "outputs": [
    {
     "output_type": "stream",
     "name": "stdout",
     "text": "No. of channels used to obtain highest F1 score: 68\nChannels used: ['aCh19_t' 'Ch19_t' 'Ch22_t' 'aCh11_t' 'Ch24_a' 'Ch11_t' 'aCh15_t'\n 'aCh24_a' 'aCh18_a' 'Ch27_a' 'aCh18_t' 'aCh15_a' 'aCh8_a' 'aCh22_t'\n 'aCh20_t' 'aCh7_a' 'Ch13_t' 'aCh27_a' 'aCh6_t' 'Ch18_a' 'aCh12_a' 'Ch6_t'\n 'Ch8_a' 'aCh11_a' 'aCh20_a' 'aCh13_t' 'aCh23_a' 'aCh30_t' 'Ch11_a'\n 'aCh12_t' 'Ch15_t' 'Ch12_a' 'Ch20_t' 'Ch19_a' 'aCh17_t' 'aCh9_a' 'Ch7_a'\n 'aCh25_a' 'Ch18_t' 'aCh32_t' 'Ch30_t' 'Ch23_a' 'Ch29_a' 'Ch21_a'\n 'aCh19_a' 'Ch30_a' 'Ch9_a' 'aCh30_a' 'aCh14_a' 'Ch25_a' 'Ch22_a'\n 'aCh10_a' 'aCh29_a' 'Ch12_t' 'Ch20_a' 'aCh21_a' 'Ch24_t' 'aCh29_t'\n 'aCh23_t' 'Ch4_a' 'aCh5_a' 'Ch6_a' 'Ch16_a' 'aCh4_a' 'aCh22_a' 'aCh21_t'\n 'Ch21_t' 'Ch5_a']\n"
    }
   ],
   "source": [
    "maxF1_channels = sorted_channels[:np.array(channels_f1Scores).argmax()]\n",
    "print(\"No. of channels used to obtain highest F1 score:\", len(maxF1_channels))\n",
    "print(\"Channels used:\",maxF1_channels)"
   ]
  },
  {
   "cell_type": "code",
   "execution_count": 284,
   "metadata": {},
   "outputs": [],
   "source": [
    "#Most frequently used channels \n",
    "maxF1_channelsDict = {}\n",
    "for channel in maxF1_channels:\n",
    "    channel = channel[channel.find(\"Ch\"):channel.find(\"_\")]\n",
    "    if channel not in maxF1_channelsDict.keys():\n",
    "        maxF1_channelsDict[channel] = 1\n",
    "    else:\n",
    "        maxF1_channelsDict[channel]+=1\n",
    "maxF1_channelsDict = {k:v for k,v in sorted(maxF1_channelsDict.items(), key=lambda item: item[1], reverse=True)}"
   ]
  },
  {
   "cell_type": "code",
   "execution_count": 285,
   "metadata": {},
   "outputs": [
    {
     "output_type": "stream",
     "name": "stdout",
     "text": "{'Ch19': 4, 'Ch22': 4, 'Ch11': 4, 'Ch18': 4, 'Ch20': 4, 'Ch12': 4, 'Ch30': 4, 'Ch21': 4, 'Ch24': 3, 'Ch15': 3, 'Ch6': 3, 'Ch23': 3, 'Ch29': 3, 'Ch27': 2, 'Ch8': 2, 'Ch7': 2, 'Ch13': 2, 'Ch9': 2, 'Ch25': 2, 'Ch4': 2, 'Ch5': 2, 'Ch17': 1, 'Ch32': 1, 'Ch14': 1, 'Ch10': 1, 'Ch16': 1}\n"
    }
   ],
   "source": [
    "print(maxF1_channelsDict)"
   ]
  },
  {
   "cell_type": "code",
   "execution_count": 302,
   "metadata": {},
   "outputs": [],
   "source": [
    "plt.bar(range(len(maxF1_channelsDict)),maxF1_channelsDict.values())\n",
    "plt.xticks(range(len(maxF1_channelsDict)),list(maxF1_channelsDict.keys()))\n",
    "plt.title(\"Think-count, Most commonly used channels for highest F1 Score\")\n",
    "plt.ylabel(\"No. of occurence\")\n",
    "plt.xlabel(\"Channels\")\n",
    "plt.show()\n"
   ]
  },
  {
   "cell_type": "code",
   "execution_count": 325,
   "metadata": {},
   "outputs": [
    {
     "output_type": "stream",
     "name": "stdout",
     "text": "0.6206896551724138\n128\n---------\n2\n0.5655172413793104\n128\n---------\n2\n0.5344827586206896\n127\n---------\n2\n0.546875\n126\n---------\n2\n0.5636363636363637\n125\n---------\n2\n0.5652173913043478\n124\n---------\n2\n0.5547445255474454\n123\n---------\n2\n0.5333333333333333\n122\n---------\n2\n0.6393442622950819\n121\n---------\n3\n0.49541284403669716\n121\n---------\n3\n0.4466019417475728\n120\n---------\n3\n0.5862068965517242\n119\n---------\n3\n0.5573770491803278\n118\n---------\n3\n0.5504587155963303\n117\n---------\n3\n0.4466019417475728\n116\n---------\n3\n0.5891472868217055\n115\n---------\n3\n0.5081967213114754\n114\n---------\n3\n0.4672897196261682\n113\n---------\n3\n0.5046728971962616\n112\n---------\n3\n0.6016260162601625\n111\n---------\n3\n0.49090909090909096\n110\n---------\n3\n0.5357142857142857\n109\n---------\n3\n0.5528455284552846\n108\n---------\n3\n0.6153846153846154\n107\n---------\n3\n0.5208333333333334\n106\n---------\n3\n0.5217391304347826\n105\n---------\n3\n0.6218487394957982\n104\n---------\n3\n0.5789473684210525\n103\n---------\n3\n0.5283018867924528\n102\n---------\n3\n0.47457627118644063\n101\n---------\n3\n0.4778761061946903\n100\n---------\n3\n0.5666666666666667\n99\n---------\n3\n0.5357142857142857\n98\n---------\n3\n0.4807692307692308\n97\n---------\n3\n0.5123966942148761\n96\n---------\n3\n0.5846153846153846\n95\n---------\n3\n0.5365853658536586\n94\n---------\n3\n0.5283018867924528\n93\n---------\n3\n0.4424778761061947\n92\n---------\n3\n0.5309734513274337\n91\n---------\n3\n0.573913043478261\n90\n---------\n3\n0.564102564102564\n89\n---------\n3\n0.59375\n88\n---------\n3\n0.5178571428571429\n87\n---------\n3\n0.5046728971962616\n86\n---------\n3\n0.5306122448979592\n85\n---------\n3\n0.6423357664233577\n84\n---------\n4\n0.4680851063829787\n84\n---------\n4\n0.6212121212121211\n83\n---------\n4\n0.6029411764705882\n82\n---------\n4\n0.6875\n81\n---------\n5\n0.6341463414634146\n81\n---------\n5\n0.624\n80\n---------\n5\n0.6153846153846154\n79\n---------\n5\n0.6356589147286822\n78\n---------\n5\n0.5409836065573771\n77\n---------\n5\n0.5757575757575757\n76\n---------\n5\n0.6666666666666665\n75\n---------\n5\n0.6559999999999999\n74\n---------\n5\n0.6000000000000001\n73\n---------\n5\n0.676923076923077\n72\n---------\n5\n0.5945945945945946\n71\n---------\n5\n0.6363636363636364\n70\n---------\n5\n0.637037037037037\n69\n---------\n5\n0.6771653543307087\n68\n---------\n5\n0.6615384615384616\n67\n---------\n5\n0.6000000000000001\n66\n---------\n5\n0.6861313868613139\n65\n---------\n5\n0.6101694915254238\n64\n---------\n5\n0.6559999999999999\n63\n---------\n5\n0.608\n62\n---------\n5\n0.676923076923077\n61\n---------\n5\n0.6717557251908397\n60\n---------\n5\n0.6259541984732824\n59\n---------\n5\n0.5762711864406779\n58\n---------\n5\n0.6141732283464567\n57\n---------\n5\n0.6611570247933884\n56\n---------\n5\n0.6074074074074073\n55\n---------\n5\n0.6666666666666667\n54\n---------\n5\n0.6766917293233083\n53\n---------\n5\n0.6713286713286712\n52\n---------\n5\n0.6153846153846154\n51\n---------\n5\n0.6666666666666667\n50\n---------\n5\n0.6446280991735538\n49\n---------\n5\n0.6466165413533834\n48\n---------\n5\n0.6031746031746031\n47\n---------\n5\n0.5765765765765766\n46\n---------\n5\n0.6721311475409836\n45\n---------\n5\n0.6616541353383458\n44\n---------\n5\n0.5849056603773585\n43\n---------\n5\n0.6515151515151515\n42\n---------\n5\n0.5950413223140496\n41\n---------\n5\n0.6717557251908397\n40\n---------\n5\n0.6564885496183207\n39\n---------\n5\n0.6466165413533834\n38\n---------\n5\n0.6201550387596899\n37\n---------\n5\n0.6451612903225806\n36\n---------\n5\n0.65\n35\n---------\n5\n0.6818181818181819\n34\n---------\n5\n0.5736434108527132\n33\n---------\n5\n0.6666666666666667\n32\n---------\n5\n0.5954198473282443\n31\n---------\n5\n0.6564885496183207\n30\n---------\n5\n0.5499999999999999\n29\n---------\n5\n0.6050420168067226\n28\n---------\n5\n0.6666666666666667\n27\n---------\n5\n0.5950413223140496\n26\n---------\n5\n0.564516129032258\n25\n---------\n5\n0.5606060606060606\n24\n---------\n5\n0.5528455284552846\n23\n---------\n5\n0.6818181818181819\n22\n---------\n5\n0.591304347826087\n21\n---------\n5\n0.6929133858267716\n20\n---------\n6\n0.6363636363636364\n20\n---------\n6\n0.6115702479338843\n19\n---------\n6\n0.6106870229007634\n18\n---------\n6\n0.624\n17\n---------\n6\n0.5765765765765766\n16\n---------\n6\n0.6507936507936509\n15\n---------\n6\n0.64\n14\n---------\n6\n0.6363636363636364\n13\n---------\n6\n0.6559999999999999\n12\n---------\n6\n0.5970149253731343\n11\n---------\n6\n0.5853658536585366\n10\n---------\n6\n0.6315789473684211\n9\n---------\n6\n0.6201550387596899\n8\n---------\n6\n0.6470588235294118\n7\n---------\n6\n0.656934306569343\n6\n---------\n6\n"
    }
   ],
   "source": [
    "#Discard channel if performs is worse after adding it, start from most important channel\n",
    "Dchannels_f1Scores = [0]\n",
    "Dsorted_channels = sorted_channels[:]\n",
    "no_channels = 1\n",
    "for i in range(len(sorted_channels)):\n",
    "    drop_channels = []\n",
    "    bestCh_df = create_bestCh_df(t_auc_df,a_auc_df,t_psd_df,a_psd_df,Dsorted_channels,no_channels)\n",
    "    current_f1Score = PCA_CV_SVM(bestCh_df)\n",
    "    print(current_f1Score)\n",
    "    print(len(Dsorted_channels))\n",
    "    print(\"---------\")\n",
    "    if current_f1Score>Dchannels_f1Scores[-1]:\n",
    "        Dchannels_f1Scores.append(current_f1Score)\n",
    "        no_channels +=1\n",
    "        print(no_channels)\n",
    "    else:\n",
    "        Dsorted_channels = np.delete(Dsorted_channels,np.where(Dsorted_channels==sorted_channels[i]))\n",
    "        print(no_channels)"
   ]
  },
  {
   "cell_type": "code",
   "execution_count": 326,
   "metadata": {},
   "outputs": [
    {
     "output_type": "stream",
     "name": "stdout",
     "text": "['aCh19_t' 'aCh18_a' 'Ch9_a' 'Ch22_a' 'Ch32_t']\n['aCh19_t' 'Ch19_t' 'Ch22_t' 'aCh11_t' 'Ch24_a' 'Ch11_t' 'aCh15_t'\n 'aCh24_a' 'aCh18_a' 'Ch27_a' 'aCh18_t' 'aCh15_a' 'aCh8_a' 'aCh22_t'\n 'aCh20_t' 'aCh7_a' 'Ch13_t' 'aCh27_a' 'aCh6_t' 'Ch18_a' 'aCh12_a' 'Ch6_t'\n 'Ch8_a' 'aCh11_a' 'aCh20_a' 'aCh13_t' 'aCh23_a' 'aCh30_t' 'Ch11_a'\n 'aCh12_t' 'Ch15_t' 'Ch12_a' 'Ch20_t' 'Ch19_a' 'aCh17_t' 'aCh9_a' 'Ch7_a'\n 'aCh25_a' 'Ch18_t' 'aCh32_t' 'Ch30_t' 'Ch23_a' 'Ch29_a' 'Ch21_a'\n 'aCh19_a' 'Ch30_a' 'Ch9_a' 'aCh30_a' 'aCh14_a' 'Ch25_a' 'Ch22_a'\n 'aCh10_a' 'aCh29_a' 'Ch12_t' 'Ch20_a' 'aCh21_a' 'Ch24_t' 'aCh29_t'\n 'aCh23_t' 'Ch4_a' 'aCh5_a' 'Ch6_a' 'Ch16_a' 'aCh4_a' 'aCh22_a' 'aCh21_t'\n 'Ch21_t' 'Ch5_a' 'aCh6_a' 'Ch10_a' 'aCh10_t' 'Ch23_t' 'aCh17_a' 'Ch28_t'\n 'Ch13_a' 'aCh27_t' 'aCh3_t' 'Ch14_a' 'aCh24_t' 'aCh9_t' 'Ch29_t' 'Ch14_t'\n 'Ch1_t' 'aCh13_a' 'Ch15_a' 'Ch26_t' 'Ch9_t' 'aCh31_t' 'Ch28_a' 'Ch3_t'\n 'aCh16_a' 'Ch2_a' 'Ch1_a' 'aCh26_t' 'aCh28_a' 'Ch17_a' 'Ch25_t' 'Ch31_t'\n 'aCh1_t' 'aCh5_t' 'aCh25_t' 'Ch27_t' 'Ch26_a' 'Ch10_t' 'aCh3_a' 'aCh16_t'\n 'aCh2_a' 'Ch5_t' 'Ch16_t' 'Ch17_t' 'aCh1_a' 'Ch31_a' 'Ch32_t' 'Ch4_t'\n 'aCh8_t' 'aCh32_a' 'Ch8_t' 'aCh31_a' 'aCh28_t' 'aCh7_t' 'aCh14_t' 'Ch3_a'\n 'aCh4_t' 'Ch32_a' 'Ch7_t' 'aCh2_t' 'aCh26_a' 'Ch2_t']\n"
    }
   ],
   "source": [
    "print(Dsorted_channels)\n",
    "print(sorted_channels)"
   ]
  },
  {
   "cell_type": "code",
   "execution_count": 327,
   "metadata": {},
   "outputs": [],
   "source": [
    "fig,ax = plt.subplots()\n",
    "ax.plot(Dchannels_f1Scores)\n",
    "ax.set_xlabel(\"No. of features, starting from most important,discard method\")\n",
    "ax.set_ylabel(\"F1 Score\")\n",
    "ax.set_title(\"Think-count, channel importance using PSD estimates\")\n",
    "# ax.set_xticks(np.linspace(1,128,15))\n",
    "plt.show()"
   ]
  },
  {
   "cell_type": "code",
   "execution_count": 312,
   "metadata": {},
   "outputs": [
    {
     "output_type": "stream",
     "name": "stdout",
     "text": "128\n"
    }
   ],
   "source": [
    "a = sorted_channels[:]\n",
    "print(len(a))"
   ]
  },
  {
   "cell_type": "code",
   "execution_count": 316,
   "metadata": {},
   "outputs": [
    {
     "output_type": "stream",
     "name": "stdout",
     "text": "125\n"
    }
   ],
   "source": [
    "b = np.delete(a,(1,3,5))\n",
    "print(len(b))"
   ]
  },
  {
   "cell_type": "code",
   "execution_count": null,
   "metadata": {},
   "outputs": [],
   "source": []
  },
  {
   "cell_type": "code",
   "execution_count": null,
   "metadata": {},
   "outputs": [],
   "source": []
  },
  {
   "cell_type": "code",
   "execution_count": null,
   "metadata": {},
   "outputs": [],
   "source": []
  },
  {
   "cell_type": "code",
   "execution_count": null,
   "metadata": {},
   "outputs": [],
   "source": []
  },
  {
   "cell_type": "code",
   "execution_count": null,
   "metadata": {},
   "outputs": [],
   "source": []
  },
  {
   "cell_type": "code",
   "execution_count": null,
   "metadata": {},
   "outputs": [],
   "source": []
  },
  {
   "cell_type": "code",
   "execution_count": null,
   "metadata": {},
   "outputs": [],
   "source": []
  },
  {
   "cell_type": "code",
   "execution_count": null,
   "metadata": {},
   "outputs": [],
   "source": []
  },
  {
   "cell_type": "code",
   "execution_count": null,
   "metadata": {},
   "outputs": [],
   "source": []
  },
  {
   "cell_type": "code",
   "execution_count": null,
   "metadata": {},
   "outputs": [],
   "source": []
  },
  {
   "cell_type": "code",
   "execution_count": null,
   "metadata": {},
   "outputs": [],
   "source": []
  },
  {
   "cell_type": "code",
   "execution_count": null,
   "metadata": {},
   "outputs": [],
   "source": []
  },
  {
   "cell_type": "code",
   "execution_count": null,
   "metadata": {},
   "outputs": [],
   "source": []
  },
  {
   "cell_type": "code",
   "execution_count": null,
   "metadata": {},
   "outputs": [],
   "source": []
  },
  {
   "cell_type": "code",
   "execution_count": null,
   "metadata": {},
   "outputs": [],
   "source": []
  },
  {
   "cell_type": "code",
   "execution_count": null,
   "metadata": {},
   "outputs": [],
   "source": []
  },
  {
   "cell_type": "code",
   "execution_count": null,
   "metadata": {},
   "outputs": [],
   "source": []
  },
  {
   "cell_type": "code",
   "execution_count": null,
   "metadata": {},
   "outputs": [],
   "source": []
  },
  {
   "cell_type": "code",
   "execution_count": null,
   "metadata": {},
   "outputs": [],
   "source": []
  },
  {
   "cell_type": "code",
   "execution_count": null,
   "metadata": {},
   "outputs": [],
   "source": []
  },
  {
   "cell_type": "code",
   "execution_count": null,
   "metadata": {},
   "outputs": [],
   "source": []
  },
  {
   "cell_type": "code",
   "execution_count": null,
   "metadata": {},
   "outputs": [],
   "source": []
  },
  {
   "cell_type": "code",
   "execution_count": null,
   "metadata": {},
   "outputs": [],
   "source": []
  },
  {
   "cell_type": "code",
   "execution_count": null,
   "metadata": {},
   "outputs": [],
   "source": []
  }
 ],
 "metadata": {
  "language_info": {
   "codemirror_mode": {
    "name": "ipython",
    "version": 3
   },
   "file_extension": ".py",
   "mimetype": "text/x-python",
   "name": "python",
   "nbconvert_exporter": "python",
   "pygments_lexer": "ipython3",
   "version": "3.7.3-final"
  },
  "orig_nbformat": 2,
  "kernelspec": {
   "name": "python37364bit4f00f251aa71407b905d36ad95b25cdd",
   "display_name": "Python 3.7.3 64-bit"
  }
 },
 "nbformat": 4,
 "nbformat_minor": 2
}