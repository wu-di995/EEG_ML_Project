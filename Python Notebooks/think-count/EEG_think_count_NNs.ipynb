{
 "cells": [
  {
   "cell_type": "code",
   "execution_count": null,
   "metadata": {},
   "outputs": [],
   "source": [
    "## Testing multiple neural net architectures on time series data "
   ]
  },
  {
   "cell_type": "code",
   "execution_count": 2,
   "metadata": {},
   "outputs": [],
   "source": [
    "#Import necessary libraries\n",
    "\n",
    "import pandas as pd\n",
    "import numpy as np\n",
    "from scipy import signal\n",
    "import os\n",
    "import matplotlib.pyplot as plt\n",
    "import matplotlib.patches as mpatches\n",
    "import pickle as pkl\n",
    "import itertools \n",
    "import glob\n",
    "from sklearn import svm \n",
    "from sklearn.preprocessing import StandardScaler, LabelEncoder\n",
    "from sklearn.model_selection import StratifiedShuffleSplit, GridSearchCV, cross_val_score\n",
    "from sklearn.metrics import classification_report, confusion_matrix, plot_confusion_matrix, f1_score\n",
    "from sklearn.decomposition import PCA\n",
    "import tensorflow as tf\n",
    "from tensorflow import keras\n",
    "from tensorflow.keras.wrappers.scikit_learn import KerasClassifier\n",
    "\n",
    "%matplotlib inline \n",
    "# %matplotlib qt\n"
   ]
  },
  {
   "cell_type": "code",
   "execution_count": 5,
   "metadata": {},
   "outputs": [
    {
     "output_type": "stream",
     "name": "stdout",
     "text": "(640, 32)\n(640, 32)\n(320, 32)\n(320, 32)\n[26.553326 26.526772 26.500244 26.473745 26.447271 26.420824]\n[-2.106922 -1.079174  3.53729   6.610675  6.091244  6.085153  6.591888\n  6.072476  6.066403  6.573158  6.053764  6.04771 ]\n"
    }
   ],
   "source": [
    "# Import raw datasets\n",
    "#0.05s \n",
    "t_df005 = pd.read_pickle(\"F:\\EEG-data\\\\think-count\\splits\\\\0.05s/raw_think.pkl\")\n",
    "c_df005 = pd.read_pickle(\"F:\\EEG-data\\\\think-count\\splits\\\\0.05s/raw_count.pkl\")\n",
    "\n",
    "#0.1s\n",
    "t_df01 = pd.read_pickle(\"F:\\EEG-data\\\\think-count\\splits\\\\0.1s/raw_think.pkl\")\n",
    "c_df01 = pd.read_pickle(\"F:\\EEG-data\\\\think-count\\splits\\\\0.1s/raw_count.pkl\")\n",
    "\n",
    "\n",
    "print(t_df005.shape)\n",
    "print(c_df005.shape)\n",
    "print(t_df01.shape)\n",
    "print(c_df01.shape)\n",
    "print(t_df005.iloc[0,0]) # Each element in dataframe is a single timestep\n",
    "print(c_df01.iloc[0,0])"
   ]
  },
  {
   "cell_type": "code",
   "execution_count": 13,
   "metadata": {},
   "outputs": [],
   "source": [
    "#Import filtered datasets \n",
    "#0.05s \n",
    "ft_df005 = pd.read_pickle(\"F:\\EEG-data\\\\think-count\\\\filtered\\\\0.05s/lp40.5_think.pkl\")\n",
    "fc_df005 = pd.read_pickle(\"F:\\EEG-data\\\\think-count\\\\filtered\\\\0.05s/lp40.5_count.pkl\")\n",
    "\n",
    "#0.1s\n",
    "ft_df01 = pd.read_pickle(\"F:\\EEG-data\\\\think-count\\\\filtered\\\\0.1s/lp40.5_think.pkl\")\n",
    "fc_df01 = pd.read_pickle(\"F:\\EEG-data\\\\think-count\\\\filtered\\\\0.1s/lp40.5_count.pkl\")"
   ]
  },
  {
   "cell_type": "code",
   "execution_count": 17,
   "metadata": {},
   "outputs": [
    {
     "output_type": "stream",
     "name": "stdout",
     "text": "(640, 32)\n(640, 32)\n(320, 32)\n(320, 32)\n[-2.10673783 -0.8447333   3.37359888  6.50268603  6.31584853  6.02463171]\n[-2.10673783 -0.8447333   3.37359888  6.50268603  6.31584853  6.02463171\n  6.45058973  6.19352673  6.12965477  6.42796197  6.07400345  6.17313749]\n"
    }
   ],
   "source": [
    "# FILTERED\n",
    "print(ft_df005.shape)\n",
    "print(fc_df005.shape)\n",
    "\n",
    "print(ft_df01.shape)\n",
    "print(fc_df01.shape)\n",
    "\n",
    "print(fc_df005.iloc[0,0])\n",
    "print(fc_df01.iloc[0,0])\n"
   ]
  },
  {
   "cell_type": "code",
   "execution_count": 14,
   "metadata": {},
   "outputs": [],
   "source": [
    "# Shape each dataframe into 640/320,12,32\n",
    "def reshape_df(df):\n",
    "    sampLen = len(df.iloc[0,0])\n",
    "    N = df.shape[0]\n",
    "    new_df = np.zeros((N,sampLen,32))\n",
    "    for i in range(32):\n",
    "        channel = df.iloc[:,i].values \n",
    "        channel_df = np.zeros((N,sampLen))\n",
    "        for j in range(len(channel)):\n",
    "            channel_df[j,:] = channel[j]\n",
    "        new_df[:,:,i] = keras.utils.normalize(channel_df)\n",
    "    return new_df\n"
   ]
  },
  {
   "cell_type": "code",
   "execution_count": 6,
   "metadata": {},
   "outputs": [],
   "source": [
    "#0.05s\n",
    "t_df005r = reshape_df(t_df005)\n",
    "c_df005r = reshape_df(c_df005)\n",
    "\n",
    "#0.1s\n",
    "t_df01r = reshape_df(t_df01)\n",
    "c_df01r = reshape_df(c_df01)\n"
   ]
  },
  {
   "cell_type": "code",
   "execution_count": 7,
   "metadata": {},
   "outputs": [
    {
     "output_type": "stream",
     "name": "stdout",
     "text": "(640, 6, 32)\n(640, 6, 32)\n(320, 12, 32)\n(320, 12, 32)\n"
    }
   ],
   "source": [
    "#0.05s\n",
    "print(t_df005r.shape)\n",
    "print(c_df005r.shape)\n",
    "\n",
    "#0.1s\n",
    "print(t_df01r.shape)\n",
    "print(c_df01r.shape)"
   ]
  },
  {
   "cell_type": "code",
   "execution_count": 18,
   "metadata": {},
   "outputs": [],
   "source": [
    "# FILTERED\n",
    "#0.05s\n",
    "ft_df005r = reshape_df(ft_df005)\n",
    "fc_df005r = reshape_df(fc_df005)\n",
    "\n",
    "#0.1s\n",
    "ft_df01r = reshape_df(ft_df01)\n",
    "fc_df01r = reshape_df(fc_df01)\n"
   ]
  },
  {
   "cell_type": "code",
   "execution_count": 19,
   "metadata": {},
   "outputs": [
    {
     "output_type": "stream",
     "name": "stdout",
     "text": "(640, 6, 32)\n(640, 6, 32)\n(320, 12, 32)\n(320, 12, 32)\n"
    }
   ],
   "source": [
    "## FILTERED\n",
    "#0.05s\n",
    "print(ft_df005r.shape)\n",
    "print(fc_df005r.shape)\n",
    "\n",
    "#0.1s\n",
    "print(ft_df01r.shape)\n",
    "print(fc_df01r.shape)\n"
   ]
  },
  {
   "cell_type": "code",
   "execution_count": 8,
   "metadata": {},
   "outputs": [
    {
     "output_type": "stream",
     "name": "stdout",
     "text": "(1280, 6, 32)\n(1280,)\n(640, 12, 32)\n(640,)\n"
    }
   ],
   "source": [
    "#0.05\n",
    "X005 = np.vstack((t_df005r,c_df005r))\n",
    "y005 = np.hstack((np.zeros(t_df005r.shape[0]),np.ones(c_df005r.shape[0])))\n",
    "print(X005.shape)\n",
    "print(y005.shape)\n",
    "#0.1\n",
    "X01 = np.vstack((t_df01r,c_df01r))\n",
    "y01 = np.hstack((np.zeros(t_df01r.shape[0]),np.ones(c_df01r.shape[0])))\n",
    "print(X01.shape)\n",
    "print(y01.shape)"
   ]
  },
  {
   "cell_type": "code",
   "execution_count": 21,
   "metadata": {},
   "outputs": [
    {
     "output_type": "stream",
     "name": "stdout",
     "text": "(1280, 6, 32)\n(1280,)\n(640, 12, 32)\n(640,)\n"
    }
   ],
   "source": [
    "#FILTERED \n",
    "#0.05\n",
    "fX005 = np.vstack((ft_df005r,fc_df005r))\n",
    "fy005 = np.hstack((np.zeros(ft_df005r.shape[0]),np.ones(fc_df005r.shape[0])))\n",
    "print(fX005.shape)\n",
    "print(fy005.shape)\n",
    "#0.1\n",
    "fX01 = np.vstack((ft_df01r,fc_df01r))\n",
    "fy01 = np.hstack((np.zeros(ft_df01r.shape[0]),np.ones(fc_df01r.shape[0])))\n",
    "print(fX01.shape)\n",
    "print(fy01.shape)"
   ]
  },
  {
   "cell_type": "code",
   "execution_count": 22,
   "metadata": {},
   "outputs": [],
   "source": [
    "#Split into train and test sets\n",
    "def split_train_test(X,y):\n",
    "    sss = StratifiedShuffleSplit(n_splits=5,test_size=0.2,random_state=0)\n",
    "    for train_index, test_index in sss.split(X,y):\n",
    "                x_train, x_test = X[train_index],X[test_index]\n",
    "                y_train, y_test = y[train_index],y[test_index]\n",
    "    return x_train,x_test,y_train,y_test"
   ]
  },
  {
   "cell_type": "code",
   "execution_count": 23,
   "metadata": {},
   "outputs": [],
   "source": [
    "#DNN model\n",
    "def DNN_model(sampLen):\n",
    "    model = tf.keras.models.Sequential([\n",
    "        tf.keras.layers.Dense(sampLen*32, input_shape = (sampLen,32), activation=\"relu\"),\n",
    "        tf.keras.layers.Dense(10, activation=\"relu\"), \n",
    "        tf.keras.layers.Dense(1,activation=\"sigmoid\")\n",
    "    ])\n",
    "    model.compile(loss=\"binary_crossentropy\",\n",
    "                optimizer='adam',\n",
    "                metrics=[\"accuracy\"])\n",
    "    # model.summary()\n",
    "    return model\n",
    "\n",
    "#Conv model\n",
    "def CONV_model(sampLen):\n",
    "    model2 = tf.keras.models.Sequential([\n",
    "        tf.keras.layers.Conv1D(filters=128, kernel_size=5,strides=1, padding=\"causal\",\n",
    "                                activation=\"relu\",input_shape=(sampLen,32)), #input shape = (n_timesteps,n_features)\n",
    "        tf.keras.layers.Conv1D(filters=64, kernel_size=5,strides=1, padding=\"causal\",activation=\"relu\"),\n",
    "        tf.keras.layers.Conv1D(filters=32, kernel_size=5,strides=1, padding=\"causal\",activation=\"relu\"),\n",
    "        # tf.keras.layers.Dropout(0.5),\n",
    "        tf.keras.layers.MaxPool1D(pool_size=2),\n",
    "        tf.keras.layers.Conv1D(filters=16, kernel_size=5,strides=1, padding=\"causal\",activation=\"relu\"),\n",
    "        tf.keras.layers.Flatten(),\n",
    "        tf.keras.layers.Dense(10, activation=\"relu\"), \n",
    "        # tf.keras.layers.Dropout(0.5),\n",
    "        tf.keras.layers.Dense(1,activation=\"sigmoid\")\n",
    "    ])\n",
    "    # optimizer = tf.keras.optimizers.Adam(lr=9e-4)\n",
    "    model2.compile(loss=\"binary_crossentropy\",\n",
    "                optimizer=\"adam\",\n",
    "                metrics=[\"accuracy\"])\n",
    "    return model2\n",
    "\n",
    "#Conv + LSTM\n",
    "def CONV_LSTM_model(sampLen):\n",
    "    model3 = tf.keras.models.Sequential([\n",
    "    tf.keras.layers.Conv1D(filters=128, kernel_size=5,strides=1, padding=\"causal\",\n",
    "                              activation=\"relu\",input_shape=(sampLen,32)), #input shape = (n_timesteps,n_features)\n",
    "    tf.keras.layers.Conv1D(filters=64, kernel_size=5,strides=1, padding=\"causal\",activation=\"relu\"),\n",
    "    tf.keras.layers.Conv1D(filters=32, kernel_size=5,strides=1, padding=\"causal\",activation=\"relu\"),\n",
    "    # tf.keras.layers.Dropout(0.5),\n",
    "    tf.keras.layers.MaxPool1D(pool_size=2),\n",
    "    tf.keras.layers.Conv1D(filters=16, kernel_size=5,strides=1, padding=\"causal\",activation=\"relu\"),\n",
    "    # tf.keras.layers.Flatten(),\n",
    "    tf.keras.layers.Bidirectional(tf.keras.layers.LSTM(32, return_sequences=True)),\n",
    "    tf.keras.layers.Flatten(),\n",
    "    # tf.keras.layers.Bidirectional(tf.keras.layers.LSTM(32, return_sequences=True)),\n",
    "    tf.keras.layers.Dense(10, activation=\"relu\"), \n",
    "    # tf.keras.layers.Dropout(0.5),\n",
    "    tf.keras.layers.Dense(1,activation=\"sigmoid\")\n",
    "])\n",
    "    model3.compile(loss=\"binary_crossentropy\",\n",
    "              optimizer='adam',\n",
    "              metrics=[\"accuracy\"])\n",
    "    return model3\n",
    "\n",
    "#Simple RNN \n",
    "def RNN_model(sampLen):\n",
    "    model4 = tf.keras.models.Sequential([\n",
    "    tf.keras.layers.SimpleRNN(40, input_shape = (sampLen,32),return_sequences=True),\n",
    "    tf.keras.layers.SimpleRNN(40),\n",
    "    # tf.keras.layers.Dense(10,activation=\"relu\",input_shape=(12,32)),\n",
    "    tf.keras.layers.Dense(1,activation=\"sigmoid\")\n",
    "    ])\n",
    "    model4.compile(loss=\"binary_crossentropy\",\n",
    "                optimizer='adam',\n",
    "                metrics=[\"accuracy\"])\n",
    "    return model4\n",
    "\n",
    "#LSTM only\n",
    "\n",
    "def LSTM_model(sampLen):\n",
    "    model5 = tf.keras.models.Sequential([\n",
    "    # tf.keras.layers.Flatten(input_shape=(sampLen,32)),\n",
    "    tf.keras.layers.Bidirectional(tf.keras.layers.LSTM(32, return_sequences=True,input_shape=(sampLen,32))),\n",
    "    tf.keras.layers.Bidirectional(tf.keras.layers.LSTM(32, return_sequences=True)),\n",
    "    tf.keras.layers.Flatten(),\n",
    "    tf.keras.layers.Dense(10,activation=\"relu\"),\n",
    "    tf.keras.layers.Dense(1,activation=\"sigmoid\")\n",
    "    ])\n",
    "    model5.compile(loss=\"binary_crossentropy\",\n",
    "                optimizer='adam',\n",
    "                metrics=[\"accuracy\"])\n",
    "    return model5"
   ]
  },
  {
   "cell_type": "code",
   "execution_count": 24,
   "metadata": {},
   "outputs": [],
   "source": [
    "def test(model,dataset,devset,batchsize,epochs):\n",
    "    tf.random.set_seed(10)\n",
    "    datasetb = dataset.batch(batchsize)\n",
    "    devsetb = devset.batch(batchsize)\n",
    "    history = model.fit(datasetb,epochs=epochs,verbose=0,validation_data=devsetb)\n",
    "    return history "
   ]
  },
  {
   "cell_type": "code",
   "execution_count": 12,
   "metadata": {},
   "outputs": [],
   "source": [
    "#0.05s\n",
    "x_train005,x_test005,y_train005,y_test005 = split_train_test(X005,y005)\n",
    "#0.1s\n",
    "x_train01,x_test01,y_train01,y_test01 = split_train_test(X01,y01)"
   ]
  },
  {
   "cell_type": "code",
   "execution_count": 13,
   "metadata": {},
   "outputs": [],
   "source": [
    "# 0.05s \n",
    "dataset005 = tf.data.Dataset.from_tensor_slices((x_train005,y_train005))\n",
    "devset005  = tf.data.Dataset.from_tensor_slices((x_test005,y_test005))\n",
    "dataset005b = dataset005.batch(40)\n",
    "devset005b = devset005.batch(40)\n",
    "\n",
    "# 0.1s \n",
    "dataset01 = tf.data.Dataset.from_tensor_slices((x_train01,y_train01))\n",
    "devset01  = tf.data.Dataset.from_tensor_slices((x_test01,y_test01))\n",
    "dataset01b = dataset01.batch(40)\n",
    "devset01b = devset01.batch(40)"
   ]
  },
  {
   "cell_type": "code",
   "execution_count": 14,
   "metadata": {},
   "outputs": [
    {
     "output_type": "stream",
     "name": "stdout",
     "text": "WARNING:tensorflow:Layer bidirectional_1 is casting an input tensor from dtype float64 to the layer's dtype of float32, which is new behavior in TensorFlow 2.  The layer has dtype float32 because it's dtype defaults to floatx.\n\nIf you intended to run this layer in float32, you can safely ignore this warning. If in doubt, this warning is likely only an issue if you are porting a TensorFlow 1.X model to TensorFlow 2.\n\nTo change all layers to have dtype float64 by default, call `tf.keras.backend.set_floatx('float64')`. To change just this layer, pass dtype='float64' to the layer constructor. If you are the author of this layer, you can disable autocasting by passing autocast=False to the base Layer constructor.\n\n0.931640625\n0.97265625\n0.96484375\n0.96484375\n0.9375\n"
    }
   ],
   "source": [
    "# 0.05s \n",
    "# Testing different models, epochs=10, batchsize = 1 \n",
    "sampLen = 6 \n",
    "DNN_model005 = DNN_model(sampLen)\n",
    "CONV_model005 = CONV_model(sampLen)\n",
    "CONV_LSTM_model005 = CONV_LSTM_model(sampLen)\n",
    "LSTM_model005 = LSTM_model(sampLen)\n",
    "RNN_model005 = RNN_model(sampLen)\n",
    "#Histories \n",
    "DNN_hist005 = test(DNN_model005,dataset005,devset005,1,10)\n",
    "CONV_hist005 = test(CONV_model005,dataset005,devset005,1,10)\n",
    "CONV_LSTM_hist005 = test(CONV_LSTM_model005,dataset005,devset005,1,10)\n",
    "LSTM_hist005 = test(LSTM_model005,dataset005,devset005,1,10)\n",
    "RNN_hist005 = test(RNN_model005,dataset005,devset005,1,10)\n",
    "#Max validation accuracy \n",
    "valacc_DNN005 = max(DNN_hist005.history['val_accuracy'])\n",
    "valacc_CONV005 = max(CONV_hist005.history['val_accuracy'])\n",
    "valacc_CONVLSTM005 = max(CONV_LSTM_hist005.history['val_accuracy'])\n",
    "valacc_LSTM005 = max(LSTM_hist005.history['val_accuracy'])\n",
    "valacc_RNN005 = max(RNN_hist005.history['val_accuracy'])\n",
    "\n",
    "print(valacc_DNN005)\n",
    "print(valacc_CONV005)\n",
    "print(valacc_CONVLSTM005)\n",
    "print(valacc_LSTM005)\n",
    "print(valacc_RNN005)"
   ]
  },
  {
   "cell_type": "code",
   "execution_count": 15,
   "metadata": {},
   "outputs": [
    {
     "output_type": "stream",
     "name": "stdout",
     "text": "WARNING:tensorflow:Layer bidirectional_4 is casting an input tensor from dtype float64 to the layer's dtype of float32, which is new behavior in TensorFlow 2.  The layer has dtype float32 because it's dtype defaults to floatx.\n\nIf you intended to run this layer in float32, you can safely ignore this warning. If in doubt, this warning is likely only an issue if you are porting a TensorFlow 1.X model to TensorFlow 2.\n\nTo change all layers to have dtype float64 by default, call `tf.keras.backend.set_floatx('float64')`. To change just this layer, pass dtype='float64' to the layer constructor. If you are the author of this layer, you can disable autocasting by passing autocast=False to the base Layer constructor.\n\n0.9088541865348816\n0.9453125\n0.9296875\n0.90625\n0.90625\n"
    }
   ],
   "source": [
    "# 0.1s \n",
    "# Testing different models, epochs=10, batchsize = 1 \n",
    "sampLen = 12\n",
    "DNN_model01 = DNN_model(sampLen)\n",
    "CONV_model01 = CONV_model(sampLen)\n",
    "CONV_LSTM_model01 = CONV_LSTM_model(sampLen)\n",
    "LSTM_model01 = LSTM_model(sampLen)\n",
    "RNN_model01 = RNN_model(sampLen)\n",
    "#Histories \n",
    "DNN_hist01 = test(DNN_model01,dataset01,devset01,1,10)\n",
    "CONV_hist01 = test(CONV_model01,dataset01,devset01,1,10)\n",
    "CONV_LSTM_hist01 = test(CONV_LSTM_model01,dataset01,devset01,1,10)\n",
    "LSTM_hist01 = test(LSTM_model01,dataset01,devset01,1,10)\n",
    "RNN_hist01 = test(RNN_model01,dataset01,devset01,1,10)\n",
    "#Max validation accuracy \n",
    "valacc_DNN01 = max(DNN_hist01.history['val_accuracy'])\n",
    "valacc_CONV01 = max(CONV_hist01.history['val_accuracy'])\n",
    "valacc_CONVLSTM01 = max(CONV_LSTM_hist01.history['val_accuracy'])\n",
    "valacc_LSTM01 = max(LSTM_hist01.history['val_accuracy'])\n",
    "valacc_RNN01 = max(RNN_hist01.history['val_accuracy'])\n",
    "\n",
    "print(valacc_DNN01)\n",
    "print(valacc_CONV01)\n",
    "print(valacc_CONVLSTM01)\n",
    "print(valacc_LSTM01)\n",
    "print(valacc_RNN01)"
   ]
  },
  {
   "cell_type": "code",
   "execution_count": 25,
   "metadata": {},
   "outputs": [],
   "source": [
    "# FILTERED\n",
    "#0.05s\n",
    "fx_train005,fx_test005,fy_train005,fy_test005 = split_train_test(fX005,fy005)\n",
    "#0.1s\n",
    "fx_train01,fx_test01,fy_train01,fy_test01 = split_train_test(fX01,fy01)"
   ]
  },
  {
   "cell_type": "code",
   "execution_count": 26,
   "metadata": {},
   "outputs": [],
   "source": [
    "#FILTERED\n",
    "# 0.05s \n",
    "fdataset005 = tf.data.Dataset.from_tensor_slices((fx_train005,fy_train005))\n",
    "fdevset005  = tf.data.Dataset.from_tensor_slices((fx_test005,fy_test005))\n",
    "fdataset005b = fdataset005.batch(40)\n",
    "fdevset005b = fdevset005.batch(40)\n",
    "\n",
    "# 0.1s \n",
    "fdataset01 = tf.data.Dataset.from_tensor_slices((fx_train01,fy_train01))\n",
    "fdevset01  = tf.data.Dataset.from_tensor_slices((fx_test01,fy_test01))\n",
    "fdataset01b = fdataset01.batch(40)\n",
    "fdevset01b = fdevset01.batch(40)"
   ]
  },
  {
   "cell_type": "code",
   "execution_count": 28,
   "metadata": {},
   "outputs": [
    {
     "output_type": "stream",
     "name": "stdout",
     "text": "WARNING:tensorflow:Layer bidirectional_4 is casting an input tensor from dtype float64 to the layer's dtype of float32, which is new behavior in TensorFlow 2.  The layer has dtype float32 because it's dtype defaults to floatx.\n\nIf you intended to run this layer in float32, you can safely ignore this warning. If in doubt, this warning is likely only an issue if you are porting a TensorFlow 1.X model to TensorFlow 2.\n\nTo change all layers to have dtype float64 by default, call `tf.keras.backend.set_floatx('float64')`. To change just this layer, pass dtype='float64' to the layer constructor. If you are the author of this layer, you can disable autocasting by passing autocast=False to the base Layer constructor.\n\nFiltered validation accuracies\n0.9283853769302368\n0.97265625\n0.97265625\n0.97265625\n0.9296875\n"
    }
   ],
   "source": [
    "#### FILTERED ####\n",
    "# 0.05s \n",
    "# Testing different models, epochs=10, batchsize = 1 \n",
    "sampLen = 6 \n",
    "DNN_model005 = DNN_model(sampLen)\n",
    "CONV_model005 = CONV_model(sampLen)\n",
    "CONV_LSTM_model005 = CONV_LSTM_model(sampLen)\n",
    "LSTM_model005 = LSTM_model(sampLen)\n",
    "RNN_model005 = RNN_model(sampLen)\n",
    "#Histories \n",
    "DNN_hist005f = test(DNN_model005,fdataset005,fdevset005,1,10)\n",
    "CONV_hist005f = test(CONV_model005,fdataset005,fdevset005,1,10)\n",
    "CONV_LSTM_hist005f = test(CONV_LSTM_model005,fdataset005,fdevset005,1,10)\n",
    "LSTM_hist005f = test(LSTM_model005,fdataset005,fdevset005,1,10)\n",
    "RNN_hist005f = test(RNN_model005,fdataset005,fdevset005,1,10)\n",
    "#Max validation accuracy \n",
    "valacc_DNN005f = max(DNN_hist005f.history['val_accuracy'])\n",
    "valacc_CONV005f = max(CONV_hist005f.history['val_accuracy'])\n",
    "valacc_CONVLSTM005f = max(CONV_LSTM_hist005f.history['val_accuracy'])\n",
    "valacc_LSTM005f = max(LSTM_hist005f.history['val_accuracy'])\n",
    "valacc_RNN005f = max(RNN_hist005f.history['val_accuracy'])\n",
    "\n",
    "print(\"Filtered validation accuracies\")\n",
    "print(valacc_DNN005f)\n",
    "print(valacc_CONV005f)\n",
    "print(valacc_CONVLSTM005f)\n",
    "print(valacc_LSTM005f)\n",
    "print(valacc_RNN005f)"
   ]
  },
  {
   "cell_type": "code",
   "execution_count": 29,
   "metadata": {},
   "outputs": [
    {
     "output_type": "stream",
     "name": "stdout",
     "text": "WARNING:tensorflow:Layer bidirectional_7 is casting an input tensor from dtype float64 to the layer's dtype of float32, which is new behavior in TensorFlow 2.  The layer has dtype float32 because it's dtype defaults to floatx.\n\nIf you intended to run this layer in float32, you can safely ignore this warning. If in doubt, this warning is likely only an issue if you are porting a TensorFlow 1.X model to TensorFlow 2.\n\nTo change all layers to have dtype float64 by default, call `tf.keras.backend.set_floatx('float64')`. To change just this layer, pass dtype='float64' to the layer constructor. If you are the author of this layer, you can disable autocasting by passing autocast=False to the base Layer constructor.\n\nFiltered validation accuracies\n0.9147136211395264\n0.921875\n0.5\n0.9296875\n0.8046875\n"
    }
   ],
   "source": [
    "##### FILTERED ########\n",
    "#0.1s\n",
    "# Testing different models, epochs=10, batchsize = 1 \n",
    "sampLen = 12\n",
    "DNN_model01 = DNN_model(sampLen)\n",
    "CONV_model01 = CONV_model(sampLen)\n",
    "CONV_LSTM_model01 = CONV_LSTM_model(sampLen)\n",
    "LSTM_model01 = LSTM_model(sampLen)\n",
    "RNN_model01 = RNN_model(sampLen)\n",
    "#Histories \n",
    "DNN_hist01f = test(DNN_model01,fdataset01,fdevset01,1,10)\n",
    "CONV_hist01f = test(CONV_model01,fdataset01,fdevset01,1,10)\n",
    "CONV_LSTM_hist01f = test(CONV_LSTM_model01,fdataset01,fdevset01,1,10)\n",
    "LSTM_hist01f = test(LSTM_model01,fdataset01,fdevset01,1,10)\n",
    "RNN_hist01f = test(RNN_model01,fdataset01,fdevset01,1,10)\n",
    "#Max validation accuracy \n",
    "valacc_DNN01f = max(DNN_hist01f.history['val_accuracy'])\n",
    "valacc_CONV01f = max(CONV_hist01f.history['val_accuracy'])\n",
    "valacc_CONVLSTM01f = max(CONV_LSTM_hist01f.history['val_accuracy'])\n",
    "valacc_LSTM01f = max(LSTM_hist01f.history['val_accuracy'])\n",
    "valacc_RNN01f = max(RNN_hist01f.history['val_accuracy'])\n",
    "\n",
    "print(\"Filtered validation accuracies\")\n",
    "print(valacc_DNN01f)\n",
    "print(valacc_CONV01f)\n",
    "print(valacc_CONVLSTM01f)\n",
    "print(valacc_LSTM01f)\n",
    "print(valacc_RNN01f)"
   ]
  },
  {
   "cell_type": "code",
   "execution_count": null,
   "metadata": {},
   "outputs": [],
   "source": []
  },
  {
   "cell_type": "code",
   "execution_count": 3,
   "metadata": {},
   "outputs": [
    {
     "output_type": "stream",
     "name": "stdout",
     "text": "(3840, 32)\n(3840, 32)\n"
    }
   ],
   "source": [
    "#Import raw recordings\n",
    "\n",
    "think_df = pd.read_pickle(\"F:\\EEG-data\\\\think-count\\\\raw/think.pkl\")\n",
    "count_df = pd.read_pickle(\"F:\\EEG-data\\\\think-count\\\\raw/count.pkl\")\n",
    "\n",
    "print(think_df.shape)\n",
    "print(count_df.shape)"
   ]
  },
  {
   "cell_type": "code",
   "execution_count": 4,
   "metadata": {},
   "outputs": [],
   "source": [
    "#Bandpass (BP) filter helper functions\n",
    "\n",
    "#Creates butterworth BP filter\n",
    "def butter_bandpass(lowcut, highcut, fs, order=5):\n",
    "    nyq = 0.5*fs  # Nyquist frequency, which is half of fs\n",
    "    low = lowcut/nyq  # Digital butterworth filter cutoffs must be normalized to Nyquist frequency\n",
    "    high = highcut/nyq\n",
    "    b, a = signal.butter(order, [low, high], btype=\"bandpass\")\n",
    "    return b, a\n",
    "\n",
    "def butter_lowpass(cutFreq,fs,order=5):\n",
    "    nyq = 0.5*fs\n",
    "    cutFreq = cutFreq/nyq\n",
    "    b,a = signal.butter(order,cutFreq,btype=\"lowpass\")\n",
    "    return b,a \n",
    "\n",
    "def butter_highpass(cutFreq,fs,order=5):\n",
    "    nyq = 0.5*fs\n",
    "    cutFreq = cutFreq/nyq\n",
    "    b,a = signal.butter(order,cutFreq,btype=\"highpass\")\n",
    "    return b,a \n",
    "\n",
    "#Applies butterworth BP filter\n",
    "def butter_bandpass_filter(data, lowcut, highcut, fs, order=5):\n",
    "    b, a = butter_bandpass(lowcut, highcut, fs, order=order)\n",
    "#     filtered_data = signal.lfilter(b, a, data)\n",
    "    filtered_data = signal.filtfilt(b,a,data)\n",
    "    return filtered_data\n",
    "\n",
    "#Applies butterworth lowpass filter\n",
    "def butter_lowpass_filter(data, cutFreq, fs, order=5):\n",
    "    b, a = butter_lowpass(cutFreq,fs,order=5)\n",
    "    filtered_data = signal.filtfilt(b,a,data)\n",
    "    return filtered_data\n",
    "\n",
    "#Applies butterworth lowpass filter\n",
    "def butter_highpass_filter(data, cutFreq, fs, order=5):\n",
    "    b, a = butter_highpass(cutFreq,fs,order=5)\n",
    "    filtered_data = signal.filtfilt(b,a,data)\n",
    "    return filtered_data\n",
    "\n",
    "#Applies butterworth BP filter to Pandas dataframe \n",
    "def bp_filter_df(df, lowcut, highcut, fs, order):\n",
    "    rows, cols = df.shape  # Get no. of rows and cols in df\n",
    "    new_index = range(1, rows+1)\n",
    "    new_cols = range(1, cols+1)\n",
    "    # Create new df with same no. of rows and cols\n",
    "    new_df = pd.DataFrame(index=new_index, columns=new_cols)\n",
    "    # new_df = new_df.fillna(0) #Fill in 0 for all values\n",
    "    for i in range(cols):  # Apply bp filter each column (channel) and saves in new_df\n",
    "        filt_col = butter_bandpass_filter(\n",
    "            df.iloc[:, i].values, lowcut, highcut, fs, order)\n",
    "        new_df[i+1] = filt_col\n",
    "    return new_df\n",
    "\n",
    "#Applies butterworth lowpass filter to Pandas dataframe \n",
    "def lp_filter_df(df, cutFreq, fs, order):\n",
    "    rows, cols = df.shape  # Get no. of rows and cols in df\n",
    "    new_index = range(1, rows+1)\n",
    "    new_cols = range(1, cols+1)\n",
    "    # Create new df with same no. of rows and cols\n",
    "    new_df = pd.DataFrame(index=new_index, columns=new_cols)\n",
    "    # new_df = new_df.fillna(0) #Fill in 0 for all values\n",
    "    for i in range(cols):  # Apply bp filter each column (channel) and saves in new_df\n",
    "        filt_col = butter_lowpass_filter(\n",
    "            df.iloc[:, i].values, cutFreq, fs, order)\n",
    "        new_df[i+1] = filt_col\n",
    "    return new_df"
   ]
  },
  {
   "cell_type": "code",
   "execution_count": 6,
   "metadata": {},
   "outputs": [],
   "source": [
    "filt_think_df = lp_filter_df(think_df,40.5,128,6)\n",
    "filt_count_df = lp_filter_df(count_df,40.5,128,6)\n"
   ]
  },
  {
   "cell_type": "code",
   "execution_count": 7,
   "metadata": {},
   "outputs": [],
   "source": [
    "#Splits a single dataframe into list of equally sized arrays\n",
    "#Each element in list is nx32 array, where n= sample length \n",
    "def split_df(df,fs,sample_t,check=False):\n",
    "    rows,_ = df.shape #get no. of rows\n",
    "    sample_len = int(sample_t*fs) #find no. of recorded samples required for each sample time length\n",
    "    Ns = int(rows/sample_len) #find total no. of samples\n",
    "    df_cut = df.iloc[:Ns*sample_len] #truncate dataframe to exact multiple of sample length\n",
    "    # print(Ns*sample_len)\n",
    "    # print(Ns)\n",
    "    df_split_list = np.vsplit(df_cut,Ns) #split dataframe row-wise, returns a list\n",
    "    \n",
    "    if check:\n",
    "        print(\"Total no. of recorded samples: \"+str(rows))\n",
    "        print(\"Sample length: \"+str(sample_len))\n",
    "        print(\"Total no. of samples: \"+str(Ns))\n",
    "        print(\"Length of df_split_list: \"+str(len(df_split_list)))\n",
    "        \n",
    "        if all(isinstance(x.shape,tuple) for x in df_split_list):\n",
    "            print(\"Shape of each element in df_split_list: \"+str(df_split_list[0].shape))\n",
    "        else:\n",
    "            print(\"Shapes are wrong.\")\n",
    "            for x in df_split_list:\n",
    "                print(x.shape)\n",
    "    return df_split_list,Ns\n",
    "\n",
    "#Apply split_df() function to list of dataframes, reshape dataframe such that each element is an array \n",
    "#for the appropriate sample time length \n",
    "def split_bands_list(bands_list,fs,sample_t,check=False,checkSD=False):\n",
    "    df_list_rFE = [0]*len(bands_list) #dataframes list ready for feature extraction \n",
    "    for df_no in range(len(bands_list)):\n",
    "        df_split_list,Ns = split_df(bands_list[df_no],fs,sample_t,check=checkSD)\n",
    "        list_of_series = [0]*Ns\n",
    "        for i in range(len(df_split_list)):\n",
    "            #New dataframe will have shape Nsx32, each element is a 1xsample_len array \n",
    "            new_row = [0]*32 \n",
    "            #Each df_split_list[i] is a dataframe\n",
    "            for j in range(len(df_split_list[i].columns)):\n",
    "                new_row[j] = df_split_list[i].iloc[:,j].values \n",
    "            list_of_series[i] = new_row\n",
    "        df_list_rFE[df_no] = pd.DataFrame(list_of_series)\n",
    "    if check:\n",
    "        print(\"Length of bands_list: \"+str(len(bands_list)))\n",
    "        print(\"Length of df_list_rFE: \"+str(len(df_list_rFE)))\n",
    "        if (all(isinstance(x.shape,tuple) for x in df_list_rFE)) and (Ns==len(df_list_rFE[0].index)):\n",
    "            print(\"Shape of each dataframe in df_list_rFE: \"+str(df_list_rFE[0].shape))\n",
    "    return df_list_rFE\n",
    "            "
   ]
  },
  {
   "cell_type": "code",
   "execution_count": 8,
   "metadata": {},
   "outputs": [],
   "source": [
    "#0.05s filt\n",
    "fsplit005_t_df=split_bands_list([filt_think_df],128,0.05)[0]\n",
    "fsplit005_c_df=split_bands_list([filt_count_df],128,0.05)[0]\n",
    "\n",
    "#0.1s filt\n",
    "fsplit01_t_df=split_bands_list([filt_think_df],128,0.1)[0]\n",
    "fsplit01_c_df=split_bands_list([filt_count_df],128,0.1)[0]\n"
   ]
  },
  {
   "cell_type": "code",
   "execution_count": 9,
   "metadata": {},
   "outputs": [
    {
     "output_type": "stream",
     "name": "stdout",
     "text": "(640, 32)\n(640, 32)\n(320, 32)\n(320, 32)\n"
    }
   ],
   "source": [
    "print(fsplit005_t_df.shape)\n",
    "print(fsplit005_c_df.shape)\n",
    "\n",
    "print(fsplit01_t_df.shape)\n",
    "print(fsplit01_c_df.shape)\n"
   ]
  },
  {
   "cell_type": "code",
   "execution_count": 12,
   "metadata": {},
   "outputs": [],
   "source": [
    "# #Save datasets\n",
    "# # Filt \n",
    "# fsplit005_t_df.to_pickle(\"F:\\EEG-data\\\\think-count\\\\filtered\\\\0.05s/lp40.5_think.pkl\")\n",
    "# fsplit005_c_df.to_pickle(\"F:\\EEG-data\\\\think-count\\\\filtered\\\\0.05s/lp40.5_count.pkl\")\n",
    "\n",
    "# fsplit01_t_df.to_pickle(\"F:\\EEG-data\\\\think-count\\\\filtered\\\\0.1s/lp40.5_think.pkl\")\n",
    "# fsplit01_c_df.to_pickle(\"F:\\EEG-data\\\\think-count\\\\filtered\\\\0.1s/lp40.5_count.pkl\")\n"
   ]
  }
 ],
 "metadata": {
  "language_info": {
   "codemirror_mode": {
    "name": "ipython",
    "version": 3
   },
   "file_extension": ".py",
   "mimetype": "text/x-python",
   "name": "python",
   "nbconvert_exporter": "python",
   "pygments_lexer": "ipython3",
   "version": "3.7.3-final"
  },
  "orig_nbformat": 2,
  "kernelspec": {
   "name": "python37364bit4f00f251aa71407b905d36ad95b25cdd",
   "display_name": "Python 3.7.3 64-bit"
  }
 },
 "nbformat": 4,
 "nbformat_minor": 2
}