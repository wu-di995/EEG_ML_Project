{
 "cells": [
  {
   "cell_type": "markdown",
   "metadata": {},
   "source": [
    "## Neural Networks with PSD features, theta and alpha bands only\n"
   ]
  },
  {
   "cell_type": "code",
   "execution_count": 1,
   "metadata": {},
   "outputs": [],
   "source": [
    "#Import necessary libraries\n",
    "\n",
    "import pandas as pd\n",
    "import numpy as np\n",
    "from scipy import signal\n",
    "import os\n",
    "import matplotlib.pyplot as plt\n",
    "import matplotlib.patches as mpatches\n",
    "import pickle as pkl\n",
    "import itertools \n",
    "import glob\n",
    "from sklearn import svm \n",
    "from sklearn.preprocessing import StandardScaler, LabelEncoder\n",
    "from sklearn.model_selection import StratifiedShuffleSplit, GridSearchCV, cross_val_score\n",
    "from sklearn.metrics import classification_report, confusion_matrix, plot_confusion_matrix, f1_score\n",
    "from sklearn.decomposition import PCA\n",
    "import tensorflow as tf\n",
    "from tensorflow import keras\n",
    "from tensorflow.keras.wrappers.scikit_learn import KerasClassifier\n",
    "\n",
    "%matplotlib inline \n",
    "# %matplotlib qt\n"
   ]
  },
  {
   "cell_type": "code",
   "execution_count": 2,
   "metadata": {},
   "outputs": [],
   "source": [
    "# Import datasets\n",
    "psd_df = pd.read_pickle(\"F:\\EEG-data\\pkl\\\\featureExtraction\\PSD_only\\PSD_df_12.pkl\")\n",
    "auc_df = pd.read_pickle(\"F:\\EEG-data\\pkl\\\\featureExtraction\\AUC_only\\AUC_df_12.pkl\")\n",
    "AP_df = pd.read_pickle(\"F:\\EEG-data\\pkl\\\\featureExtraction\\AUC_PSD\\AUC_PSD_df_12.pkl\")"
   ]
  },
  {
   "cell_type": "code",
   "execution_count": 17,
   "metadata": {},
   "outputs": [],
   "source": [
    "#Baseline model\n",
    "def baseline_func(no_features):\n",
    "    ANN_model = keras.Sequential([\n",
    "    # keras.layers.Flatten(input_shape=(8,32)),\n",
    "    keras.layers.Dense(no_features,input_dim=no_features,activation='relu'),\n",
    "    keras.layers.Dense(no_features/2, activation='relu'),\n",
    "    keras.layers.Dense(no_features/4, activation='relu'),\n",
    "    keras.layers.Dense(3,activation='softmax')])\n",
    "\n",
    "    ANN_model.compile(optimizer=\"adam\",\n",
    "                loss=\"categorical_crossentropy\",\n",
    "                metrics = ['accuracy'])\n",
    "    return ANN_model\n",
    "#Baseline model 2\n",
    "def baseline_func2(no_features):\n",
    "    ANN_model = keras.Sequential([\n",
    "    # keras.layers.Flatten(input_shape=(8,32)),\n",
    "    keras.layers.Dense(no_features,input_dim=no_features,activation='relu'),\n",
    "    keras.layers.Dense(no_features/2, activation='relu'),\n",
    "    keras.layers.Dense(3,activation='softmax')])\n",
    "\n",
    "    ANN_model.compile(optimizer=\"adam\",\n",
    "                loss=\"categorical_crossentropy\",\n",
    "                metrics = ['accuracy'])\n",
    "    return ANN_model\n",
    "\n",
    "#Baseline model 3\n",
    "def baseline_func3(no_features):\n",
    "    ANN_model = keras.Sequential([\n",
    "    keras.layers.Dense(no_features,input_dim=no_features,activation='relu'),\n",
    "    keras.layers.Dense(no_features/2, activation='relu'),\n",
    "    keras.layers.Dense(no_features/4, activation='relu'),\n",
    "    keras.layers.Dense(no_features/8, activation='relu'),\n",
    "    keras.layers.Dense(3,activation='softmax')])\n",
    "\n",
    "    ANN_model.compile(optimizer=\"adam\",\n",
    "                loss=\"categorical_crossentropy\",\n",
    "                metrics = ['accuracy'])\n",
    "    return ANN_model\n",
    "\n",
    "#Baseline model 4\n",
    "def baseline_func4(no_features):\n",
    "    ANN_model = keras.Sequential([\n",
    "    keras.layers.Dense(no_features,input_dim=no_features,activation='relu'),\n",
    "    keras.layers.Dense(3,activation='softmax')])\n",
    "\n",
    "    ANN_model.compile(optimizer=\"adam\",\n",
    "                loss=\"categorical_crossentropy\",\n",
    "                metrics = ['accuracy'])\n",
    "    return ANN_model\n",
    "\n",
    "#Cross Validation and Prediction\n",
    "def apply_CV_predict(baseline_func,df,filename,savedir):\n",
    "    #Split into training and test sets \n",
    "    class_names = [\"C\",\"H\",\"W\"]\n",
    "    X = df.iloc[:,:-1].values.astype(np.float32)\n",
    "    y = df['Music'].apply(class_names.index).values.astype(np.float32)\n",
    "    sss = StratifiedShuffleSplit(n_splits=5,test_size=0.2,random_state=0)\n",
    "    for train_index, test_index in sss.split(X,y):\n",
    "                X_train, X_test = X[train_index],X[test_index]\n",
    "                y_train, y_test = y[train_index],y[test_index]\n",
    "    no_features = X.shape[1]\n",
    "    #Cross Validation \n",
    "    epochsList = list(range(1,20))\n",
    "    mean_results = [] \n",
    "    kfold = StratifiedShuffleSplit(n_splits=10)\n",
    "    for epoch in epochsList:\n",
    "        estimator=KerasClassifier(build_fn=lambda:baseline_func(no_features),epochs=epoch,batch_size=5,verbose=0)\n",
    "        result = np.mean(cross_val_score(estimator,X_train,y_train,cv=kfold,scoring=\"f1_macro\"))\n",
    "        mean_results.append(result)\n",
    "    mean_results = np.array(mean_results)\n",
    "    best_epoch = epochsList[np.argmax(mean_results)]\n",
    "    #Test set evaluation\n",
    "    final_estimator = KerasClassifier(build_fn=lambda:baseline_func(no_features),epochs=best_epoch,batch_size=5,verbose=0)\n",
    "    final_estimator.fit(X_train,y_train)\n",
    "    y_pred = final_estimator.predict(X_test)\n",
    "    #F1 Score\n",
    "    f1Score = f1_score(y_test,y_pred,average=\"macro\")\n",
    "    #Confusion matrix\n",
    "    cm = confusion_matrix(y_test,y_pred,normalize='true')\n",
    "    # fig,ax = plt.subplots()\n",
    "    # ax.set_title(filename+'CM')\n",
    "    # plot_confusion_matrix(final_estimator,X_test,y_test,labels=class_names,ax=ax,normalize='true')\n",
    "    # plt.savefig(savedir+filename+'.png')\n",
    "    # plt.close()\n",
    "    return f1Score,cm"
   ]
  },
  {
   "cell_type": "code",
   "execution_count": 4,
   "metadata": {},
   "outputs": [
    {
     "output_type": "stream",
     "name": "stdout",
     "text": "WARNING:tensorflow:From C:\\Users\\Wu Di\\lib\\site-packages\\tensorflow\\python\\keras\\wrappers\\scikit_learn.py:241: Sequential.predict_classes (from tensorflow.python.keras.engine.sequential) is deprecated and will be removed after 2021-01-01.\nInstructions for updating:\nPlease use instead:* `np.argmax(model.predict(x), axis=-1)`,   if your model does multi-class classification   (e.g. if it uses a `softmax` last-layer activation).* `(model.predict(x) > 0.5).astype(\"int32\")`,   if your model does binary classification   (e.g. if it uses a `sigmoid` last-layer activation).\n"
    }
   ],
   "source": [
    "#Directories to save to\n",
    "savedir = \"F:\\EEG-data\\\\music\\ANN/\"\n",
    "PSD_filename = \"PSD_\"\n",
    "AUC_filename = \"AUC_\"\n",
    "AP_filename = \"AP_\"\n",
    "\n",
    "PSD_f1Score,PSD_cm = apply_CV_predict(baseline_func,psd_df,PSD_filename,savedir)\n"
   ]
  },
  {
   "cell_type": "code",
   "execution_count": 5,
   "metadata": {},
   "outputs": [],
   "source": [
    "AUC_f1Score,AUC_cm = apply_CV_predict(baseline_func,auc_df,AUC_filename,savedir)\n"
   ]
  },
  {
   "cell_type": "code",
   "execution_count": 6,
   "metadata": {},
   "outputs": [],
   "source": [
    "AP_f1Score,AP_cm = apply_CV_predict(baseline_func,AP_df,AP_filename,savedir)"
   ]
  },
  {
   "cell_type": "code",
   "execution_count": 7,
   "metadata": {},
   "outputs": [
    {
     "output_type": "stream",
     "name": "stdout",
     "text": "PSD F1 Score: 0.6643142683565907\nAUC F1 Score: 0.6743949021854556\nAP F1 Score: 0.6789624830244759\n"
    }
   ],
   "source": [
    "print(\"PSD F1 Score:\",PSD_f1Score)\n",
    "print(\"AUC F1 Score:\",AUC_f1Score)\n",
    "print(\"AP F1 Score:\",AP_f1Score)"
   ]
  },
  {
   "cell_type": "code",
   "execution_count": 8,
   "metadata": {},
   "outputs": [
    {
     "output_type": "stream",
     "name": "stdout",
     "text": "[[0.39215686 0.47058824 0.1372549 ]\n [0.046875   0.8828125  0.0703125 ]\n [0.04040404 0.23232323 0.72727273]]\n[[0.66666667 0.14705882 0.18627451]\n [0.2109375  0.6015625  0.1875    ]\n [0.14141414 0.08080808 0.77777778]]\n[[0.52941176 0.34313725 0.12745098]\n [0.09375    0.8515625  0.0546875 ]\n [0.14141414 0.21212121 0.64646465]]\n"
    }
   ],
   "source": [
    "print(PSD_cm)\n",
    "print(AUC_cm)\n",
    "print(AP_cm)"
   ]
  },
  {
   "cell_type": "code",
   "execution_count": 10,
   "metadata": {},
   "outputs": [],
   "source": [
    "PSD_f1Score2,PSD_cm2 = apply_CV_predict(baseline_func2,psd_df,PSD_filename,savedir)\n",
    "AUC_f1Score2,AUC_cm2 = apply_CV_predict(baseline_func2,auc_df,AUC_filename,savedir)\n",
    "AP_f1Score2,AP_cm2 = apply_CV_predict(baseline_func2,AP_df,AP_filename,savedir)"
   ]
  },
  {
   "cell_type": "code",
   "execution_count": 11,
   "metadata": {},
   "outputs": [
    {
     "output_type": "stream",
     "name": "stdout",
     "text": "PSD F1 Score: 0.7306826986247931\nAUC F1 Score: 0.6919137428305936\nAP F1 Score: 0.7066052227342549\n"
    }
   ],
   "source": [
    "print(\"PSD F1 Score:\",PSD_f1Score2)\n",
    "print(\"AUC F1 Score:\",AUC_f1Score2)\n",
    "print(\"AP F1 Score:\",AP_f1Score2)"
   ]
  },
  {
   "cell_type": "code",
   "execution_count": 12,
   "metadata": {},
   "outputs": [
    {
     "output_type": "stream",
     "name": "stdout",
     "text": "[[0.56862745 0.29411765 0.1372549 ]\n [0.0703125  0.84375    0.0859375 ]\n [0.09090909 0.13131313 0.77777778]]\n[[0.6372549  0.21568627 0.14705882]\n [0.1953125  0.6953125  0.109375  ]\n [0.14141414 0.11111111 0.74747475]]\n[[0.74509804 0.21568627 0.03921569]\n [0.140625   0.8203125  0.0390625 ]\n [0.21212121 0.24242424 0.54545455]]\n"
    }
   ],
   "source": [
    "print(PSD_cm2)\n",
    "print(AUC_cm2)\n",
    "print(AP_cm2)"
   ]
  },
  {
   "cell_type": "code",
   "execution_count": 14,
   "metadata": {},
   "outputs": [],
   "source": [
    "PSD_f1Score3,PSD_cm3 = apply_CV_predict(baseline_func3,psd_df,PSD_filename,savedir)\n",
    "AUC_f1Score3,AUC_cm3 = apply_CV_predict(baseline_func3,auc_df,AUC_filename,savedir)\n",
    "AP_f1Score3,AP_cm3 = apply_CV_predict(baseline_func3,AP_df,AP_filename,savedir)"
   ]
  },
  {
   "cell_type": "code",
   "execution_count": 15,
   "metadata": {},
   "outputs": [
    {
     "output_type": "stream",
     "name": "stdout",
     "text": "PSD F1 Score: 0.6843504491935916\nAUC F1 Score: 0.7010393334341062\nAP F1 Score: 0.6875735109969682\n"
    }
   ],
   "source": [
    "print(\"PSD F1 Score:\",PSD_f1Score3)\n",
    "print(\"AUC F1 Score:\",AUC_f1Score3)\n",
    "print(\"AP F1 Score:\",AP_f1Score3)"
   ]
  },
  {
   "cell_type": "code",
   "execution_count": 16,
   "metadata": {},
   "outputs": [
    {
     "output_type": "stream",
     "name": "stdout",
     "text": "[[0.49019608 0.37254902 0.1372549 ]\n [0.09375    0.8515625  0.0546875 ]\n [0.1010101  0.19191919 0.70707071]]\n[[0.69607843 0.18627451 0.11764706]\n [0.1875     0.71875    0.09375   ]\n [0.16161616 0.15151515 0.68686869]]\n[[0.67647059 0.16666667 0.15686275]\n [0.2421875  0.6484375  0.109375  ]\n [0.12121212 0.13131313 0.74747475]]\n"
    }
   ],
   "source": [
    "print(PSD_cm3)\n",
    "print(AUC_cm3)\n",
    "print(AP_cm3)"
   ]
  },
  {
   "cell_type": "code",
   "execution_count": 18,
   "metadata": {},
   "outputs": [],
   "source": [
    "PSD_f1Score4,PSD_cm4 = apply_CV_predict(baseline_func4,psd_df,PSD_filename,savedir)\n",
    "AUC_f1Score4,AUC_cm4 = apply_CV_predict(baseline_func4,auc_df,AUC_filename,savedir)\n",
    "AP_f1Score4,AP_cm4 = apply_CV_predict(baseline_func4,AP_df,AP_filename,savedir)"
   ]
  },
  {
   "cell_type": "code",
   "execution_count": 19,
   "metadata": {},
   "outputs": [
    {
     "output_type": "stream",
     "name": "stdout",
     "text": "PSD F1 Score: 0.731523903937697\nAUC F1 Score: 0.6863202172597566\nAP F1 Score: 0.6792297517297518\n"
    }
   ],
   "source": [
    "print(\"PSD F1 Score:\",PSD_f1Score4)\n",
    "print(\"AUC F1 Score:\",AUC_f1Score4)\n",
    "print(\"AP F1 Score:\",AP_f1Score4)"
   ]
  },
  {
   "cell_type": "code",
   "execution_count": 20,
   "metadata": {},
   "outputs": [
    {
     "output_type": "stream",
     "name": "stdout",
     "text": "[[0.54901961 0.31372549 0.1372549 ]\n [0.0546875  0.875      0.0703125 ]\n [0.09090909 0.14141414 0.76767677]]\n[[0.5        0.31372549 0.18627451]\n [0.09375    0.765625   0.140625  ]\n [0.08080808 0.11111111 0.80808081]]\n[[0.69607843 0.14705882 0.15686275]\n [0.2734375  0.625      0.1015625 ]\n [0.16161616 0.11111111 0.72727273]]\n"
    }
   ],
   "source": [
    "print(PSD_cm4)\n",
    "print(AUC_cm4)\n",
    "print(AP_cm4)"
   ]
  }
 ],
 "metadata": {
  "language_info": {
   "codemirror_mode": {
    "name": "ipython",
    "version": 3
   },
   "file_extension": ".py",
   "mimetype": "text/x-python",
   "name": "python",
   "nbconvert_exporter": "python",
   "pygments_lexer": "ipython3",
   "version": "3.7.3-final"
  },
  "orig_nbformat": 2,
  "kernelspec": {
   "name": "python37364bit4f00f251aa71407b905d36ad95b25cdd",
   "display_name": "Python 3.7.3 64-bit"
  }
 },
 "nbformat": 4,
 "nbformat_minor": 2
}