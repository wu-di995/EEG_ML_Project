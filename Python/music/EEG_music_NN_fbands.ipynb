{
 "cells": [
  {
   "cell_type": "code",
   "execution_count": null,
   "metadata": {},
   "outputs": [],
   "source": [
    "# Comparing the accuracies of each frequency band using NN models"
   ]
  },
  {
   "cell_type": "code",
   "execution_count": 1,
   "metadata": {},
   "outputs": [],
   "source": [
    "#Import necessary libraries\n",
    "\n",
    "import pandas as pd\n",
    "import numpy as np\n",
    "from scipy import signal\n",
    "import os\n",
    "import matplotlib.pyplot as plt\n",
    "import matplotlib.patches as mpatches\n",
    "import pickle as pkl\n",
    "import itertools \n",
    "import glob\n",
    "import tensorflow as tf\n",
    "from tensorflow import keras\n",
    "from tensorflow.keras.wrappers.scikit_learn import KerasClassifier\n",
    "from sklearn.model_selection import StratifiedShuffleSplit\n",
    "\n",
    "%matplotlib inline \n",
    "# %matplotlib qt\n"
   ]
  },
  {
   "cell_type": "code",
   "execution_count": 2,
   "metadata": {},
   "outputs": [
    {
     "output_type": "stream",
     "name": "stdout",
     "text": "(510, 32)\n[ 0.26741469  3.70828548  6.5537158   8.3170988   8.6654351   7.48257321\n  4.91030028  1.35234399 -2.57127607 -6.12286639 -8.58745247 -9.42833958]\n"
    }
   ],
   "source": [
    "# Import filtered datasets \n",
    "\n",
    "# 0.05s \n",
    "\n",
    "#alpha\n",
    "c_alpha005 = pd.read_pickle(\"F:\\EEG-data\\music\\\\filtered\\\\0.05s\\\\alpha/classical.pkl\")\n",
    "h_alpha005 = pd.read_pickle(\"F:\\EEG-data\\music\\\\filtered\\\\0.05s\\\\alpha/hip-hop.pkl\")\n",
    "w_alpha005 = pd.read_pickle(\"F:\\EEG-data\\music\\\\filtered\\\\0.05s\\\\alpha/whiteNoise.pkl\")\n",
    "#theta\n",
    "c_theta005 = pd.read_pickle(\"F:\\EEG-data\\music\\\\filtered\\\\0.05s\\\\theta/classical.pkl\")\n",
    "h_theta005 = pd.read_pickle(\"F:\\EEG-data\\music\\\\filtered\\\\0.05s\\\\theta/hip-hop.pkl\")\n",
    "w_theta005 = pd.read_pickle(\"F:\\EEG-data\\music\\\\filtered\\\\0.05s\\\\theta/whiteNoise.pkl\")\n",
    "\n",
    "# 0.1s\n",
    "\n",
    "#alpha\n",
    "c_alpha01 = pd.read_pickle(\"F:\\EEG-data\\music\\\\filtered\\\\0.1s\\\\alpha/classical.pkl\")\n",
    "h_alpha01 = pd.read_pickle(\"F:\\EEG-data\\music\\\\filtered\\\\0.1s\\\\alpha/hip-hop.pkl\")\n",
    "w_alpha01 = pd.read_pickle(\"F:\\EEG-data\\music\\\\filtered\\\\0.1s\\\\alpha/whiteNoise.pkl\")\n",
    "#theta\n",
    "c_theta01 = pd.read_pickle(\"F:\\EEG-data\\music\\\\filtered\\\\0.1s\\\\theta/classical.pkl\")\n",
    "h_theta01 = pd.read_pickle(\"F:\\EEG-data\\music\\\\filtered\\\\0.1s\\\\theta/hip-hop.pkl\")\n",
    "w_theta01 = pd.read_pickle(\"F:\\EEG-data\\music\\\\filtered\\\\0.1s\\\\theta/whiteNoise.pkl\")\n",
    "\n",
    "print(c_alpha01.shape)\n",
    "print(c_alpha01.iloc[0,-1])"
   ]
  },
  {
   "cell_type": "markdown",
   "metadata": {},
   "source": [
    "Need to normalize columns and reshape"
   ]
  },
  {
   "cell_type": "code",
   "execution_count": 3,
   "metadata": {},
   "outputs": [],
   "source": [
    "# Shape each dataframe into No_samples,sampLen(6 or 12),32\n",
    "def reshape_df(df):\n",
    "    sampLen = len(df.iloc[0,0])\n",
    "    N = df.shape[0]\n",
    "    new_df = np.zeros((N,sampLen,32))\n",
    "    for i in range(32):\n",
    "        channel = df.iloc[:,i].values \n",
    "        channel_df = np.zeros((N,sampLen))\n",
    "        for j in range(len(channel)):\n",
    "            channel_df[j,:] = channel[j]\n",
    "        new_df[:,:,i] = keras.utils.normalize(channel_df)\n",
    "    return new_df\n"
   ]
  },
  {
   "cell_type": "code",
   "execution_count": 4,
   "metadata": {},
   "outputs": [],
   "source": [
    "# 0.05s \n",
    "\n",
    "#alpha\n",
    "c_alpha005r = reshape_df(c_alpha005)\n",
    "h_alpha005r = reshape_df(h_alpha005)\n",
    "w_alpha005r = reshape_df(w_alpha005)\n",
    "#theta\n",
    "c_theta005r = reshape_df(c_theta005)\n",
    "h_theta005r = reshape_df(h_theta005)\n",
    "w_theta005r = reshape_df(w_theta005)\n",
    "\n",
    "# 0.1s\n",
    "\n",
    "#alpha\n",
    "c_alpha01r = reshape_df(c_alpha01)\n",
    "h_alpha01r = reshape_df(h_alpha01)\n",
    "w_alpha01r = reshape_df(w_alpha01)\n",
    "#theta\n",
    "c_theta01r = reshape_df(c_theta01)\n",
    "h_theta01r = reshape_df(h_theta01)\n",
    "w_theta01r = reshape_df(w_theta01)\n"
   ]
  },
  {
   "cell_type": "code",
   "execution_count": 5,
   "metadata": {},
   "outputs": [
    {
     "output_type": "stream",
     "name": "stdout",
     "text": "(1021, 6, 32)\n(1279, 6, 32)\n(989, 6, 32)\n(1021, 6, 32)\n(1279, 6, 32)\n(989, 6, 32)\n(510, 12, 32)\n(639, 12, 32)\n(494, 12, 32)\n(510, 12, 32)\n(639, 12, 32)\n(494, 12, 32)\n"
    }
   ],
   "source": [
    "print(c_alpha005r.shape)\n",
    "print(h_alpha005r.shape)\n",
    "print(w_alpha005r.shape)\n",
    "\n",
    "print(c_theta005r.shape)\n",
    "print(h_theta005r.shape)\n",
    "print(w_theta005r.shape)\n",
    "\n",
    "print(c_alpha01r.shape)\n",
    "print(h_alpha01r.shape)\n",
    "print(w_alpha01r.shape)\n",
    "\n",
    "print(c_theta01r.shape)\n",
    "print(h_theta01r.shape)\n",
    "print(w_theta01r.shape)"
   ]
  },
  {
   "cell_type": "code",
   "execution_count": 6,
   "metadata": {},
   "outputs": [
    {
     "output_type": "stream",
     "name": "stdout",
     "text": "(1021, 6, 64)\n(510, 12, 64)\n"
    }
   ],
   "source": [
    "#Combine theta and alpha bands \n",
    "#0.05s\n",
    "c_ta005 = np.concatenate((c_alpha005r,c_theta005r),axis=2)\n",
    "h_ta005 = np.concatenate((h_alpha005r,h_theta005r),axis=2)\n",
    "w_ta005 = np.concatenate((w_alpha005r,w_theta005r),axis=2)\n",
    "#0.1s\n",
    "c_ta01 = np.concatenate((c_alpha01r,c_theta01r),axis=2)\n",
    "h_ta01 = np.concatenate((h_alpha01r,h_theta01r),axis=2)\n",
    "w_ta01 = np.concatenate((w_alpha01r,w_theta01r),axis=2)\n",
    "\n",
    "print(c_ta005.shape)\n",
    "print(c_ta01.shape)"
   ]
  },
  {
   "cell_type": "code",
   "execution_count": 7,
   "metadata": {},
   "outputs": [
    {
     "output_type": "stream",
     "name": "stdout",
     "text": "(3289, 6, 64)\n(3289,)\n(1643, 12, 64)\n(1643,)\n"
    }
   ],
   "source": [
    "#0.05\n",
    "X005 = np.vstack((c_ta005,h_ta005,w_ta005))\n",
    "y005 = np.hstack((np.zeros(c_ta005.shape[0]),np.ones(h_ta005.shape[0]),2*np.ones(w_ta005.shape[0])))\n",
    "print(X005.shape)\n",
    "print(y005.shape)\n",
    "#0.1\n",
    "X01 = np.vstack((c_ta01,h_ta01,w_ta01))\n",
    "y01 = np.hstack((np.zeros(c_ta01.shape[0]),np.ones(h_ta01.shape[0]),2*np.ones(w_ta01.shape[0])))\n",
    "print(X01.shape)\n",
    "print(y01.shape)"
   ]
  },
  {
   "cell_type": "code",
   "execution_count": 8,
   "metadata": {},
   "outputs": [],
   "source": [
    "#Split into train and test sets\n",
    "def split_train_test(X,y):\n",
    "    sss = StratifiedShuffleSplit(n_splits=5,test_size=0.2,random_state=0)\n",
    "    for train_index, test_index in sss.split(X,y):\n",
    "                x_train, x_test = X[train_index],X[test_index]\n",
    "                y_train, y_test = y[train_index],y[test_index]\n",
    "    return x_train,x_test,y_train,y_test"
   ]
  },
  {
   "cell_type": "code",
   "execution_count": 9,
   "metadata": {},
   "outputs": [],
   "source": [
    "#0.05s\n",
    "x_train005,x_test005,y_train005,y_test005 = split_train_test(X005,y005)\n",
    "#0.1s\n",
    "x_train01,x_test01,y_train01,y_test01 = split_train_test(X01,y01)"
   ]
  },
  {
   "cell_type": "code",
   "execution_count": 10,
   "metadata": {},
   "outputs": [],
   "source": [
    "#DNN model\n",
    "def DNN_model(sampLen,no_bands):\n",
    "    model = tf.keras.models.Sequential([\n",
    "        tf.keras.layers.Dense(sampLen*32*no_bands, input_shape = (sampLen,32*no_bands), activation=\"relu\"),\n",
    "        tf.keras.layers.Flatten(), \n",
    "        tf.keras.layers.Dense(10, activation=\"relu\"), \n",
    "        tf.keras.layers.Dense(3,activation=\"softmax\")\n",
    "    ])\n",
    "    model.compile(loss=\"sparse_categorical_crossentropy\",\n",
    "                optimizer='adam',\n",
    "                metrics=[\"accuracy\"])\n",
    "    # model.summary()\n",
    "    return model\n",
    "\n",
    "#Conv model\n",
    "def CONV_model(sampLen,no_bands):\n",
    "    model2 = tf.keras.models.Sequential([\n",
    "        tf.keras.layers.Conv1D(filters=128, kernel_size=5,strides=1, padding=\"causal\",\n",
    "                                activation=\"relu\",input_shape=(sampLen,32*no_bands)), #input shape = (n_timesteps,n_features)\n",
    "        tf.keras.layers.Conv1D(filters=64, kernel_size=5,strides=1, padding=\"causal\",activation=\"relu\"),\n",
    "        tf.keras.layers.Conv1D(filters=32, kernel_size=5,strides=1, padding=\"causal\",activation=\"relu\"),\n",
    "        # tf.keras.layers.Dropout(0.5),\n",
    "        tf.keras.layers.MaxPool1D(pool_size=2),\n",
    "        tf.keras.layers.Conv1D(filters=16, kernel_size=5,strides=1, padding=\"causal\",activation=\"relu\"),\n",
    "        tf.keras.layers.Flatten(),\n",
    "        tf.keras.layers.Dense(10, activation=\"relu\"), \n",
    "        # tf.keras.layers.Dropout(0.5),\n",
    "        tf.keras.layers.Dense(3,activation=\"softmax\")\n",
    "    ])\n",
    "    # optimizer = tf.keras.optimizers.Adam(lr=9e-4)\n",
    "    model2.compile(loss=\"sparse_categorical_crossentropy\",\n",
    "                optimizer=\"adam\",\n",
    "                metrics=[\"accuracy\"])\n",
    "    return model2\n",
    "\n",
    "#Conv + LSTM\n",
    "def CONV_LSTM_model(sampLen,no_bands):\n",
    "    model3 = tf.keras.models.Sequential([\n",
    "    tf.keras.layers.Conv1D(filters=128, kernel_size=5,strides=1, padding=\"causal\",\n",
    "                              activation=\"relu\",input_shape=(sampLen,32*no_bands)), #input shape = (n_timesteps,n_features)\n",
    "    tf.keras.layers.Conv1D(filters=64, kernel_size=5,strides=1, padding=\"causal\",activation=\"relu\"),\n",
    "    tf.keras.layers.Conv1D(filters=32, kernel_size=5,strides=1, padding=\"causal\",activation=\"relu\"),\n",
    "    # tf.keras.layers.Dropout(0.5),\n",
    "    tf.keras.layers.MaxPool1D(pool_size=2),\n",
    "    tf.keras.layers.Conv1D(filters=16, kernel_size=5,strides=1, padding=\"causal\",activation=\"relu\"),\n",
    "    # tf.keras.layers.Flatten(),\n",
    "    tf.keras.layers.Bidirectional(tf.keras.layers.LSTM(32, return_sequences=True)),\n",
    "    tf.keras.layers.Flatten(),\n",
    "    # tf.keras.layers.Bidirectional(tf.keras.layers.LSTM(32, return_sequences=True)),\n",
    "    tf.keras.layers.Dense(10, activation=\"relu\"), \n",
    "    # tf.keras.layers.Dropout(0.5),\n",
    "    tf.keras.layers.Dense(3,activation=\"softmax\")\n",
    "])\n",
    "    model3.compile(loss=\"sparse_categorical_crossentropy\",\n",
    "              optimizer='adam',\n",
    "              metrics=[\"accuracy\"])\n",
    "    return model3\n",
    "\n",
    "#Simple RNN \n",
    "def RNN_model(sampLen,no_bands):\n",
    "    model4 = tf.keras.models.Sequential([\n",
    "    tf.keras.layers.SimpleRNN(40, input_shape = (sampLen,32*no_bands),return_sequences=True),\n",
    "    tf.keras.layers.SimpleRNN(40),\n",
    "    # tf.keras.layers.Dense(10,activation=\"relu\",input_shape=(12,32)),\n",
    "    tf.keras.layers.Dense(3,activation=\"softmax\"),\n",
    "    ])\n",
    "    model4.compile(loss=\"sparse_categorical_crossentropy\",\n",
    "                optimizer='adam',\n",
    "                metrics=[\"accuracy\"])\n",
    "    return model4\n",
    "\n",
    "#LSTM only\n",
    "\n",
    "def LSTM_model(sampLen,no_bands):\n",
    "    model5 = tf.keras.models.Sequential([\n",
    "    # tf.keras.layers.Flatten(input_shape=(sampLen,32)),\n",
    "    tf.keras.layers.Bidirectional(tf.keras.layers.LSTM(32, return_sequences=True,input_shape=(sampLen,32*no_bands))),\n",
    "    tf.keras.layers.Bidirectional(tf.keras.layers.LSTM(32, return_sequences=True)),\n",
    "    tf.keras.layers.Flatten(),\n",
    "    tf.keras.layers.Dense(10,activation=\"relu\"),\n",
    "    tf.keras.layers.Dense(3,activation=\"softmax\"),\n",
    "    ])\n",
    "    model5.compile(loss=\"sparse_categorical_crossentropy\",\n",
    "                optimizer='adam',\n",
    "                metrics=[\"accuracy\"])\n",
    "    return model5"
   ]
  },
  {
   "cell_type": "code",
   "execution_count": 11,
   "metadata": {},
   "outputs": [],
   "source": [
    "def test(model,dataset,devset,batchsize,epochs):\n",
    "    tf.random.set_seed(10)\n",
    "    datasetb = dataset.batch(batchsize)\n",
    "    devsetb = devset.batch(batchsize)\n",
    "    history = model.fit(datasetb,epochs=epochs,verbose=0,validation_data=devsetb)\n",
    "    return history "
   ]
  },
  {
   "cell_type": "code",
   "execution_count": 12,
   "metadata": {},
   "outputs": [],
   "source": [
    "# 0.05s \n",
    "dataset005 = tf.data.Dataset.from_tensor_slices((x_train005,y_train005))\n",
    "devset005  = tf.data.Dataset.from_tensor_slices((x_test005,y_test005))\n",
    "\n",
    "# 0.1s \n",
    "dataset01 = tf.data.Dataset.from_tensor_slices((x_train01,y_train01))\n",
    "devset01  = tf.data.Dataset.from_tensor_slices((x_test01,y_test01))"
   ]
  },
  {
   "cell_type": "code",
   "execution_count": 29,
   "metadata": {},
   "outputs": [
    {
     "output_type": "stream",
     "name": "stdout",
     "text": "WARNING:tensorflow:Layer bidirectional_1 is casting an input tensor from dtype float64 to the layer's dtype of float32, which is new behavior in TensorFlow 2.  The layer has dtype float32 because it's dtype defaults to floatx.\n\nIf you intended to run this layer in float32, you can safely ignore this warning. If in doubt, this warning is likely only an issue if you are porting a TensorFlow 1.X model to TensorFlow 2.\n\nTo change all layers to have dtype float64 by default, call `tf.keras.backend.set_floatx('float64')`. To change just this layer, pass dtype='float64' to the layer constructor. If you are the author of this layer, you can disable autocasting by passing autocast=False to the base Layer constructor.\n\n0.3890577554702759\n0.3890577554702759\n0.3890577554702759\n0.4057750701904297\n0.3358662724494934\n"
    }
   ],
   "source": [
    "# 0.05s \n",
    "# Testing different models, epochs=10, batchsize = 1 \n",
    "sampLen = 6 \n",
    "no_bands = 2\n",
    "batchsize = 1\n",
    "DNN_model005 = DNN_model(sampLen,no_bands)\n",
    "CONV_model005 = CONV_model(sampLen,no_bands)\n",
    "CONV_LSTM_model005 = CONV_LSTM_model(sampLen,no_bands)\n",
    "LSTM_model005 = LSTM_model(sampLen,no_bands)\n",
    "RNN_model005 = RNN_model(sampLen,no_bands)\n",
    "#Histories \n",
    "DNN_hist005 = test(DNN_model005,dataset005,devset005,batchsize,10)\n",
    "CONV_hist005 = test(CONV_model005,dataset005,devset005,batchsize,10)\n",
    "CONV_LSTM_hist005 = test(CONV_LSTM_model005,dataset005,devset005,batchsize,10)\n",
    "LSTM_hist005 = test(LSTM_model005,dataset005,devset005,batchsize,10)\n",
    "RNN_hist005 = test(RNN_model005,dataset005,devset005,batchsize,10)\n",
    "#Max validation accuracy \n",
    "valacc_DNN005 = max(DNN_hist005.history['val_accuracy'])\n",
    "valacc_CONV005 = max(CONV_hist005.history['val_accuracy'])\n",
    "valacc_CONVLSTM005 = max(CONV_LSTM_hist005.history['val_accuracy'])\n",
    "valacc_LSTM005 = max(LSTM_hist005.history['val_accuracy'])\n",
    "valacc_RNN005 = max(RNN_hist005.history['val_accuracy'])\n",
    "\n",
    "print(valacc_DNN005)\n",
    "print(valacc_CONV005)\n",
    "print(valacc_CONVLSTM005)\n",
    "print(valacc_LSTM005)\n",
    "print(valacc_RNN005)"
   ]
  },
  {
   "cell_type": "code",
   "execution_count": 13,
   "metadata": {},
   "outputs": [
    {
     "output_type": "stream",
     "name": "stdout",
     "text": "WARNING:tensorflow:Layer bidirectional_1 is casting an input tensor from dtype float64 to the layer's dtype of float32, which is new behavior in TensorFlow 2.  The layer has dtype float32 because it's dtype defaults to floatx.\n\nIf you intended to run this layer in float32, you can safely ignore this warning. If in doubt, this warning is likely only an issue if you are porting a TensorFlow 1.X model to TensorFlow 2.\n\nTo change all layers to have dtype float64 by default, call `tf.keras.backend.set_floatx('float64')`. To change just this layer, pass dtype='float64' to the layer constructor. If you are the author of this layer, you can disable autocasting by passing autocast=False to the base Layer constructor.\n\n0.3890577554702759\n0.3890577554702759\n0.3890577554702759\n0.4133738577365875\n0.3799391984939575\n"
    }
   ],
   "source": [
    "# 0.1s \n",
    "# Testing different models, epochs=10, batchsize = 1 \n",
    "sampLen = 12\n",
    "no_bands = 2\n",
    "batchsize = 1\n",
    "DNN_model01 = DNN_model(sampLen,no_bands)\n",
    "CONV_model01 = CONV_model(sampLen,no_bands)\n",
    "CONV_LSTM_model01 = CONV_LSTM_model(sampLen,no_bands)\n",
    "LSTM_model01 = LSTM_model(sampLen,no_bands)\n",
    "RNN_model01 = RNN_model(sampLen,no_bands)\n",
    "#Histories \n",
    "DNN_hist01 = test(DNN_model01,dataset01,devset01,batchsize,10)\n",
    "CONV_hist01 = test(CONV_model01,dataset01,devset01,batchsize,10)\n",
    "CONV_LSTM_hist01 = test(CONV_LSTM_model01,dataset01,devset01,batchsize,10)\n",
    "LSTM_hist01 = test(LSTM_model01,dataset01,devset01,batchsize,10)\n",
    "RNN_hist01 = test(RNN_model01,dataset01,devset01,batchsize,10)\n",
    "#Max validation accuracy \n",
    "valacc_DNN01 = max(DNN_hist01.history['val_accuracy'])\n",
    "valacc_CONV01 = max(CONV_hist01.history['val_accuracy'])\n",
    "valacc_CONVLSTM01 = max(CONV_LSTM_hist01.history['val_accuracy'])\n",
    "valacc_LSTM01 = max(LSTM_hist01.history['val_accuracy'])\n",
    "valacc_RNN01 = max(RNN_hist01.history['val_accuracy'])\n",
    "\n",
    "print(valacc_DNN01)\n",
    "print(valacc_CONV01)\n",
    "print(valacc_CONVLSTM01)\n",
    "print(valacc_LSTM01)\n",
    "print(valacc_RNN01)"
   ]
  }
 ],
 "metadata": {
  "language_info": {
   "codemirror_mode": {
    "name": "ipython",
    "version": 3
   },
   "file_extension": ".py",
   "mimetype": "text/x-python",
   "name": "python",
   "nbconvert_exporter": "python",
   "pygments_lexer": "ipython3",
   "version": "3.7.3-final"
  },
  "orig_nbformat": 2,
  "kernelspec": {
   "name": "python37364bita8e6d15a408c4f89b0e1dbbe6fd633cc",
   "display_name": "Python 3.7.3 64-bit"
  }
 },
 "nbformat": 4,
 "nbformat_minor": 2
}