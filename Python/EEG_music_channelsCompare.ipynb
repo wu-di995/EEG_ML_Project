{
 "cells": [
  {
   "cell_type": "markdown",
   "metadata": {},
   "source": [
    "## EEG Music compare effects of channels\n",
    "\n",
    "Using theta-alpha bands, welch's method features, using linear SVM kernel to determine feature importance "
   ]
  },
  {
   "cell_type": "code",
   "execution_count": 101,
   "metadata": {},
   "outputs": [],
   "source": [
    "#Import necessary libraries\n",
    "\n",
    "import pandas as pd\n",
    "import numpy as np\n",
    "from scipy import signal\n",
    "import os\n",
    "import matplotlib.pyplot as plt\n",
    "import matplotlib.patches as mpatches\n",
    "import pickle as pkl\n",
    "import itertools \n",
    "import glob\n",
    "from sklearn import svm \n",
    "from sklearn.preprocessing import StandardScaler\n",
    "from sklearn.model_selection import StratifiedShuffleSplit, GridSearchCV\n",
    "from sklearn.metrics import classification_report, confusion_matrix, plot_confusion_matrix\n",
    "from sklearn.decomposition import PCA\n",
    "from spectrum import data_cosine, dpss, pmtm\n",
    "\n",
    "\n",
    "# %matplotlib inline \n",
    "%matplotlib qt\n",
    "\n"
   ]
  },
  {
   "cell_type": "code",
   "execution_count": 2,
   "metadata": {},
   "outputs": [],
   "source": [
    "# Directories to load feature scaled datasets\n",
    "loaddir = 'F:\\EEG-data\\music\\channel_comparison\\\\featureScaled/'\n",
    "loadAUC_dir = loaddir+'AUC/'\n",
    "loadPSD_dir = loaddir+'PSD/'\n",
    "loadAUC_PSD_dir = loaddir+'AUC_PSD/'\n",
    "\n",
    "# Directories to save results\n",
    "savedir = \"F:\\EEG-data\\music\\channel_comparison\\PCA_CV_results/\"\n",
    "saveAUC_dir = savedir+'AUC/'\n",
    "savePSD_dir = savedir+'PSD/'\n",
    "saveAUC_PSD_dir = savedir+'AUC_PSD/'"
   ]
  },
  {
   "cell_type": "code",
   "execution_count": 3,
   "metadata": {},
   "outputs": [],
   "source": [
    "# Cross-validation for SVM \n",
    "## Should not do PCA because we want to understand channel information\n",
    "## 80% training set, 20% test set\n",
    "## 5 fold cross validation\n",
    "def apply_PCA_CV_SVM(loaddir,savedir):\n",
    "    files = glob.glob(loaddir+'*.pkl')\n",
    "    sss = StratifiedShuffleSplit(n_splits=5,test_size=0.2,random_state=0)\n",
    "    testdir = savedir+'testResults/'\n",
    "    bestF1 = {'F1 Score':0,'dataset':'','params':''}\n",
    "    test_results = {'F1 Score':[],'dataset':[],'params':[]}\n",
    "    coeff_results = {'dataset':[],'coeff':[]}\n",
    "    #Instantiate SVM gridsearch\n",
    "    C_range = [1,10]\n",
    "    param_grid= [\n",
    "                {'C': C_range, 'kernel': ['linear']},\n",
    "                # {'C': C_range, 'gamma': [0.001, 0.0001, 'auto', 'scale'], 'kernel': ['rbf']},\n",
    "                ]\n",
    "    scoring = {'accuracy','f1_macro'}\n",
    "    clf = svm.SVC()\n",
    "    grid = GridSearchCV(clf,param_grid=param_grid,scoring=scoring,cv=5,refit='f1_macro')\n",
    "    #Apply PCA and Gridsearch\n",
    "    for file in files:\n",
    "        #Create filenames for saving\n",
    "        cv_filename = file.split(\"\\\\\")[-1].rstrip('.pkl') +'_CV_results.pkl'\n",
    "        df = pd.read_pickle(file)\n",
    "        X = df.iloc[:,:-1].values\n",
    "        y = df.iloc[:,-1].values\n",
    "        #Split into training and test sets\n",
    "        for train_index, test_index in sss.split(X,y):\n",
    "            X_train, X_test = X[train_index],X[test_index]\n",
    "            y_train, y_test = y[train_index],y[test_index]\n",
    "        #Gridsearch\n",
    "        grid = grid.fit(X_train,y_train)\n",
    "        #Get results\n",
    "        results_df = pd.DataFrame(grid.cv_results_)\n",
    "        #Save results\n",
    "        results_df.to_pickle(savedir+cv_filename)\n",
    "        #Export as csv \n",
    "        results_df.to_csv(savedir+cv_filename+'.csv')\n",
    "        #Fit SVM on best parameters \n",
    "        best_params = results_df.loc[results_df['rank_test_f1_macro'].idxmin()]['params']\n",
    "        \n",
    "        clf = svm.SVC(**best_params)\n",
    "        clf.fit(X_train,y_train)\n",
    "        y_pred = clf.predict(X_test)\n",
    "\n",
    "        df_name = file.split(\"\\\\\")[-1].rstrip('.pkl')\n",
    "        coeff_results['dataset'].append(df_name)\n",
    "        coeff_results['coeff'].append(clf.coef_)\n",
    "\n",
    "\n",
    "        y_pred_list = [y_pred]\n",
    "        x_test_list = [X_test]\n",
    "        clf_list = [clf]\n",
    "        best_params_list =[best_params]\n",
    "\n",
    "        #Generate and save classification report, macro-avg f1 score, confusion matrix\n",
    "        \n",
    "        target_names = ['C','H','W']\n",
    "        names_list = ['1']\n",
    "        for i in range(len(y_pred_list)):\n",
    "            df_name = file.split(\"\\\\\")[-1].rstrip('.pkl')+'_'+names_list[i]\n",
    "            report_name = file.split(\"\\\\\")[-1].rstrip('.pkl') + '_'+names_list[i]+'_PCA_CV_SVM_clf_report'\n",
    "            cm_name = file.split(\"\\\\\")[-1].rstrip('.pkl') + '_'+names_list[i]+'_PCA_CV_SVM_ConfusionMatrix'\n",
    "            ##Classification report \n",
    "            report = classification_report(y_test, y_pred_list[i], target_names=target_names, output_dict=True)\n",
    "            report_df = pd.DataFrame(report).transpose()\n",
    "            report_df.to_pickle(testdir+report_name+'.pkl')\n",
    "            ##Macro-avg f1 score \n",
    "            f1Score = report['macro avg']['f1-score']\n",
    "            test_results['F1 Score'].append(f1Score)\n",
    "            test_results['dataset'].append(df_name)\n",
    "            test_results['params'].append(best_params_list[i])\n",
    "            test_results_df = pd.DataFrame(test_results)\n",
    "            if bestF1['F1 Score']<f1Score:\n",
    "                bestF1['F1 Score'] = f1Score\n",
    "                bestF1['dataset'] = df_name\n",
    "                bestF1['params'] = str(best_params_list[i])\n",
    "            ##Confusion matrix\n",
    "            fig,ax = plt.subplots()\n",
    "            ax.set_title(df_name+' CM')\n",
    "            plot_confusion_matrix(clf_list[i],x_test_list[i],y_test,labels=target_names,ax=ax,normalize='true')\n",
    "            plt.savefig(testdir+df_name+'.png')\n",
    "            plt.close()\n",
    "\n",
    "    coeff_df = pd.DataFrame(coeff_results,columns=['dataset','coeff'])\n",
    "    coeff_df.to_csv(testdir+'coefficients.csv')\n",
    "\n",
    "    bestF1_df = pd.DataFrame(bestF1,index=[0],columns=['F1 Score','dataset','params'])\n",
    "    bestF1_df.to_csv(testdir+bestF1['dataset']+'.csv')\n",
    "    test_results_df.to_csv(testdir+'test_results.csv')\n",
    "    test_results_df.to_csv(testdir+'test_results.pkl')\n",
    "        \n",
    "\n",
    "\n",
    "apply_PCA_CV_SVM(loadAUC_dir,saveAUC_dir)\n",
    "apply_PCA_CV_SVM(loadPSD_dir,savePSD_dir)\n",
    "apply_PCA_CV_SVM(loadAUC_PSD_dir,saveAUC_PSD_dir)\n"
   ]
  },
  {
   "cell_type": "code",
   "execution_count": 6,
   "metadata": {},
   "outputs": [],
   "source": [
    "# Directories for channel comparison results\n",
    "resdir = \"F:\\EEG-data\\music\\channel_comparison\\PCA_CV_results/\"\n",
    "resAUC_dir = resdir+'AUC/testResults/'\n",
    "resPSD_dir = resdir+'PSD/testResults/'\n",
    "resAUC_PSD_dir = resdir+'AUC_PSD/testResults/'"
   ]
  },
  {
   "cell_type": "code",
   "execution_count": 98,
   "metadata": {},
   "outputs": [],
   "source": [
    "#AUC only\n",
    "auc_coeff = pd.read_csv(resAUC_dir+'coefficients.csv')\n",
    "auc_coeff_array = auc_coeff['coeff'].values\n",
    "no_features = 32\n",
    "auc_coeff_split_list = auc_coeff_array[0].strip(\"[]\").split(\" \")\n",
    "auc_coeff_dict = {\"CH_feat\":[],\"CW_feat\":[],\"HW_feat\":[]}\n",
    "count = 0\n",
    "for i in range(len(auc_coeff_split_list)):\n",
    "    if len(auc_coeff_split_list[i])>1:\n",
    "        num = ''\n",
    "        for j in auc_coeff_split_list[i]:\n",
    "            if j in '.e0123456789-':\n",
    "                num+=j\n",
    "        num = abs(float(num))\n",
    "        if len(auc_coeff_dict['CH_feat'])<64:\n",
    "            auc_coeff_dict['CH_feat'].append(num)\n",
    "        elif len(auc_coeff_dict['CW_feat'])<64:\n",
    "            auc_coeff_dict['CW_feat'].append(num)\n",
    "        else:\n",
    "            auc_coeff_dict['HW_feat'].append(num)\n",
    "\n",
    "feature_names_theta = [\"Ch\"+str(x+1)+\"_theta\" for x in range(32)]\n",
    "feature_names_alpha = [\"Ch\"+str(x+1)+\"_alpha\" for x in range(32)]\n",
    "feature_names = np.array(feature_names_theta+feature_names_alpha)\n",
    "\n",
    "top_CH_coeff = np.argsort(auc_coeff_dict[\"CH_feat\"])[:10]\n",
    "top_CW_coeff = np.argsort(auc_coeff_dict[\"CW_feat\"])[:10]\n",
    "top_HW_coeff = np.argsort(auc_coeff_dict[\"HW_feat\"])[:10]"
   ]
  },
  {
   "cell_type": "code",
   "execution_count": 103,
   "metadata": {},
   "outputs": [
    {
     "output_type": "stream",
     "name": "stdout",
     "text": "['Ch7_alpha' 'Ch2_alpha' 'Ch10_alpha' 'Ch2_theta' 'Ch29_theta' 'Ch3_theta'\n 'Ch11_alpha' 'Ch15_alpha' 'Ch1_alpha' 'Ch6_alpha']\n"
    },
    {
     "output_type": "execute_result",
     "data": {
      "text/plain": "Text(0.5, 1.0, 'Music: Classical vs Hip-Hop Top 10 features, AUC only')"
     },
     "metadata": {},
     "execution_count": 103
    }
   ],
   "source": [
    "print(feature_names[top_CH_coeff])\n",
    "plt.bar(feature_names[top_CH_coeff],np.array(auc_coeff_dict[\"CH_feat\"])[top_CH_coeff])\n",
    "plt.title(\"Music: Classical vs Hip-Hop Top 10 features, AUC only\")"
   ]
  },
  {
   "cell_type": "code",
   "execution_count": 105,
   "metadata": {},
   "outputs": [
    {
     "output_type": "stream",
     "name": "stdout",
     "text": "['Ch11_alpha' 'Ch26_alpha' 'Ch25_theta' 'Ch24_theta' 'Ch6_theta'\n 'Ch25_alpha' 'Ch3_theta' 'Ch13_theta' 'Ch5_theta' 'Ch24_alpha']\n"
    },
    {
     "output_type": "execute_result",
     "data": {
      "text/plain": "Text(0.5, 1.0, 'Music: Classical vs Whitenoise Top 10 features, AUC only')"
     },
     "metadata": {},
     "execution_count": 105
    }
   ],
   "source": [
    "print(feature_names[top_CW_coeff])\n",
    "plt.bar(feature_names[top_CW_coeff],np.array(auc_coeff_dict[\"CW_feat\"])[top_CW_coeff])\n",
    "plt.title(\"Music: Classical vs Whitenoise Top 10 features, AUC only\")"
   ]
  },
  {
   "cell_type": "code",
   "execution_count": 106,
   "metadata": {},
   "outputs": [
    {
     "output_type": "stream",
     "name": "stdout",
     "text": "['Ch16_alpha' 'Ch30_theta' 'Ch10_alpha' 'Ch23_alpha' 'Ch5_alpha'\n 'Ch9_alpha' 'Ch21_theta' 'Ch28_theta' 'Ch6_alpha' 'Ch8_alpha']\n"
    },
    {
     "output_type": "execute_result",
     "data": {
      "text/plain": "Text(0.5, 1.0, 'Music: Hip-Hop vs Whitenoise Top 10 features, AUC only')"
     },
     "metadata": {},
     "execution_count": 106
    }
   ],
   "source": [
    "print(feature_names[top_HW_coeff])\n",
    "plt.bar(feature_names[top_HW_coeff],np.array(auc_coeff_dict[\"HW_feat\"])[top_HW_coeff])\n",
    "plt.title(\"Music: Hip-Hop vs Whitenoise Top 10 features, AUC only\")"
   ]
  },
  {
   "cell_type": "code",
   "execution_count": 46,
   "metadata": {},
   "outputs": [
    {
     "output_type": "stream",
     "name": "stdout",
     "text": "['', '3.05534262e-05', '', '1.62994630e-06', '', '1.94907005e-06', '', '4.19017998e-05\\n', '', '-5.18407729e-05', '-2.70846634e-05', '', '5.69198970e-06', '', '2.11566881e-05\\n', '', '-1.84258801e-05', '-5.11040217e-05', '-9.69757833e-06', '', '1.94537522e-05\\n', '', '', '5.05741847e-05', '-1.14444394e-05', '', '1.45508843e-05', '', '5.00372714e-05\\n', '', '-2.60584952e-05', '', '2.88357531e-05', '-5.31262064e-05', '', '4.05577525e-05\\n', '', '', '2.38680088e-05', '', '1.03046200e-05', '-9.71248473e-06', '', '5.54147150e-05\\n', '', '-4.33371290e-05', '', '4.66305935e-05', '', '2.87340000e-05', '-1.26510949e-05\\n', '', '', '1.80935521e-06', '', '1.36339819e-05', '', '9.59430429e-05', '-9.26609671e-05\\n', '', '-3.61819861e-06', '-3.35852434e-07', '-5.73200873e-05', '', '9.73929130e-06\\n', '', '', '4.33890609e-05', '', '4.94115062e-06', '-2.19272195e-07', '-1.11081518e-05\\n', '', '', '1.50689974e-05', '-8.54784759e-07', '-2.77525101e-06', '', '3.26678433e-05\\n', '', '', '7.47756229e-05', '-6.83952479e-05', '', '3.22269091e-06', '-5.09455969e-05\\n', '', '', '1.79937644e-05', '', '3.97160121e-05', '-1.58855257e-05', '', '1.15781646e-05\\n', '', '', '5.01182289e-05', '-4.34382132e-05', '-2.64789761e-05', '', '2.55831984e-05\\n', '', '-3.13997333e-05', '-3.10379287e-05', '', '4.04562065e-05', '-5.78585724e-05\\n', '', '', '2.06111872e-05', '-7.72383865e-06', '', '8.01475163e-05', '', '6.72180366e-06]\\n', '[-3.19975012e-02', '', '3.40016037e-01', '', '1.87662124e-02', '-1.40916021e-01\\n', '', '', '2.08506429e-02', '-1.01131791e-02', '', '5.47264113e-02', '-3.13065146e-02\\n', '', '', '1.18950472e-01', '-1.55982710e-01', '-6.02440911e-02', '', '2.31615197e-02\\n', '', '', '2.07970658e-02', '', '1.09298115e-01', '-3.46969485e-02', '', '6.50184843e-02\\n', '', '-9.48723929e-02', '', '1.35284327e-01', '-1.68340976e-01', '-6.35558940e-02\\n', '', '', '1.51442834e-01', '', '3.16222630e-02', '-7.10842955e-02', '-8.65755061e-03\\n', '', '', '4.19794625e-03', '-6.01951084e-02', '', '3.05311964e-02', '', '4.48416310e-02\\n', '', '', '2.26867234e-02', '', '1.00166121e-01', '', '7.09378918e-02', '', '1.60549121e-01\\n', '', '-3.16064875e-02', '-1.84556594e-01', '', '1.83007460e-01', '', '2.23910321e-01\\n', '', '-9.15045885e-02', '', '8.78486486e-02', '-1.42879152e-01', '-3.10991033e-01\\n', '', '-1.42913537e-01', '', '1.11116327e-01', '-5.84505477e-04', '', '4.01951173e-01\\n', '', '', '2.37962165e-01', '-1.31067789e-01', '', '6.18700636e-02', '-2.19276721e-01\\n', '', '-4.54383436e-01', '', '2.16779539e-02', '', '1.51480807e-01', '-1.13667322e-01\\n', '', '', '2.98950627e-01', '-7.99446492e-02', '-1.36495240e-01', '-2.12091229e-02\\n', '', '-1.03163525e-02', '', '3.61423248e-03', '', '2.72784533e-01', '', '8.74919669e-02\\n', '', '-2.12769545e-01', '-6.66619894e-02', '-1.52768766e-01', '', '1.38323148e-01]\\n', '[-8.30941482e-06', '', '1.66749081e-04', '-6.85711086e-05', '-4.42246837e-05\\n', '', '', '4.24765839e-05', '', '1.47941898e-05', '', '1.05026589e-05', '-7.92106331e-05\\n', '', '-1.65930212e-05', '', '1.15366927e-04', '-4.49765262e-05', '-2.74513098e-05\\n', '', '', '2.54233705e-05', '-3.20886576e-05', '-6.58860942e-06', '', '1.30932153e-05\\n', '', '-1.60549041e-05', '', '2.02630202e-05', '', '1.55000696e-05', '', '2.03304613e-05\\n', '', '', '4.21477543e-06', '-5.53631281e-05', '-5.29832027e-06', '-1.06636127e-05\\n', '', '-2.17827781e-05', '-4.27328394e-05', '', '1.65971454e-05', '-4.76327153e-06\\n', '', '', '3.43402937e-05', '', '5.30747769e-07', '', '3.52067487e-05', '', '7.11390605e-05\\n', '', '', '2.60609790e-05', '', '3.71161883e-05', '-2.64481646e-05', '', '2.83081403e-05\\n', '', '', '2.89337567e-06', '-4.97609827e-06', '', '2.08070695e-05', '', '5.06190573e-06\\n', '', '-4.15411975e-06', '', '1.68765675e-06', '-7.11063694e-05', '-1.77679482e-05\\n', '', '', '3.77026361e-05', '-1.78985811e-05', '', '5.24492509e-05', '-1.63524248e-07\\n', '', '-5.63266211e-05', '', '2.00567966e-05', '', '4.36074969e-05', '', '1.51582148e-05\\n', '', '-7.77992222e-05', '', '9.43777846e-05', '', '1.98536075e-06', '-6.40895297e-06\\n', '', '', '3.50382350e-05', '-1.47441714e-05', '-2.50144504e-05', '-1.60529783e-05\\n', '', '-1.67236566e-05', '', '6.93035179e-06', '', '8.02025602e-06', '-1.44185728e-05']\n"
    }
   ],
   "source": [
    "print(auc_coeff_arrays[0].strip(\"[]\").split(\" \"))"
   ]
  },
  {
   "cell_type": "code",
   "execution_count": null,
   "metadata": {},
   "outputs": [],
   "source": []
  },
  {
   "cell_type": "code",
   "execution_count": null,
   "metadata": {},
   "outputs": [],
   "source": []
  },
  {
   "cell_type": "code",
   "execution_count": null,
   "metadata": {},
   "outputs": [],
   "source": []
  }
 ],
 "metadata": {
  "language_info": {
   "codemirror_mode": {
    "name": "ipython",
    "version": 3
   },
   "file_extension": ".py",
   "mimetype": "text/x-python",
   "name": "python",
   "nbconvert_exporter": "python",
   "pygments_lexer": "ipython3",
   "version": "3.7.3-final"
  },
  "orig_nbformat": 2,
  "kernelspec": {
   "name": "python37364bit4f00f251aa71407b905d36ad95b25cdd",
   "display_name": "Python 3.7.3 64-bit"
  }
 },
 "nbformat": 4,
 "nbformat_minor": 2
}