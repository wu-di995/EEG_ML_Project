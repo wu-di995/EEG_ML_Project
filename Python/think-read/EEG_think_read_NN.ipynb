{
 "cells": [
  {
   "cell_type": "markdown",
   "metadata": {},
   "source": [
    "## Neural Networks with PSD features, theta and alpha bands only\n"
   ]
  },
  {
   "cell_type": "code",
   "execution_count": 1,
   "metadata": {},
   "outputs": [],
   "source": [
    "#Import necessary libraries\n",
    "\n",
    "import pandas as pd\n",
    "import numpy as np\n",
    "from scipy import signal\n",
    "import os\n",
    "import matplotlib.pyplot as plt\n",
    "import matplotlib.patches as mpatches\n",
    "import pickle as pkl\n",
    "import itertools \n",
    "import glob\n",
    "from sklearn import svm \n",
    "from sklearn.preprocessing import StandardScaler, LabelEncoder\n",
    "from sklearn.model_selection import StratifiedShuffleSplit, GridSearchCV, cross_val_score\n",
    "from sklearn.metrics import classification_report, confusion_matrix, plot_confusion_matrix, f1_score\n",
    "from sklearn.decomposition import PCA\n",
    "import tensorflow as tf\n",
    "from tensorflow import keras\n",
    "from tensorflow.keras.wrappers.scikit_learn import KerasClassifier\n",
    "\n",
    "%matplotlib inline \n",
    "# %matplotlib qt\n"
   ]
  },
  {
   "cell_type": "code",
   "execution_count": 2,
   "metadata": {},
   "outputs": [],
   "source": [
    "# Import datasets\n",
    "psd_df = pd.read_pickle(\"F:\\EEG-data\\\\think-read\\\\featureExtraction\\PSD_only\\PSD_df_12.pkl\")\n",
    "auc_df = pd.read_pickle(\"F:\\EEG-data\\\\think-read\\\\featureExtraction\\AUC_only\\AUC_df_12.pkl\")\n",
    "AP_df = pd.read_pickle(\"F:\\EEG-data\\\\think-read\\\\featureExtraction\\AUC_PSD\\AUC_PSD_df_12.pkl\")"
   ]
  },
  {
   "cell_type": "code",
   "execution_count": 3,
   "metadata": {},
   "outputs": [],
   "source": [
    "#Baseline model\n",
    "def baseline_func(no_features):\n",
    "    ANN_model = keras.Sequential([\n",
    "    # keras.layers.Flatten(input_shape=(8,32)),\n",
    "    keras.layers.Dense(no_features,input_dim=no_features,activation='relu'),\n",
    "    keras.layers.Dense(no_features/2, activation='relu'),\n",
    "    keras.layers.Dense(no_features/4, activation='relu'),\n",
    "    keras.layers.Dense(1,activation='sigmoid')])\n",
    "\n",
    "    ANN_model.compile(optimizer=\"adam\",\n",
    "                loss=\"binary_crossentropy\",\n",
    "                metrics = ['accuracy'])\n",
    "    return ANN_model\n",
    "\n",
    "#Cross Validation and Prediction\n",
    "def apply_CV_predict(baseline_func,df,filename,savedir):\n",
    "    #Split into training and test sets \n",
    "    class_names = [\"T\",\"R\"]\n",
    "    X = df.iloc[:,:-1].values.astype(np.float32)\n",
    "    y = df['Action'].apply(class_names.index).values.astype(np.float32)\n",
    "    sss = StratifiedShuffleSplit(n_splits=5,test_size=0.2,random_state=0)\n",
    "    for train_index, test_index in sss.split(X,y):\n",
    "                X_train, X_test = X[train_index],X[test_index]\n",
    "                y_train, y_test = y[train_index],y[test_index]\n",
    "    no_features = X.shape[1]\n",
    "    #Cross Validation \n",
    "    epochsList = list(range(1,20))\n",
    "    mean_results = [] \n",
    "    kfold = StratifiedShuffleSplit(n_splits=10)\n",
    "    for epoch in epochsList:\n",
    "        estimator=KerasClassifier(build_fn=lambda:baseline_func(no_features),epochs=epoch,batch_size=5,verbose=0)\n",
    "        result = np.mean(cross_val_score(estimator,X_train,y_train,cv=kfold,scoring=\"f1_macro\"))\n",
    "        mean_results.append(result)\n",
    "    mean_results = np.array(mean_results)\n",
    "    best_epoch = epochsList[np.argmax(mean_results)]\n",
    "    #Test set evaluation\n",
    "    final_estimator = KerasClassifier(build_fn=lambda:baseline_func(no_features),epochs=best_epoch,batch_size=5,verbose=0)\n",
    "    final_estimator.fit(X_train,y_train)\n",
    "    y_pred = final_estimator.predict(X_test)\n",
    "    #F1 Score\n",
    "    f1Score = f1_score(y_test,y_pred)\n",
    "    #Confusion matrix\n",
    "    cm = confusion_matrix(y_test,y_pred,normalize='true')\n",
    "    # fig,ax = plt.subplots()\n",
    "    # ax.set_title(filename+'CM')\n",
    "    # plot_confusion_matrix(final_estimator,X_test,y_test,labels=class_names,ax=ax,normalize='true')\n",
    "    # plt.savefig(savedir+filename+'.png')\n",
    "    # plt.close()\n",
    "    return f1Score,cm"
   ]
  },
  {
   "cell_type": "code",
   "execution_count": 4,
   "metadata": {},
   "outputs": [
    {
     "output_type": "stream",
     "name": "stdout",
     "text": "WARNING:tensorflow:From C:\\Users\\Wu Di\\lib\\site-packages\\tensorflow\\python\\keras\\wrappers\\scikit_learn.py:241: Sequential.predict_classes (from tensorflow.python.keras.engine.sequential) is deprecated and will be removed after 2021-01-01.\nInstructions for updating:\nPlease use instead:* `np.argmax(model.predict(x), axis=-1)`,   if your model does multi-class classification   (e.g. if it uses a `softmax` last-layer activation).* `(model.predict(x) > 0.5).astype(\"int32\")`,   if your model does binary classification   (e.g. if it uses a `sigmoid` last-layer activation).\n"
    }
   ],
   "source": [
    "#Directories to save to\n",
    "savedir = \"F:\\EEG-data\\\\think-read\\ANN/\"\n",
    "PSD_filename = \"PSD_\"\n",
    "AUC_filename = \"AUC_\"\n",
    "AP_filename = \"AP_\"\n",
    "\n",
    "PSD_f1Score,PSD_cm = apply_CV_predict(baseline_func,psd_df,PSD_filename,savedir)"
   ]
  },
  {
   "cell_type": "code",
   "execution_count": 5,
   "metadata": {},
   "outputs": [],
   "source": [
    "AUC_f1Score,AUC_cm = apply_CV_predict(baseline_func,auc_df,AUC_filename,savedir)\n"
   ]
  },
  {
   "cell_type": "code",
   "execution_count": 6,
   "metadata": {},
   "outputs": [],
   "source": [
    "AP_f1Score,AP_cm = apply_CV_predict(baseline_func,AP_df,AP_filename,savedir)"
   ]
  },
  {
   "cell_type": "code",
   "execution_count": 7,
   "metadata": {},
   "outputs": [
    {
     "output_type": "stream",
     "name": "stdout",
     "text": "PSD F1 Score: 0.8721804511278196\nAUC F1 Score: 0.8175182481751825\nAP F1 Score: 0.8656716417910447\n"
    }
   ],
   "source": [
    "print(\"PSD F1 Score:\",PSD_f1Score)\n",
    "print(\"AUC F1 Score:\",AUC_f1Score)\n",
    "print(\"AP F1 Score:\",AP_f1Score)"
   ]
  },
  {
   "cell_type": "code",
   "execution_count": 8,
   "metadata": {},
   "outputs": [
    {
     "output_type": "stream",
     "name": "stdout",
     "text": "[[0.828125 0.171875]\n [0.09375  0.90625 ]]\n[[0.734375 0.265625]\n [0.125    0.875   ]]\n[[0.8125  0.1875 ]\n [0.09375 0.90625]]\n"
    }
   ],
   "source": [
    "print(PSD_cm)\n",
    "print(AUC_cm)\n",
    "print(AP_cm)"
   ]
  },
  {
   "cell_type": "code",
   "execution_count": null,
   "metadata": {},
   "outputs": [],
   "source": []
  },
  {
   "cell_type": "code",
   "execution_count": null,
   "metadata": {},
   "outputs": [],
   "source": []
  },
  {
   "cell_type": "code",
   "execution_count": null,
   "metadata": {},
   "outputs": [],
   "source": []
  },
  {
   "cell_type": "code",
   "execution_count": null,
   "metadata": {},
   "outputs": [],
   "source": []
  },
  {
   "cell_type": "code",
   "execution_count": null,
   "metadata": {},
   "outputs": [],
   "source": []
  },
  {
   "cell_type": "code",
   "execution_count": null,
   "metadata": {},
   "outputs": [],
   "source": []
  },
  {
   "cell_type": "code",
   "execution_count": null,
   "metadata": {},
   "outputs": [],
   "source": []
  },
  {
   "cell_type": "code",
   "execution_count": null,
   "metadata": {},
   "outputs": [],
   "source": []
  },
  {
   "cell_type": "code",
   "execution_count": null,
   "metadata": {},
   "outputs": [],
   "source": []
  }
 ],
 "metadata": {
  "language_info": {
   "codemirror_mode": {
    "name": "ipython",
    "version": 3
   },
   "file_extension": ".py",
   "mimetype": "text/x-python",
   "name": "python",
   "nbconvert_exporter": "python",
   "pygments_lexer": "ipython3",
   "version": "3.7.3-final"
  },
  "orig_nbformat": 2,
  "kernelspec": {
   "name": "python37364bit4f00f251aa71407b905d36ad95b25cdd",
   "display_name": "Python 3.7.3 64-bit"
  }
 },
 "nbformat": 4,
 "nbformat_minor": 2
}